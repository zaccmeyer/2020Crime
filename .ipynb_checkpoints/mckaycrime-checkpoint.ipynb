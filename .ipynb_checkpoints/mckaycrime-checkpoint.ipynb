{
 "cells": [
  {
   "cell_type": "code",
   "execution_count": 5,
   "metadata": {},
   "outputs": [],
   "source": [
    "import numpy as np \n",
    "import pandas as pd\n",
    "from matplotlib import pyplot as plt\n",
    "from sklearn.datasets import load_iris\n",
    "from sklearn.model_selection import train_test_split\n",
    "from sklearn.neighbors import KNeighborsClassifier\n",
    "from sklearn.metrics import accuracy_score"
   ]
  },
  {
   "cell_type": "code",
   "execution_count": 2,
   "metadata": {},
   "outputs": [
    {
     "name": "stdout",
     "output_type": "stream",
     "text": [
      "67385\n"
     ]
    }
   ],
   "source": [
    "#DATA CLEANING CELL\n",
    "my_data = pd.read_csv('Crime_Data_from_2020_to_Present.csv')\n",
    "# print(len(my_data.columns))\n",
    "my_data = my_data.drop(columns=['Vict Descent','Status','Status Desc'])\n",
    "# print(len(my_data.columns))\n",
    "all_c = list(my_data.columns)\n",
    "final = []\n",
    "for i in all_c:\n",
    "    if 'Crm' not in i:\n",
    "        final.append(i)\n",
    "final.append('Crm Cd 1')\n",
    "# print(len(final))\n",
    "my_data.dropna(inplace=True,subset=final)\n",
    "# my_data = my_data[my_data['LON'] != 0]\n",
    "# my_data = my_data[my_data['LAT'] != 0]\n",
    "\n",
    "print(len(my_data))"
   ]
  },
  {
   "cell_type": "code",
   "execution_count": 7,
   "metadata": {},
   "outputs": [
    {
     "data": {
      "text/plain": [
       "'X = my_data[[\\'DR_NO\\', \\'Date Rptd\\', \\'DATE OCC\\', \\'TIME OCC\\', \\'AREA\\', \\'AREA NAME\\',\\n       \\'Rpt Dist No\\', \\'Part 1-2\\', \\'Mocodes\\',\\n       \\'Vict Age\\', \\'Vict Sex\\', \\'Premis Cd\\', \\'Premis Desc\\', \\'Weapon Used Cd\\',\\n       \\'Weapon Desc\\',\\n       \\'LOCATION\\', \\'Cross Street\\', \\'LAT\\', \\'LON\\']]\\ny = my_data[\\'Crm Cd\\']\\nX_train, X_test, y_train, y_test = train_test_split(X, y, test_size=0.2, random_state=42)\\nknn = KNeighborsClassifier(n_neighbors=3)\\nknn.fit(X_train, y_train)\\ny_pred = knn.predict(X_test)\\naccuracy = accuracy_score(y_test, y_pred)\\nprint(f\"Accuracy of KNN Classifier: {accuracy}\")'"
      ]
     },
     "execution_count": 7,
     "metadata": {},
     "output_type": "execute_result"
    }
   ],
   "source": [
    "#attempt to do KNN on our crime data \n",
    "#difficult to do because we don't have a distance fucntion for crimes\n",
    "\n",
    "'''X = my_data[['DR_NO', 'Date Rptd', 'DATE OCC', 'TIME OCC', 'AREA', 'AREA NAME',\n",
    "       'Rpt Dist No', 'Part 1-2', 'Mocodes',\n",
    "       'Vict Age', 'Vict Sex', 'Premis Cd', 'Premis Desc', 'Weapon Used Cd',\n",
    "       'Weapon Desc',\n",
    "       'LOCATION', 'Cross Street', 'LAT', 'LON']]\n",
    "y = my_data['Crm Cd']\n",
    "X_train, X_test, y_train, y_test = train_test_split(X, y, test_size=0.2, random_state=42)\n",
    "knn = KNeighborsClassifier(n_neighbors=3)\n",
    "knn.fit(X_train, y_train)\n",
    "y_pred = knn.predict(X_test)\n",
    "accuracy = accuracy_score(y_test, y_pred)\n",
    "print(f\"Accuracy of KNN Classifier: {accuracy}\")'''\n"
   ]
  },
  {
   "cell_type": "markdown",
   "metadata": {},
   "source": [
    "ABSTRACT"
   ]
  },
  {
   "cell_type": "markdown",
   "metadata": {},
   "source": [
    "We investigate ensemble learning methods, specifically Random Forests and Boosted Trees, to classify crime types utilizing data on incidents reported in Los Angeles County during the year 2020. The primary objective is to develop robust machine learning models capable of accurately predicting crime classifications based on various features associated with the reported incidents. Using data encompassing different attributes such as location, time, and other relevant factors, we aim to find relationships between these variables to enhance the classification accuracy of criminal activities. Through feature engineering and cross validation, we seek to achieve an enhanced understanding of crime patterns, enabling law enforcement agencies to improve resource allocation and response planning. The findings and insights derived from this research endeavor hold the potential to contribute significantly to the field of crime analysis and facilitate more efficient measures for aiding victims within Los Angeles County and beyond."
   ]
  },
  {
   "cell_type": "markdown",
   "metadata": {},
   "source": [
    "Los Angeles County has long been grappling with concerns surrounding its high crime rates. There is a wide variety of forms of criminal activities ranging from property crimes to violent offenses. Combatting this has been a consistent effort within the community and among law enforcement. While existing programs and resources offer support and aid to victims of many crimes, the efficiency of these could be greatly enhanced. Nationwide, many crime resources are in high demand, while others are going unused. The current system, though commendable, faces limitations in its ability to cater to the complex needs of crime victims. There exists a gap in the optimization of these programs, suggesting opportunities for improvement in their responses to distress calls and the following services. Enhancing these systems could better address the diverse needs and circumstances of victims, ensuring more effective aid and facilitating their path towards recovery and rehabilitation."
   ]
  },
  {
   "cell_type": "markdown",
   "metadata": {},
   "source": [
    "Source for crime rates in LA over time"
   ]
  },
  {
   "cell_type": "markdown",
   "metadata": {},
   "source": [
    "https://lasd.org/transparency/statistics/"
   ]
  },
  {
   "cell_type": "markdown",
   "metadata": {},
   "source": [
    "Sources about need for victim resources. Whether they are needed tbd"
   ]
  },
  {
   "cell_type": "markdown",
   "metadata": {},
   "source": [
    "https://time.com/5886815/crime-survivors-funding/"
   ]
  },
  {
   "cell_type": "markdown",
   "metadata": {},
   "source": [
    "https://www.ncbi.nlm.nih.gov/pmc/articles/PMC9837801/"
   ]
  },
  {
   "cell_type": "markdown",
   "metadata": {},
   "source": [
    "One way to improve these support systems is by analyzing crime data more systematically. By identifying trends and patterns in this data, it becomes possible to pinpoint areas with higher risks of certain crimes. This information can help in onsite assistance and emergency responses. It can also be used directing the county's resources, money, and services more strategically, making sure they're better suited to the specific needs of people and communities most impacted by crime. Using data from the crimes in LA county that were reported in 2020, we can create machine learning models to predict which areas of the county correlate to which crimes, assisting in the distribution of help resources."
   ]
  }
 ],
 "metadata": {
  "kernelspec": {
   "display_name": "Python 3 (ipykernel)",
   "language": "python",
   "name": "python3"
  },
  "language_info": {
   "codemirror_mode": {
    "name": "ipython",
    "version": 3
   },
   "file_extension": ".py",
   "mimetype": "text/x-python",
   "name": "python",
   "nbconvert_exporter": "python",
   "pygments_lexer": "ipython3",
   "version": "3.8.8"
  }
 },
 "nbformat": 4,
 "nbformat_minor": 2
}
