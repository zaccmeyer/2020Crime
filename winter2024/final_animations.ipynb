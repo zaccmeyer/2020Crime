{
 "cells": [
  {
   "cell_type": "markdown",
   "metadata": {},
   "source": [
    "# Houston, We Have an Optimization Problem\n",
    "J. BENNETT, M. DAVIS, Z. MEYER, M. SHIELDS, L. TOLMAN"
   ]
  },
  {
   "cell_type": "markdown",
   "metadata": {},
   "source": [
    "# Abstract"
   ]
  },
  {
   "cell_type": "markdown",
   "metadata": {},
   "source": [
    "In this project we attempt to solve an intricate optimal control problem. We want to understand the optimal path (in a two-dimensional world) from a spaceship back to the international space station in a given amount of time. In this scenario, \"optimal\" means minimizing fuel consumption, which we represent as acceleration. We also make this problem more complex by adding in asteroids that the spaceship must avoid. This traditionally would require inequality constraints, but we will utilize soft constraints instead. We run our solution first without asteroids and then make the problem more complex. We also animate our results to better understand and visualize the optimal path."
   ]
  },
  {
   "cell_type": "markdown",
   "metadata": {},
   "source": [
    "# Introduction"
   ]
  },
  {
   "cell_type": "markdown",
   "metadata": {},
   "source": [
    "Space travel has long fascinated humanity. In recent years, more and more space travel is occurring. Traveling in space presents many different and unique challenges. In our project, we attempt to better understand optimal paths for traveling in space. While we do simplify the problem in many ways (making it two dimensional, ignoring gravity, etc.) we still can learn a lot from optimal paths in our problem. We set up a problem where our spaceship is located at the origin in a two-dimensional world. We then try and find the optimal path back to the space station placed at $(1,1)$. In our most simplified model, we do not have any asteroids in the way. In space where there is no air resistance, once you are traveling a certain velocity you continue to travel at that velocity. This means we can minimize gas consumption by minimizing the acceleration in the $x$ and $y$ direction. This will give us our optimal path. In our first model, with no asteroids in the way, this should result in a straight path back to the space station.\n",
    "\n",
    "After getting this model to work, we complicate our model by adding asteroids. To avoid an asteroid, we could use inequality constraints with KKT conditions. However, due to the complexities of KKT conditions in optimal control, we can also handle this constraint as a soft constraint. We took the latter approach of adding the constraint into the cost functional. This essentially adds a cost to our functional when the spaceship is too close to the asteroid. We want this cost to vanish quickly when the spaceship is away from the asteroid, so it does not take a very suboptimal path. We also do not want this cost to vanish so quickly that the spaceship gets arbitrarily close to the asteroid. By adding this constraint to our cost functional, when we minimize our cost functional, we will minimize gas consumption and avoid the asteroids. After our first model, we will add an asteroid and find the optimal path. Then we will continue to add asteroids to see how our path changes. Finally, we will make the asteroids move instead of being stationary. \n",
    "\n",
    "In all of our models besides the last where we have the nonstationary asteroids, we use the following cost functional and state space.\n"
   ]
  },
  {
   "cell_type": "markdown",
   "metadata": {},
   "source": [
    "$$J[u] = \\int_0^{t_f} \\left [\\frac{1}{2}u_{x}(t)^2 + \\frac{1}{2}u_{y}(t)^2 + \\sum_{i = 1}^n \\frac{W_i}{\\left (\\frac{\\left(x(t) - c_x\\right)^2}{r_i} + \\frac{\\left(y(t) - c_y\\right)^2}{r_i} \\right)^{20}}\\right ] dt$$"
   ]
  },
  {
   "cell_type": "markdown",
   "metadata": {},
   "source": [
    "$$ S = \\begin{bmatrix}  x &  y & \\dot x & \\dot y  \\end{bmatrix}  ^T $$"
   ]
  },
  {
   "cell_type": "markdown",
   "metadata": {},
   "source": [
    "$$ \\dot S = \\begin{bmatrix} \\dot x & \\dot y & u_x & u_y  \\end{bmatrix}  ^T $$"
   ]
  },
  {
   "cell_type": "markdown",
   "metadata": {},
   "source": [
    "We use the cost functional defined above. In this cost functional $u_x$ and $u_y$ represent acceleration in the $x$ and $y$ direction. In the summation, $n$ represent the number of asteroids. So, if we do not have any asteroids, the summation does not exist. In the summation part of the cost functional, $W_i$ is the weight of the ith asteroid (the cost of getting too close or hitting the asteroid) and $c_{x_i}$, $c_{y_i}$, and $r_i$ define the center and radius of the ith asteroid. With our cost functional and state space defined we can use Pontryagin’s Maximum Principle to find our costate evolution equations. "
   ]
  },
  {
   "cell_type": "markdown",
   "metadata": {},
   "source": [
    "$$ P = \\begin{bmatrix}  P_0 &  P_1 & P_2 & P_3  \\end{bmatrix}  ^T $$"
   ]
  },
  {
   "cell_type": "markdown",
   "metadata": {},
   "source": [
    "$$ \\dot P = \\begin{bmatrix}  C_x &  C_y & -P_0 & -P_1  \\end{bmatrix}  ^T$$"
   ]
  },
  {
   "cell_type": "markdown",
   "metadata": {},
   "source": [
    "Now we have everything we need to solve our optimization problem besides our boundary conditions. Based on the setup of our problem we use the following boundary conditions."
   ]
  },
  {
   "cell_type": "markdown",
   "metadata": {},
   "source": [
    "$$ \\begin{align*}\n",
    "        x(0) &= 0 & x(t_f) &= 1\\\\\n",
    "        y(0) &= 0 & y(t_f) &= 1\\\\\n",
    "        \\dot x(0) &= v_x & \\dot x(t_f) &= 0\\\\\n",
    "        \\dot y(0) &= v_y & \\dot y(t_f) &= 0\\\\\n",
    "    \\end{align*} $$"
   ]
  },
  {
   "cell_type": "markdown",
   "metadata": {},
   "source": [
    "This ensures that our spaceship is starting at the origin and travels to the space station. We are also assuming that our spaceship could have been moving with initial velocities of $v_x$ and $v_y$ in the $x$ and $y$ direction before we begin our optimization problem. We force our spaceship to stop moving once it arrives at the space station.\n"
   ]
  },
  {
   "cell_type": "markdown",
   "metadata": {},
   "source": [
    "This gives us everything we need to solve for our optimal path. We will showcase several different situations and amounts of asteroids in the following models. When we adjust the asteroids so that they are moving, we change the cost functional to the following form:"
   ]
  },
  {
   "cell_type": "markdown",
   "metadata": {},
   "source": [
    "$$J[u] = \\int_0^{t_f} \\left [\\frac{1}{2}u_{x}(t)^2 + \\frac{1}{2}u_{y}(t)^2 + \\sum_{i = 1}^n \\frac{W_i}{\\left (\\frac{\\left(x(t) - c_x(t)\\right)^2}{r_i} + \\frac{\\left(y(t) - c_y(t)\\right)^2}{r_i} \\right)^{20}}\\right ] dt$$"
   ]
  },
  {
   "cell_type": "markdown",
   "metadata": {},
   "source": [
    "The only difference in this cost functional is that now the asteroids center is a function of time. "
   ]
  },
  {
   "cell_type": "markdown",
   "metadata": {},
   "source": [
    "# Models"
   ]
  },
  {
   "cell_type": "markdown",
   "metadata": {},
   "source": [
    "Before showing code for each model we will showcase some code used in the different models."
   ]
  },
  {
   "cell_type": "code",
   "execution_count": 1,
   "metadata": {},
   "outputs": [
    {
     "name": "stdout",
     "output_type": "stream",
     "text": [
      "Intel MKL WARNING: Support of Intel(R) Streaming SIMD Extensions 4.2 (Intel(R) SSE4.2) enabled only processors has been deprecated. Intel oneAPI Math Kernel Library 2025.0 will require Intel(R) Advanced Vector Extensions (Intel(R) AVX) instructions.\n",
      "Intel MKL WARNING: Support of Intel(R) Streaming SIMD Extensions 4.2 (Intel(R) SSE4.2) enabled only processors has been deprecated. Intel oneAPI Math Kernel Library 2025.0 will require Intel(R) Advanced Vector Extensions (Intel(R) AVX) instructions.\n"
     ]
    }
   ],
   "source": [
    "import numpy as np\n",
    "import matplotlib.pyplot as plt\n",
    "import matplotlib.animation as animation\n",
    "from IPython.display import HTML\n",
    "from matplotlib.animation import FuncAnimation\n",
    "from scipy.integrate import solve_bvp\n",
    "import matplotlib.image as mpimg\n",
    "from scipy.ndimage import rotate"
   ]
  },
  {
   "cell_type": "markdown",
   "metadata": {},
   "source": [
    "We will use the above imports and packages in our models while solving for the optimal path of the spaceship."
   ]
  },
  {
   "cell_type": "code",
   "execution_count": 2,
   "metadata": {},
   "outputs": [],
   "source": [
    "def obstacle(x,y,W1=1,r=(1/5,1/5),c=(1/2,1/2)):\n",
    "    '''\n",
    "    Define an area that will represent an asteroid\n",
    "    \n",
    "    Parameters:\n",
    "        x (float): x position in space\n",
    "        y (float): y position in space\n",
    "        W1 (float): weight of cost\n",
    "        r (tuple): radius in x and y direction\n",
    "        c (tuple): center of the ellipse\n",
    "    '''\n",
    "\n",
    "    ellipse = ((x - c[0])**2/r[0] + (y - c[1])**2/r[1])**20 + 1\n",
    "\n",
    "    return W1 / ellipse\n",
    "\n",
    "def obstacle_dx(x,y,W1=1,r=(1/5,1/5),c=(1/2,1/2)):\n",
    "    '''\n",
    "    x derivative of the asteroid\n",
    "\n",
    "    Parameters:\n",
    "        x (float): x position in space\n",
    "        y (float): y position in space\n",
    "        W (float): weight of cost\n",
    "        r (tuple): radius in x and y direction\n",
    "        c (tuple): center of the ellipse\n",
    "    '''\n",
    "\n",
    "    circle = (x - c[0])**2/r[0] + (y - c[1])**2/r[1]\n",
    "    numer = -40* W1 * (x-c[0])*(circle)**19\n",
    "    denom = r[0]*((circle)**20 + 1)**2\n",
    "\n",
    "    return numer / denom\n",
    "\n",
    "def obstacle_dy(x,y,W1=1,r=(1/5,1/5),c=(1/2,1/2)):\n",
    "    '''\n",
    "    y derivative of the asteroid\n",
    "\n",
    "    Parameters:\n",
    "        x (float): x position in space\n",
    "        y (float): y position in space\n",
    "        W1 (float): weight of cost\n",
    "        r (tuple): radius in x and y direction\n",
    "        c (tuple): center of the ellipse\n",
    "    '''\n",
    "\n",
    "    circle = (x - c[0])**2/r[0] + (y - c[1])**2/r[1]\n",
    "    numer = -40 * W1 * (y-c[1])*(circle)**19\n",
    "    denom = r[1]*((circle)**20 + 1)**2\n",
    "    \n",
    "    return numer / denom"
   ]
  },
  {
   "cell_type": "markdown",
   "metadata": {},
   "source": [
    "The functions above will be used for models 1-7 to define our stationary asteroid obstacles."
   ]
  },
  {
   "cell_type": "code",
   "execution_count": 3,
   "metadata": {},
   "outputs": [],
   "source": [
    "def new_obstacle(x,y,t,xspeed,yspeed,W1=1,r=(1/5,1/5),c=(1/2,1/2)):\n",
    "    '''\n",
    "    Define an area that will represent an asteroid with a moving center\n",
    "    \n",
    "    Parameters:\n",
    "        x (float): x position in space\n",
    "        y (float): y position in space\n",
    "        W1 (float): weight of cost\n",
    "        r (tuple): radius in x and y direction\n",
    "        c (tuple): center of the ellipse\n",
    "    '''\n",
    "    c = (xspeed*t+c[0],yspeed*t+c[1])\n",
    "    ellipse = ((x - c[0])**2/r[0] + (y - c[1])**2/r[1])**2 + 1\n",
    "\n",
    "    return W1 / ellipse\n",
    "\n",
    "def new_obstaclexy(x,y,t,xspeed,yspeed,W1=1,r=(1/5,1/5),c=(1/2,1/2)):\n",
    "    '''\n",
    "    Extract the x and y values for the new center of the moving asteroid\n",
    "    \n",
    "    Parameters:\n",
    "        x (float): x position in space\n",
    "        y (float): y position in space\n",
    "        W1 (float): weight of cost\n",
    "        r (tuple): radius in x and y direction\n",
    "        c (tuple): center of the ellipse\n",
    "    '''\n",
    "    c = (xspeed*t+c[0],yspeed*t+c[1])\n",
    "\n",
    "    return c\n",
    "\n",
    "def new_obstacle_dx(x,y,t,xspeed,yspeed,W1=1,r=(1/5,1/5),c=(1/2,1/2)):\n",
    "    '''\n",
    "    x derivative of the asteroid with a moving center\n",
    "\n",
    "    Parameters:\n",
    "        x (float): x position in space\n",
    "        y (float): y position in space\n",
    "        W (float): weight of cost\n",
    "        r (tuple): radius in x and y direction\n",
    "        c (tuple): center of the ellipse\n",
    "    '''\n",
    "    c = (xspeed*t+c[0],yspeed*t+c[1])\n",
    "    circle = (x - c[0])**2/r[0] + (y - c[1])**2/r[1]\n",
    "    numer = -40* W1 * (x-c[0])*(circle)**19\n",
    "    denom = r[0]*((circle)**20 + 1)**2\n",
    "\n",
    "    return numer / denom\n",
    "\n",
    "def new_obstacle_dy(x,y,t,xspeed,yspeed, W1=1,r=(1/5,1/5),c=(1/2,1/2)):\n",
    "    '''\n",
    "    y derivative of the asteroid with a moving center\n",
    "\n",
    "    Parameters:\n",
    "        x (float): x position in space\n",
    "        y (float): y position in space\n",
    "        W1 (float): weight of cost\n",
    "        r (tuple): radius in x and y direction\n",
    "        c (tuple): center of the ellipse\n",
    "    '''\n",
    "    c = (xspeed*t+c[0],yspeed*t+c[1])\n",
    "    circle = (x - c[0])**2/r[0] + (y - c[1])**2/r[1]\n",
    "    numer = -40 * W1 * (y-c[1])*(circle)**19\n",
    "    denom = r[1]*((circle)**20 + 1)**2\n",
    "\n",
    "    return numer / denom"
   ]
  },
  {
   "cell_type": "markdown",
   "metadata": {},
   "source": [
    "The functions above will be used for model 8 to define our moving asteroid obstacles."
   ]
  },
  {
   "cell_type": "code",
   "execution_count": 4,
   "metadata": {},
   "outputs": [],
   "source": [
    "# Read in rocket image\n",
    "filepath = \"Untitled_Artwork.png\"\n",
    "img = mpimg.imread(filepath)\n",
    "\n",
    "# Rotate rocket image based on velocity\n",
    "def rotate_rocket(xv,yv):\n",
    "    angle = np.degrees(np.arctan2(-xv,yv))\n",
    "    rotated_img = rotate(img, angle, reshape=False)\n",
    "    rotated_img = np.clip(rotated_img, 0, 1)\n",
    "    return rotated_img"
   ]
  },
  {
   "cell_type": "markdown",
   "metadata": {},
   "source": [
    "The above function and code will be used in our animations to import an image of a rocket. The rocket will also rotate as it turns to make the animation look more realistic."
   ]
  },
  {
   "cell_type": "markdown",
   "metadata": {},
   "source": [
    "Note, the following animations take a considerable amount of time to generate, so we suggest only running the first cell of each model to generate a plot of the optimal path."
   ]
  },
  {
   "cell_type": "markdown",
   "metadata": {},
   "source": [
    "### Model 1"
   ]
  },
  {
   "cell_type": "code",
   "execution_count": 19,
   "metadata": {},
   "outputs": [
    {
     "data": {
      "image/png": "[encoded data removed]",
      "text/plain": [
       "<Figure size 350x300 with 1 Axes>"
      ]
     },
     "metadata": {},
     "output_type": "display_data"
    },
    {
     "data": {
      "image/png": "[encoded data removed]",
      "text/plain": [
       "<Figure size 300x300 with 1 Axes>"
      ]
     },
     "metadata": {},
     "output_type": "display_data"
    }
   ],
   "source": [
    "#set initial conditions\n",
    "t0 = 0\n",
    "tf = 1\n",
    "\n",
    "def ode(t, y_val): #define the ode system\n",
    "    x, y, xp, yp, p0, p1, p2, p3 = y_val\n",
    "    zeros = np.zeros_like(x)\n",
    "\n",
    "    return np.array([xp, yp, p2, p3, zeros, zeros, -p0, -p1])\n",
    "\n",
    "def bc(ya,yb):\n",
    "# ya are the initial values\n",
    "# yb are the final values\n",
    "    return np.array([ya[0],ya[1],ya[2],ya[3],yb[0]-1,yb[1]-1,yb[2],yb[3]])\n",
    "\n",
    "#set the intial conditions and yo\n",
    "t_steps = 200\n",
    "t = np.linspace(t0,tf,t_steps)\n",
    "x = np.linspace(0,1,t_steps)\n",
    "y0 = np.ones((8,t_steps))\n",
    "\n",
    "# Solve the system.\n",
    "sol = solve_bvp(ode, bc, t, y0)\n",
    "\n",
    "#plot the solutions and label everything\n",
    "plt.plot(sol.y[0], sol.y[1])\n",
    "plt.axis('off')\n",
    "plt.title('No Asteroids')\n",
    "plt.show()\n"
   ]
  },
  {
   "cell_type": "markdown",
   "metadata": {},
   "source": [
    "This shows the solution to the boundary problem."
   ]
  },
  {
   "cell_type": "code",
   "execution_count": 20,
   "metadata": {},
   "outputs": [
    {
     "ename": "CalledProcessError",
     "evalue": "Command '['ffmpeg', '-f', 'rawvideo', '-vcodec', 'rawvideo', '-s', '300x300', '-pix_fmt', 'rgba', '-framerate', '50.0', '-loglevel', 'error', '-i', 'pipe:', '-vcodec', 'h264', '-pix_fmt', 'yuv420p', '-y', 'simple_example.mp4']' returned non-zero exit status 255.",
     "output_type": "error",
     "traceback": [
      "\u001b[0;31m---------------------------------------------------------------------------\u001b[0m",
      "\u001b[0;31mKeyboardInterrupt\u001b[0m                         Traceback (most recent call last)",
      "File \u001b[0;32m~/opt/anaconda3/envs/acme/lib/python3.10/site-packages/matplotlib/animation.py:243\u001b[0m, in \u001b[0;36mAbstractMovieWriter.saving\u001b[0;34m(self, fig, outfile, dpi, *args, **kwargs)\u001b[0m\n\u001b[1;32m    242\u001b[0m \u001b[39mtry\u001b[39;00m:\n\u001b[0;32m--> 243\u001b[0m     \u001b[39myield\u001b[39;00m \u001b[39mself\u001b[39m\n\u001b[1;32m    244\u001b[0m \u001b[39mfinally\u001b[39;00m:\n",
      "File \u001b[0;32m~/opt/anaconda3/envs/acme/lib/python3.10/site-packages/matplotlib/animation.py:1105\u001b[0m, in \u001b[0;36mAnimation.save\u001b[0;34m(self, filename, writer, fps, dpi, codec, bitrate, extra_args, metadata, extra_anim, savefig_kwargs, progress_callback)\u001b[0m\n\u001b[1;32m   1103\u001b[0m \u001b[39mfor\u001b[39;00m anim, d \u001b[39min\u001b[39;00m \u001b[39mzip\u001b[39m(all_anim, data):\n\u001b[1;32m   1104\u001b[0m     \u001b[39m# TODO: See if turning off blit is really necessary\u001b[39;00m\n\u001b[0;32m-> 1105\u001b[0m     anim\u001b[39m.\u001b[39;49m_draw_next_frame(d, blit\u001b[39m=\u001b[39;49m\u001b[39mFalse\u001b[39;49;00m)\n\u001b[1;32m   1106\u001b[0m     \u001b[39mif\u001b[39;00m progress_callback \u001b[39mis\u001b[39;00m \u001b[39mnot\u001b[39;00m \u001b[39mNone\u001b[39;00m:\n",
      "File \u001b[0;32m~/opt/anaconda3/envs/acme/lib/python3.10/site-packages/matplotlib/animation.py:1140\u001b[0m, in \u001b[0;36mAnimation._draw_next_frame\u001b[0;34m(self, framedata, blit)\u001b[0m\n\u001b[1;32m   1139\u001b[0m \u001b[39mself\u001b[39m\u001b[39m.\u001b[39m_pre_draw(framedata, blit)\n\u001b[0;32m-> 1140\u001b[0m \u001b[39mself\u001b[39;49m\u001b[39m.\u001b[39;49m_draw_frame(framedata)\n\u001b[1;32m   1141\u001b[0m \u001b[39mself\u001b[39m\u001b[39m.\u001b[39m_post_draw(framedata, blit)\n",
      "File \u001b[0;32m~/opt/anaconda3/envs/acme/lib/python3.10/site-packages/matplotlib/animation.py:1768\u001b[0m, in \u001b[0;36mFuncAnimation._draw_frame\u001b[0;34m(self, framedata)\u001b[0m\n\u001b[1;32m   1766\u001b[0m \u001b[39m# Call the func with framedata and args. If blitting is desired,\u001b[39;00m\n\u001b[1;32m   1767\u001b[0m \u001b[39m# func needs to return a sequence of any artists that were modified.\u001b[39;00m\n\u001b[0;32m-> 1768\u001b[0m \u001b[39mself\u001b[39m\u001b[39m.\u001b[39m_drawn_artists \u001b[39m=\u001b[39m \u001b[39mself\u001b[39;49m\u001b[39m.\u001b[39;49m_func(framedata, \u001b[39m*\u001b[39;49m\u001b[39mself\u001b[39;49m\u001b[39m.\u001b[39;49m_args)\n\u001b[1;32m   1770\u001b[0m \u001b[39mif\u001b[39;00m \u001b[39mself\u001b[39m\u001b[39m.\u001b[39m_blit:\n",
      "Cell \u001b[0;32mIn[20], line 56\u001b[0m, in \u001b[0;36mupdate\u001b[0;34m(t)\u001b[0m\n\u001b[1;32m     55\u001b[0m \u001b[38;5;66;03m#update rocket\u001b[39;00m\n\u001b[0;32m---> 56\u001b[0m rocket\u001b[38;5;241m.\u001b[39mset_data(\u001b[43mrotate_rocket\u001b[49m\u001b[43m(\u001b[49m\u001b[43msol\u001b[49m\u001b[38;5;241;43m.\u001b[39;49m\u001b[43my\u001b[49m\u001b[43m[\u001b[49m\u001b[38;5;241;43m2\u001b[39;49m\u001b[43m]\u001b[49m\u001b[43m[\u001b[49m\u001b[43mt\u001b[49m\u001b[43m]\u001b[49m\u001b[43m,\u001b[49m\u001b[43msol\u001b[49m\u001b[38;5;241;43m.\u001b[39;49m\u001b[43my\u001b[49m\u001b[43m[\u001b[49m\u001b[38;5;241;43m3\u001b[39;49m\u001b[43m]\u001b[49m\u001b[43m[\u001b[49m\u001b[43mt\u001b[49m\u001b[43m]\u001b[49m\u001b[43m)\u001b[49m)\n\u001b[1;32m     57\u001b[0m rocket\u001b[38;5;241m.\u001b[39mset_extent([sol\u001b[38;5;241m.\u001b[39my[\u001b[38;5;241m0\u001b[39m][t] \u001b[38;5;241m-\u001b[39m ROCKET_SIZE, sol\u001b[38;5;241m.\u001b[39my[\u001b[38;5;241m0\u001b[39m][t] \u001b[38;5;241m+\u001b[39m ROCKET_SIZE, sol\u001b[38;5;241m.\u001b[39my[\u001b[38;5;241m1\u001b[39m][t] \u001b[38;5;241m-\u001b[39m ROCKET_SIZE, sol\u001b[38;5;241m.\u001b[39my[\u001b[38;5;241m1\u001b[39m][t] \u001b[38;5;241m+\u001b[39m ROCKET_SIZE])\n",
      "Cell \u001b[0;32mIn[4], line 8\u001b[0m, in \u001b[0;36mrotate_rocket\u001b[0;34m(xv, yv)\u001b[0m\n\u001b[1;32m      7\u001b[0m angle \u001b[38;5;241m=\u001b[39m np\u001b[38;5;241m.\u001b[39mdegrees(np\u001b[38;5;241m.\u001b[39marctan2(\u001b[38;5;241m-\u001b[39mxv,yv))\n\u001b[0;32m----> 8\u001b[0m rotated_img \u001b[38;5;241m=\u001b[39m \u001b[43mrotate\u001b[49m\u001b[43m(\u001b[49m\u001b[43mimg\u001b[49m\u001b[43m,\u001b[49m\u001b[43m \u001b[49m\u001b[43mangle\u001b[49m\u001b[43m,\u001b[49m\u001b[43m \u001b[49m\u001b[43mreshape\u001b[49m\u001b[38;5;241;43m=\u001b[39;49m\u001b[38;5;28;43;01mFalse\u001b[39;49;00m\u001b[43m)\u001b[49m\n\u001b[1;32m      9\u001b[0m rotated_img \u001b[38;5;241m=\u001b[39m np\u001b[38;5;241m.\u001b[39mclip(rotated_img, \u001b[38;5;241m0\u001b[39m, \u001b[38;5;241m1\u001b[39m)\n",
      "File \u001b[0;32m~/opt/anaconda3/envs/acme/lib/python3.10/site-packages/scipy/ndimage/_interpolation.py:957\u001b[0m, in \u001b[0;36mrotate\u001b[0;34m(input, angle, axes, reshape, output, order, mode, cval, prefilter)\u001b[0m\n\u001b[1;32m    956\u001b[0m         oa \u001b[39m=\u001b[39m output[coordinates]\n\u001b[0;32m--> 957\u001b[0m         affine_transform(ia, rot_matrix, offset, out_plane_shape,\n\u001b[1;32m    958\u001b[0m                          oa, order, mode, cval, prefilter)\n\u001b[1;32m    960\u001b[0m \u001b[39mreturn\u001b[39;00m output\n",
      "File \u001b[0;32m~/opt/anaconda3/envs/acme/lib/python3.10/site-packages/scipy/ndimage/_interpolation.py:614\u001b[0m, in \u001b[0;36maffine_transform\u001b[0;34m(input, matrix, offset, output_shape, output, order, mode, cval, prefilter)\u001b[0m\n\u001b[1;32m    613\u001b[0m \u001b[39melse\u001b[39;00m:\n\u001b[0;32m--> 614\u001b[0m     _nd_image\u001b[39m.\u001b[39;49mgeometric_transform(filtered, \u001b[39mNone\u001b[39;49;00m, \u001b[39mNone\u001b[39;49;00m, matrix, offset,\n\u001b[1;32m    615\u001b[0m                                   output, order, mode, cval, npad, \u001b[39mNone\u001b[39;49;00m,\n\u001b[1;32m    616\u001b[0m                                   \u001b[39mNone\u001b[39;49;00m)\n\u001b[1;32m    617\u001b[0m \u001b[39mreturn\u001b[39;00m output\n",
      "\u001b[0;31mKeyboardInterrupt\u001b[0m: ",
      "\nDuring handling of the above exception, another exception occurred:\n",
      "\u001b[0;31mCalledProcessError\u001b[0m                        Traceback (most recent call last)",
      "Cell \u001b[0;32mIn[20], line 61\u001b[0m\n\u001b[1;32m     59\u001b[0m \u001b[38;5;66;03m#save and show\u001b[39;00m\n\u001b[1;32m     60\u001b[0m ani \u001b[38;5;241m=\u001b[39m FuncAnimation(fig, update, frames\u001b[38;5;241m=\u001b[39mts[:\u001b[38;5;241m200\u001b[39m][::\u001b[38;5;241m10\u001b[39m], interval\u001b[38;5;241m=\u001b[39m\u001b[38;5;241m20\u001b[39m)\n\u001b[0;32m---> 61\u001b[0m \u001b[43mani\u001b[49m\u001b[38;5;241;43m.\u001b[39;49m\u001b[43msave\u001b[49m\u001b[43m(\u001b[49m\u001b[38;5;124;43m'\u001b[39;49m\u001b[38;5;124;43msimple_example.mp4\u001b[39;49m\u001b[38;5;124;43m'\u001b[39;49m\u001b[43m)\u001b[49m\n",
      "File \u001b[0;32m~/opt/anaconda3/envs/acme/lib/python3.10/site-packages/matplotlib/animation.py:1089\u001b[0m, in \u001b[0;36mAnimation.save\u001b[0;34m(self, filename, writer, fps, dpi, codec, bitrate, extra_args, metadata, extra_anim, savefig_kwargs, progress_callback)\u001b[0m\n\u001b[1;32m   1085\u001b[0m savefig_kwargs[\u001b[39m'\u001b[39m\u001b[39mtransparent\u001b[39m\u001b[39m'\u001b[39m] \u001b[39m=\u001b[39m \u001b[39mFalse\u001b[39;00m   \u001b[39m# just to be safe!\u001b[39;00m\n\u001b[1;32m   1086\u001b[0m \u001b[39m# canvas._is_saving = True makes the draw_event animation-starting\u001b[39;00m\n\u001b[1;32m   1087\u001b[0m \u001b[39m# callback a no-op; canvas.manager = None prevents resizing the GUI\u001b[39;00m\n\u001b[1;32m   1088\u001b[0m \u001b[39m# widget (both are likewise done in savefig()).\u001b[39;00m\n\u001b[0;32m-> 1089\u001b[0m \u001b[39mwith\u001b[39;00m writer\u001b[39m.\u001b[39msaving(\u001b[39mself\u001b[39m\u001b[39m.\u001b[39m_fig, filename, dpi), \\\n\u001b[1;32m   1090\u001b[0m      cbook\u001b[39m.\u001b[39m_setattr_cm(\u001b[39mself\u001b[39m\u001b[39m.\u001b[39m_fig\u001b[39m.\u001b[39mcanvas, _is_saving\u001b[39m=\u001b[39m\u001b[39mTrue\u001b[39;00m, manager\u001b[39m=\u001b[39m\u001b[39mNone\u001b[39;00m):\n\u001b[1;32m   1091\u001b[0m     \u001b[39mfor\u001b[39;00m anim \u001b[39min\u001b[39;00m all_anim:\n\u001b[1;32m   1092\u001b[0m         anim\u001b[39m.\u001b[39m_init_draw()  \u001b[39m# Clear the initial frame\u001b[39;00m\n",
      "File \u001b[0;32m~/opt/anaconda3/envs/acme/lib/python3.10/contextlib.py:153\u001b[0m, in \u001b[0;36m_GeneratorContextManager.__exit__\u001b[0;34m(self, typ, value, traceback)\u001b[0m\n\u001b[1;32m    151\u001b[0m     value \u001b[39m=\u001b[39m typ()\n\u001b[1;32m    152\u001b[0m \u001b[39mtry\u001b[39;00m:\n\u001b[0;32m--> 153\u001b[0m     \u001b[39mself\u001b[39;49m\u001b[39m.\u001b[39;49mgen\u001b[39m.\u001b[39;49mthrow(typ, value, traceback)\n\u001b[1;32m    154\u001b[0m \u001b[39mexcept\u001b[39;00m \u001b[39mStopIteration\u001b[39;00m \u001b[39mas\u001b[39;00m exc:\n\u001b[1;32m    155\u001b[0m     \u001b[39m# Suppress StopIteration *unless* it's the same exception that\u001b[39;00m\n\u001b[1;32m    156\u001b[0m     \u001b[39m# was passed to throw().  This prevents a StopIteration\u001b[39;00m\n\u001b[1;32m    157\u001b[0m     \u001b[39m# raised inside the \"with\" statement from being suppressed.\u001b[39;00m\n\u001b[1;32m    158\u001b[0m     \u001b[39mreturn\u001b[39;00m exc \u001b[39mis\u001b[39;00m \u001b[39mnot\u001b[39;00m value\n",
      "File \u001b[0;32m~/opt/anaconda3/envs/acme/lib/python3.10/site-packages/matplotlib/animation.py:245\u001b[0m, in \u001b[0;36mAbstractMovieWriter.saving\u001b[0;34m(self, fig, outfile, dpi, *args, **kwargs)\u001b[0m\n\u001b[1;32m    243\u001b[0m     \u001b[39myield\u001b[39;00m \u001b[39mself\u001b[39m\n\u001b[1;32m    244\u001b[0m \u001b[39mfinally\u001b[39;00m:\n\u001b[0;32m--> 245\u001b[0m     \u001b[39mself\u001b[39;49m\u001b[39m.\u001b[39;49mfinish()\n",
      "File \u001b[0;32m~/opt/anaconda3/envs/acme/lib/python3.10/site-packages/matplotlib/animation.py:360\u001b[0m, in \u001b[0;36mMovieWriter.finish\u001b[0;34m(self)\u001b[0m\n\u001b[1;32m    356\u001b[0m     _log\u001b[39m.\u001b[39mlog(\n\u001b[1;32m    357\u001b[0m         logging\u001b[39m.\u001b[39mWARNING \u001b[39mif\u001b[39;00m \u001b[39mself\u001b[39m\u001b[39m.\u001b[39m_proc\u001b[39m.\u001b[39mreturncode \u001b[39melse\u001b[39;00m logging\u001b[39m.\u001b[39mDEBUG,\n\u001b[1;32m    358\u001b[0m         \u001b[39m\"\u001b[39m\u001b[39mMovieWriter stderr:\u001b[39m\u001b[39m\\n\u001b[39;00m\u001b[39m%s\u001b[39;00m\u001b[39m\"\u001b[39m, err)\n\u001b[1;32m    359\u001b[0m \u001b[39mif\u001b[39;00m \u001b[39mself\u001b[39m\u001b[39m.\u001b[39m_proc\u001b[39m.\u001b[39mreturncode:\n\u001b[0;32m--> 360\u001b[0m     \u001b[39mraise\u001b[39;00m subprocess\u001b[39m.\u001b[39mCalledProcessError(\n\u001b[1;32m    361\u001b[0m         \u001b[39mself\u001b[39m\u001b[39m.\u001b[39m_proc\u001b[39m.\u001b[39mreturncode, \u001b[39mself\u001b[39m\u001b[39m.\u001b[39m_proc\u001b[39m.\u001b[39margs, out, err)\n",
      "\u001b[0;31mCalledProcessError\u001b[0m: Command '['ffmpeg', '-f', 'rawvideo', '-vcodec', 'rawvideo', '-s', '300x300', '-pix_fmt', 'rgba', '-framerate', '50.0', '-loglevel', 'error', '-i', 'pipe:', '-vcodec', 'h264', '-pix_fmt', 'yuv420p', '-y', 'simple_example.mp4']' returned non-zero exit status 255."
     ]
    }
   ],
   "source": [
    "# set the size of the rocket\n",
    "ROCKET_SIZE = .14\n",
    "\n",
    "plt.ioff()\n",
    "\n",
    "path_length=len(sol.y[1])\n",
    "ts = range(path_length+50)\n",
    "fig = plt.figure()\n",
    "fig.set_facecolor('#000015')\n",
    "fig.set_size_inches(3, 3)\n",
    "ax = fig.add_subplot(111)\n",
    "\n",
    "ax.set_xlim([-.5,1.5])\n",
    "ax.set_ylim([-.5,1.5])\n",
    "ax.set_facecolor('#000015')\n",
    "\n",
    "path=np.vstack((sol.y[0], sol.y[1])).T\n",
    "rocketpath, = ax.plot([], [],'w', alpha=0.4)\n",
    "rocket, = ax.plot([], [], color=\"#5FC2D9\", label='rocket', marker='^', markersize=15)\n",
    "\n",
    "#plot stars in the background\n",
    "starx=np.random.uniform(-1,2,size=100)\n",
    "stary=np.random.uniform(-1,2,size= 100)\n",
    "sizes=np.random.choice([.5,1,2,3,3.5], size=100)\n",
    "ax.scatter(starx, stary, s=sizes, color='white')\n",
    "\n",
    "#read in the image of the space station and place it\n",
    "space_station = mpimg.imread(\"space-station.png\")\n",
    "ax.imshow(space_station, extent=[.9,1.1,.9,1.1])\n",
    "\n",
    "#set the locations for the rocet\n",
    "xmin, xmax = sol.y[0][0]-ROCKET_SIZE, sol.y[0][0]+ROCKET_SIZE\n",
    "ymin, ymax = sol.y[1][0]-ROCKET_SIZE, sol.y[1][0]+ROCKET_SIZE\n",
    "img = mpimg.imread(filepath)\n",
    "\n",
    "# plot the trajectory\n",
    "line, = plt.gca().plot([], [], \"--\", linewidth=3,)\n",
    "\n",
    "# Plot initial position of the rocket\n",
    "rocket = plt.imshow(img, extent=[xmin,xmax,ymin,ymax], aspect='auto', zorder=2)\n",
    "\n",
    "# ax.legend()\n",
    "def update(t):\n",
    "    if t<50:\n",
    "        s=0\n",
    "        p=t\n",
    "    elif t>path_length-1:\n",
    "        p=path_length-1\n",
    "        s=t-50\n",
    "    else:\n",
    "        s=t-50\n",
    "        p=t\n",
    "    #update path\n",
    "    rocketpath.set_data(path[s:p,0],path[s:p,1])\n",
    "    #update rocket\n",
    "    rocket.set_data(rotate_rocket(sol.y[2][t],sol.y[3][t]))\n",
    "    rocket.set_extent([sol.y[0][t] - ROCKET_SIZE, sol.y[0][t] + ROCKET_SIZE, sol.y[1][t] - ROCKET_SIZE, sol.y[1][t] + ROCKET_SIZE])\n",
    "    \n",
    "#save and show\n",
    "ani = FuncAnimation(fig, update, frames=ts[:200][::10], interval=20)\n",
    "ani.save('simple_example.mp4')\n"
   ]
  },
  {
   "cell_type": "markdown",
   "metadata": {},
   "source": [
    "\n",
    "<video src=\"simple_example.mp4\" controls>"
   ]
  },
  {
   "cell_type": "markdown",
   "metadata": {},
   "source": [
    "### Model 2"
   ]
  },
  {
   "cell_type": "code",
   "execution_count": 34,
   "metadata": {},
   "outputs": [
    {
     "data": {
      "image/png": "[encoded data removed]",
      "text/plain": [
       "<Figure size 640x480 with 1 Axes>"
      ]
     },
     "metadata": {},
     "output_type": "display_data"
    }
   ],
   "source": [
    "#set initial conditions\n",
    "t0 = 0\n",
    "tf = 1\n",
    "W = 10\n",
    "r = (.1,.1)\n",
    "\n",
    "def ode(t, y_val): #define the ode system\n",
    "    x, y, xp, yp, p0, p1, p2, p3 = y_val\n",
    "    new_p0 = obstacle_dx(x,y,W,r) #find the new p0 and p1\n",
    "    new_p1 =  obstacle_dy(x,y,W,r)\n",
    "    return np.array([xp, yp, p2, p3, new_p0,new_p1, -p0, -p1])\n",
    "\n",
    "def bc(ya,yb):\n",
    "    # ya are the initial values\n",
    "    # yb are the final values\n",
    "    return np.array([ya[0],ya[1],ya[2],ya[3]-3,yb[0]-1,yb[1]-1,yb[2],yb[3]])\n",
    "\n",
    "\n",
    "t_steps = 200 #set the time steps and linspaces\n",
    "t = np.linspace(t0,tf,t_steps)\n",
    "x = np.linspace(0,1,t_steps)\n",
    "y = np.linspace(0,1,t_steps)\n",
    "X,Y = np.meshgrid(x,y)\n",
    "Z = obstacle(X,Y,W,r) #find Z \n",
    "#set the initial guess\n",
    "y0 = np.ones((8,t_steps))*3\n",
    "# Solve the system.\n",
    "sol = solve_bvp(ode, bc, t, y0, max_nodes=30000)\n",
    "\n",
    "#plot the solutions and label everything\n",
    "plt.plot(sol.y[0], sol.y[1])\n",
    "plt.contour(X,Y,Z)\n",
    "plt.axis('off')\n",
    "title_obj = plt.title('One Asteroid')\n",
    "plt.setp(title_obj, color='w')\n",
    "plt.show()"
   ]
  },
  {
   "cell_type": "markdown",
   "metadata": {},
   "source": [
    "This finds the solution to the boundary problem."
   ]
  },
  {
   "cell_type": "code",
   "execution_count": 18,
   "metadata": {},
   "outputs": [],
   "source": [
    "# plot the rocket\n",
    "ROCKET_SIZE = .14\n",
    "\n",
    "plt.ioff()\n",
    "\n",
    "#get data\n",
    "path_length=len(sol.y[1])\n",
    "ts = range(path_length+50)\n",
    "fig = plt.figure()\n",
    "fig.set_facecolor('#000015')\n",
    "fig.set_size_inches(3, 3)\n",
    "ax = fig.add_subplot(111)\n",
    "\n",
    "#set limits\n",
    "ax.set_xlim([-.5,1.5])\n",
    "ax.set_ylim([-.5,1.5])\n",
    "ax.set_facecolor('#000015')\n",
    "\n",
    "#get path\n",
    "path=np.vstack((sol.y[0], sol.y[1])).T\n",
    "rocketpath, = ax.plot([], [],'w', alpha=0.4)\n",
    "\n",
    "#plot rocket\n",
    "rocket, = ax.plot([], [], color=\"#5FC2D9\", label='rocket', marker='^', markersize=15)\n",
    "\n",
    "#plot stars\n",
    "starx=np.random.uniform(-1,2,size=100)\n",
    "stary=np.random.uniform(-1,2,size= 100)\n",
    "sizes=np.random.choice([.5,1,2,3,3.5], size=100)\n",
    "ax.scatter(starx, stary, s=sizes, color='white')\n",
    "\n",
    "#asteroid dots\n",
    "asteroid1 = mpimg.imread(\"meteoroid.png\")\n",
    "c = [1/2,1/2]\n",
    "r = .2\n",
    "ax.imshow(asteroid1, extent=[c[0]-r, c[0]+r, c[1]-r, c[1]+r])\n",
    "\n",
    "#read in the space station\n",
    "space_station = mpimg.imread(\"space-station.png\")\n",
    "ax.imshow(space_station, extent=[.9,1.1,.9,1.1])\n",
    "\n",
    "#set the location of the rocket\n",
    "xmin, xmax = sol.y[0][0]-ROCKET_SIZE, sol.y[0][0]+ROCKET_SIZE\n",
    "ymin, ymax = sol.y[1][0]-ROCKET_SIZE, sol.y[1][0]+ROCKET_SIZE\n",
    "img = mpimg.imread(filepath)\n",
    "\n",
    "# plot the trajectory\n",
    "line, = plt.gca().plot([], [], \"--\", linewidth=3,)\n",
    "\n",
    "# Plot initial position of the rocket\n",
    "rocket = plt.imshow(img, extent=[xmin,xmax,ymin,ymax], aspect='auto', zorder=2)\n",
    "\n",
    "# ax.legend()\n",
    "def update(t):\n",
    "    if t<50:\n",
    "        s=0\n",
    "        p=t\n",
    "    elif t>path_length-1:\n",
    "        p=path_length-1\n",
    "        s=t-50\n",
    "    else:\n",
    "        s=t-50\n",
    "        p=t\n",
    "\n",
    "    #update path\n",
    "    rocketpath.set_data(path[s:p,0],path[s:p,1])\n",
    "\n",
    "    #update rocket\n",
    "    rocket.set_data(rotate_rocket(sol.y[2][t],sol.y[3][t]))\n",
    "    rocket.set_extent([sol.y[0][t] - ROCKET_SIZE, sol.y[0][t] + ROCKET_SIZE, sol.y[1][t] - ROCKET_SIZE, sol.y[1][t] + ROCKET_SIZE])\n",
    "\n",
    "#save and show\n",
    "ani = FuncAnimation(fig, update, frames=ts[:950][::10], interval=20)\n",
    "ani.save('rocket1.mp4')"
   ]
  },
  {
   "cell_type": "markdown",
   "metadata": {},
   "source": [
    "This compiles the animation."
   ]
  },
  {
   "cell_type": "markdown",
   "metadata": {},
   "source": [
    "<video src=\"rocket1.mp4\" controls>"
   ]
  },
  {
   "cell_type": "markdown",
   "metadata": {},
   "source": [
    "### Model 3"
   ]
  },
  {
   "cell_type": "code",
   "execution_count": 21,
   "metadata": {},
   "outputs": [
    {
     "data": {
      "image/png": "[encoded data removed]",
      "text/plain": [
       "<Figure size 300x300 with 1 Axes>"
      ]
     },
     "metadata": {},
     "output_type": "display_data"
    }
   ],
   "source": [
    "#set the initial conditions\n",
    "t0 = 0\n",
    "tf = 1\n",
    "W = 15000\n",
    "r = (.007,.007)\n",
    "#notice we have multiple asteroids\n",
    "c2 = (.6,.9)\n",
    "c3 = (.4,.3)\n",
    "c4 = (.5,.6)\n",
    "\n",
    "def ode(t, y_val): #define the ode system\n",
    "    x, y, xp, yp, p0, p1, p2, p3 = y_val\n",
    "    #get the new p0 and p1\n",
    "    new_p0 = obstacle_dx(x,y,W,r,c4) + obstacle_dx(x,y,W,r,c2) + obstacle_dx(x,y,W,r,c3)\n",
    "    new_p1 =  obstacle_dy(x,y,W,r,c4) + obstacle_dy(x,y,W,r,c2) + obstacle_dy(x,y,W,r,c3)\n",
    "    return np.array([xp, yp, p2, p3, new_p0, new_p1, -p0, -p1])\n",
    "\n",
    "def bc(ya,yb):\n",
    "    # ya are the initial values\n",
    "    # yb are the final values\n",
    "    return np.array([ya[0],ya[1],ya[2],ya[3]-2,yb[0]-1,yb[1]-1,yb[2],yb[3]])\n",
    "\n",
    "\n",
    "t_steps = 200 #set the time steps and linspaces\n",
    "t = np.linspace(t0,tf,t_steps)\n",
    "x = np.linspace(0,1,t_steps)\n",
    "y = np.linspace(0,1,t_steps)\n",
    "X,Y = np.meshgrid(x,y)\n",
    "#find the obstacles\n",
    "Z2 = obstacle(X,Y,W,r,c2)\n",
    "Z3 = obstacle(X,Y,W,r,c3)\n",
    "Z4 = obstacle(X,Y,W,r,c4)\n",
    "# set the initial guess.\n",
    "y0 = np.ones((8,t_steps))*3\n",
    "# Solve the system.\n",
    "sol = solve_bvp(ode, bc, t, y0,max_nodes=30000)\n",
    "\n",
    "#plot the solutions and label everything\n",
    "plt.plot(sol.y[0], sol.y[1])\n",
    "plt.contour(X,Y,Z2)\n",
    "plt.contour(X,Y,Z3)\n",
    "plt.contour(X,Y,Z4)\n",
    "plt.axis('off')\n",
    "plt.title('3 Asteroids')\n",
    "plt.show()"
   ]
  },
  {
   "cell_type": "markdown",
   "metadata": {},
   "source": [
    "This finds the solution to the boundary problem."
   ]
  },
  {
   "cell_type": "code",
   "execution_count": 22,
   "metadata": {},
   "outputs": [],
   "source": [
    "mypath = sol.y\n",
    "plt.ioff()\n",
    "#get data\n",
    "\n",
    "path_length=len(mypath[1])\n",
    "tail_length=50\n",
    "ts = range(path_length+50)\n",
    "fig = plt.figure()\n",
    "fig.set_facecolor('#000015')\n",
    "fig.set_size_inches(3, 3)\n",
    "ax = fig.add_subplot(111)\n",
    "\n",
    "#set limits\n",
    "ax.set_xlim([-.5,1.5])\n",
    "ax.set_ylim([-.5,1.5])\n",
    "ax.set_facecolor('#000015')\n",
    "\n",
    "#get path\n",
    "path=np.vstack((mypath[0], mypath[1])).T\n",
    "rocketpath, = ax.plot([], [],'w', alpha=0.4)\n",
    "\n",
    "#plot rocket\n",
    "rocket, = ax.plot([], [], color=\"#5FC2D9\", label='rocket', marker='^', markersize=15)\n",
    "\n",
    "#plot stars\n",
    "starx=np.random.uniform(-1,2,size=100)\n",
    "stary=np.random.uniform(-1,2,size= 100)\n",
    "sizes=np.random.choice([.5,1,2,3,3.5], size=100)\n",
    "ax.scatter(starx, stary, s=sizes, color='white')\n",
    "\n",
    "#asteroid dots\n",
    "asteroid1 = mpimg.imread(\"meteoroid.png\")\n",
    "r = .07\n",
    "ax.imshow(asteroid1, extent=[c4[0]-r, c4[0]+r, c4[1]-r, c4[1]+r])\n",
    "r = .07\n",
    "ax.imshow(asteroid1, extent=[c2[0]-r, c2[0]+r, c2[1]-r, c2[1]+r])\n",
    "r = .07\n",
    "ax.imshow(asteroid1, extent=[c3[0]-r, c3[0]+r, c3[1]-r, c3[1]+r])\n",
    "\n",
    "#read in the space stations\n",
    "space_station = mpimg.imread(\"space-station.png\")\n",
    "ax.imshow(space_station, extent=[.9,1.1,.9,1.1])\n",
    "\n",
    "#set the locaiton of the rocket\n",
    "xmin, xmax = sol.y[0][0]-ROCKET_SIZE, sol.y[0][0]+ROCKET_SIZE\n",
    "ymin, ymax = sol.y[1][0]-ROCKET_SIZE, sol.y[1][0]+ROCKET_SIZE\n",
    "img = mpimg.imread(filepath)\n",
    "\n",
    "# plot the trajectory\n",
    "line, = plt.gca().plot([], [], \"--\", linewidth=3,)\n",
    "\n",
    "# Plot initial position of the rocket\n",
    "rocket = plt.imshow(img, extent=[xmin,xmax,ymin,ymax], aspect='auto', zorder=2)\n",
    "\n",
    "def update(t):\n",
    "    if t<tail_length:\n",
    "        s=0\n",
    "        p=t\n",
    "    elif t>path_length-1:\n",
    "        p=path_length-1\n",
    "        s=t-tail_length\n",
    "    else:\n",
    "        s=t-tail_length\n",
    "        p=t\n",
    "    #update path\n",
    "    rocketpath.set_data(path[s:p,0],path[s:p,1])\n",
    "    #update rocket\n",
    "    \n",
    "    rocket.set_data(rotate_rocket(sol.y[2][t],sol.y[3][t]))\n",
    "    rocket.set_extent([sol.y[0][t] - ROCKET_SIZE, sol.y[0][t] + ROCKET_SIZE, sol.y[1][t] - ROCKET_SIZE, sol.y[1][t] + ROCKET_SIZE])\n",
    "#save and show\n",
    "ani = FuncAnimation(fig, update, frames=ts[:2450][::10], interval=10)\n",
    "ani.save('rocket_3asteroids.mp4')"
   ]
  },
  {
   "cell_type": "markdown",
   "metadata": {},
   "source": [
    "This compiles the animation."
   ]
  },
  {
   "cell_type": "markdown",
   "metadata": {},
   "source": [
    "<video src=\"rocket_3asteroids.mp4\" controls>"
   ]
  },
  {
   "cell_type": "markdown",
   "metadata": {},
   "source": [
    "### Model 4"
   ]
  },
  {
   "cell_type": "code",
   "execution_count": 23,
   "metadata": {},
   "outputs": [
    {
     "data": {
      "image/png": "[encoded data removed]",
      "text/plain": [
       "<Figure size 300x300 with 1 Axes>"
      ]
     },
     "metadata": {},
     "output_type": "display_data"
    }
   ],
   "source": [
    "#set initial conditions\n",
    "t0 = 0\n",
    "tf = 1\n",
    "W = 100000\n",
    "r = (.007,.007)\n",
    "c1 = (.2,.2)\n",
    "c2 = (.6,.9)\n",
    "c3 = (.3,.8)\n",
    "c4 = (.5,.7)\n",
    "\n",
    "def ode(t, y_val): #define the ode system\n",
    "    x, y, xp, yp, p0, p1, p2, p3 = y_val\n",
    "    #set the new p0 and p1\n",
    "    new_p0 = obstacle_dx(x,y,W,r,c1) + obstacle_dx(x,y,W,r,c2) + obstacle_dx(x,y,W,r,c3) + obstacle_dx(x,y,W,r,c4)\n",
    "    new_p1 =  obstacle_dy(x,y,W,r,c1) + obstacle_dy(x,y,W,r,c2) + obstacle_dy(x,y,W,r,c3) + obstacle_dy(x,y,W,r,c4)\n",
    "    return np.array([xp, yp, p2, p3, new_p0,new_p1, -p0, -p1])\n",
    "\n",
    "def bc(ya,yb):\n",
    "# ya are the initial values\n",
    "# yb are the final values\n",
    "    return np.array([ya[0],ya[1],ya[2],ya[3]-2,yb[0]-1,yb[1]-1,yb[2],yb[3]])\n",
    "\n",
    "\n",
    "t_steps = 200 #set the time steps and linspaces\n",
    "t = np.linspace(t0,tf,t_steps)\n",
    "x = np.linspace(0,1,t_steps)\n",
    "y = np.linspace(0,1,t_steps)\n",
    "X,Y = np.meshgrid(x,y)\n",
    "#set the asteroids\n",
    "Z1 = obstacle(X,Y,W,r,c1)\n",
    "Z2 = obstacle(X,Y,W,r,c2) \n",
    "Z3 = obstacle(X,Y,W,r,c3)\n",
    "Z4 = obstacle(X,Y,W,r,c4)\n",
    "\n",
    "#set the initial guess\n",
    "y0 = np.ones((8,t_steps))*3\n",
    "\n",
    "# Solve the system.\n",
    "sol = solve_bvp(ode, bc, t, y0,max_nodes=30000)\n",
    "\n",
    "#plot the solutions and label everything\n",
    "plt.plot(sol.y[0], sol.y[1])\n",
    "plt.contour(X,Y,Z1)\n",
    "plt.contour(X,Y,Z2)\n",
    "plt.contour(X,Y,Z3)\n",
    "plt.contour(X,Y,Z4)\n",
    "plt.axis('off')\n",
    "plt.title('4 Asteroids')\n",
    "plt.show()\n"
   ]
  },
  {
   "cell_type": "markdown",
   "metadata": {},
   "source": [
    "This finds the solution to the boundary problem."
   ]
  },
  {
   "cell_type": "code",
   "execution_count": 24,
   "metadata": {},
   "outputs": [
    {
     "name": "stdout",
     "output_type": "stream",
     "text": [
      "1051\n"
     ]
    }
   ],
   "source": [
    "plt.ioff()\n",
    "\n",
    "#get data\n",
    "path_length=len(sol.y[1])\n",
    "print(path_length)\n",
    "tail_length=50\n",
    "ts = range(path_length+50)\n",
    "fig = plt.figure()\n",
    "fig.set_facecolor('#000015')\n",
    "fig.set_size_inches(3, 3)\n",
    "ax = fig.add_subplot(111)\n",
    "\n",
    "#set limits\n",
    "ax.set_xlim([-.5,1.5])\n",
    "ax.set_ylim([-.5,1.5])\n",
    "ax.set_facecolor('#000015')\n",
    "\n",
    "#get path\n",
    "path=np.vstack((sol.y[0], sol.y[1])).T\n",
    "rocketpath, = ax.plot([], [],'w', alpha=0.4)\n",
    "\n",
    "#plot rocket\n",
    "rocket, = ax.plot([], [], color=\"#5FC2D9\", label='rocket', marker='^', markersize=15)\n",
    "# ax.legend(prop={'family': 'Arial'})\n",
    "\n",
    "#plot stars\n",
    "starx=np.random.uniform(-1,2,size=100)\n",
    "stary=np.random.uniform(-1,2,size= 100)\n",
    "sizes=np.random.choice([.5,1,2,3,3.5], size=100)\n",
    "ax.scatter(starx, stary, s=sizes, color='white')\n",
    "\n",
    "#asteroid dots\n",
    "asteroid1 = mpimg.imread(\"meteoroid.png\")\n",
    "c = [.2,.2]\n",
    "r = .07\n",
    "ax.imshow(asteroid1, extent=[c[0]-r, c[0]+r, c[1]-r, c[1]+r])\n",
    "c = [.6,.9]\n",
    "r = .07\n",
    "ax.imshow(asteroid1, extent=[c[0]-r, c[0]+r, c[1]-r, c[1]+r])\n",
    "c = [.3,.8]\n",
    "r = .07\n",
    "ax.imshow(asteroid1, extent=[c[0]-r, c[0]+r, c[1]-r, c[1]+r])\n",
    "c = [.5,.7]\n",
    "r = .07\n",
    "ax.imshow(asteroid1, extent=[c[0]-r, c[0]+r, c[1]-r, c[1]+r])\n",
    "\n",
    "#plot the space stations\n",
    "ax.imshow(space_station, extent=[.9,1.1,.9,1.1])\n",
    "\n",
    "#set dimensions for the rocket\n",
    "xmin, xmax = sol.y[0][0]-ROCKET_SIZE, sol.y[0][0]+ROCKET_SIZE\n",
    "ymin, ymax = sol.y[1][0]-ROCKET_SIZE, sol.y[1][0]+ROCKET_SIZE\n",
    "img = mpimg.imread(filepath)\n",
    "\n",
    "# plot the trajectory\n",
    "line, = plt.gca().plot([], [], \"--\", linewidth=3,)\n",
    "\n",
    "# Plot initial position of the rocket\n",
    "rocket = plt.imshow(img, extent=[xmin,xmax,ymin,ymax], aspect='auto', zorder=2)\n",
    "\n",
    "def update(t):\n",
    "    if t<tail_length:\n",
    "        s=0\n",
    "        p=t\n",
    "    elif t>path_length-1:\n",
    "        p=path_length-1\n",
    "        s=t-tail_length\n",
    "    else:\n",
    "        s=t-tail_length\n",
    "        p=t\n",
    "    #update path\n",
    "    rocketpath.set_data(path[s:p,0],path[s:p,1])\n",
    "    \n",
    "    #update rocket\n",
    "    rocket.set_data(rotate_rocket(sol.y[2][t],sol.y[3][t]))\n",
    "    rocket.set_extent([sol.y[0][t] - ROCKET_SIZE, sol.y[0][t] + ROCKET_SIZE, sol.y[1][t] - ROCKET_SIZE, sol.y[1][t] + ROCKET_SIZE])\n",
    "\n",
    "#save and show\n",
    "ani = FuncAnimation(fig, update, frames=ts[:1050][::10], interval=20)\n",
    "ani.save('rocket_4asteroids.mp4')"
   ]
  },
  {
   "cell_type": "markdown",
   "metadata": {},
   "source": [
    "This compiles the animation."
   ]
  },
  {
   "cell_type": "markdown",
   "metadata": {},
   "source": [
    "<video src=\"rocket_4asteroids.mp4\" controls>"
   ]
  },
  {
   "cell_type": "markdown",
   "metadata": {},
   "source": [
    "### Model 5"
   ]
  },
  {
   "cell_type": "code",
   "execution_count": 25,
   "metadata": {},
   "outputs": [
    {
     "data": {
      "image/png": "[encoded data removed]",
      "text/plain": [
       "<Figure size 300x300 with 1 Axes>"
      ]
     },
     "metadata": {},
     "output_type": "display_data"
    }
   ],
   "source": [
    "#set the initial conditions\n",
    "t0 = 0\n",
    "tf = 1\n",
    "W = 10000\n",
    "r = (.007,.007)\n",
    "c1 = (.4,.15)\n",
    "c2 = (.6,.8)\n",
    "c3 = (.9,.3)\n",
    "c4 = (.5,.52)\n",
    "c5 = (.2,.6)\n",
    "\n",
    "def ode(t, y_val): #define the ode system\n",
    "    x, y, xp, yp, p0, p1, p2, p3 = y_val\n",
    "    #find the new p0 and p1\n",
    "    new_p0 = obstacle_dx(x,y,W,r,c4) + obstacle_dx(x,y,W,r,c2) + obstacle_dx(x,y,W,r,c3) + obstacle_dx(x,y,W,r,c1) + obstacle_dx(x,y,W,r,c5)\n",
    "    new_p1 =  obstacle_dy(x,y,W,r,c4) + obstacle_dy(x,y,W,r,c2) + obstacle_dy(x,y,W,r,c3) + obstacle_dy(x,y,W,r,c1) + obstacle_dy(x,y,W,r,c5)\n",
    "    return np.array([xp, yp, p2, p3, new_p0, new_p1, -p0, -p1])\n",
    "\n",
    "def bc(ya,yb):\n",
    "    # ya are the initial values\n",
    "    # yb are the final values\n",
    "    return np.array([ya[0],ya[1],ya[2],ya[3]-2,yb[0]-1,yb[1]-1,yb[2],yb[3]])\n",
    "\n",
    "\n",
    "t_steps = 200 #set the time steps and linspaces\n",
    "t = np.linspace(t0,tf,t_steps)\n",
    "x = np.linspace(0,1,t_steps)\n",
    "y = np.linspace(0,1,t_steps)\n",
    "X,Y = np.meshgrid(x,y)\n",
    "#get all the asteroids\n",
    "Z1 = obstacle(X,Y,W,r,c1) \n",
    "Z2 = obstacle(X,Y,W,r,c2) \n",
    "Z3 = obstacle(X,Y,W,r,c3)\n",
    "Z4 = obstacle(X,Y,W,r,c4)\n",
    "Z5 = obstacle(X,Y,W,r,c5)\n",
    "#set initial guess\n",
    "y0 = np.ones((8,t_steps))*3\n",
    "# Solve the system.\n",
    "sol = solve_bvp(ode, bc, t, y0,max_nodes=30000)\n",
    "\n",
    "#plot the solutions and label everything\n",
    "plt.plot(sol.y[0], sol.y[1])\n",
    "plt.contour(X,Y,Z1)\n",
    "plt.contour(X,Y,Z2)\n",
    "plt.contour(X,Y,Z3)\n",
    "plt.contour(X,Y,Z4)\n",
    "plt.contour(X,Y,Z5)\n",
    "plt.axis('off')\n",
    "plt.title('5 Asteroids')\n",
    "plt.show()"
   ]
  },
  {
   "cell_type": "markdown",
   "metadata": {},
   "source": [
    "This finds the solution to the boundary problem."
   ]
  },
  {
   "cell_type": "code",
   "execution_count": 26,
   "metadata": {},
   "outputs": [],
   "source": [
    "mypath = sol.y\n",
    "plt.ioff()\n",
    "#get data\n",
    "path_length=len(mypath[1])\n",
    "tail_length=50\n",
    "ts = range(path_length+50)\n",
    "fig = plt.figure()\n",
    "fig.set_facecolor('#000015')\n",
    "fig.set_size_inches(3, 3)\n",
    "ax = fig.add_subplot(111)\n",
    "\n",
    "#set limits\n",
    "ax.set_xlim([-.5,1.5])\n",
    "ax.set_ylim([-.5,1.5])\n",
    "ax.set_facecolor('#000015')\n",
    "\n",
    "#get path\n",
    "path=np.vstack((mypath[0], mypath[1])).T\n",
    "rocketpath, = ax.plot([], [],'w', alpha=0.4)\n",
    "\n",
    "#plot rocket\n",
    "rocket, = ax.plot([], [], color=\"#5FC2D9\", label='rocket', marker='^', markersize=15)\n",
    "\n",
    "#plot stars\n",
    "starx=np.random.uniform(-1,2,size=100)\n",
    "stary=np.random.uniform(-1,2,size= 100)\n",
    "sizes=np.random.choice([.5,1,2,3,3.5], size=100)\n",
    "ax.scatter(starx, stary, s=sizes, color='white')\n",
    "\n",
    "#asteroid dots\n",
    "asteroid1 = mpimg.imread(\"meteoroid.png\")\n",
    "r = .07\n",
    "ax.imshow(asteroid1, extent=[c1[0]-r, c1[0]+r, c1[1]-r, c1[1]+r])\n",
    "ax.imshow(asteroid1, extent=[c2[0]-r, c2[0]+r, c2[1]-r, c2[1]+r])\n",
    "ax.imshow(asteroid1, extent=[c3[0]-r, c3[0]+r, c3[1]-r, c3[1]+r])\n",
    "ax.imshow(asteroid1, extent=[c4[0]-r, c4[0]+r, c4[1]-r, c4[1]+r])\n",
    "ax.imshow(asteroid1, extent=[c5[0]-r, c5[0]+r, c5[1]-r, c5[1]+r])\n",
    "\n",
    "#show space stations\n",
    "space_station = mpimg.imread(\"space-station.png\")\n",
    "ax.imshow(space_station, extent=[.9,1.1,.9,1.1])\n",
    "\n",
    "#set dimesnios for the rocket\n",
    "xmin, xmax = sol.y[0][0]-ROCKET_SIZE, sol.y[0][0]+ROCKET_SIZE\n",
    "ymin, ymax = sol.y[1][0]-ROCKET_SIZE, sol.y[1][0]+ROCKET_SIZE\n",
    "img = mpimg.imread(filepath)\n",
    "\n",
    "# plot the trajectory\n",
    "line, = plt.gca().plot([], [], \"--\", linewidth=3,)\n",
    "\n",
    "# Plot initial position of the rocket\n",
    "rocket = plt.imshow(img, extent=[xmin,xmax,ymin,ymax], aspect='auto', zorder=2)\n",
    "\n",
    "def update(t):\n",
    "    if t<tail_length:\n",
    "        s=0\n",
    "        p=t\n",
    "    elif t>path_length-1:\n",
    "        p=path_length-1\n",
    "        s=t-tail_length\n",
    "    else:\n",
    "        s=t-tail_length\n",
    "        p=t\n",
    "    #update path\n",
    "    rocketpath.set_data(path[s:p,0],path[s:p,1])\n",
    "    #update rocket\n",
    "    rocket.set_data(rotate_rocket(sol.y[2][t],sol.y[3][t]))\n",
    "    rocket.set_extent([sol.y[0][t] - ROCKET_SIZE, sol.y[0][t] + ROCKET_SIZE, sol.y[1][t] - ROCKET_SIZE, sol.y[1][t] + ROCKET_SIZE])\n",
    "#save and show\n",
    "ani = FuncAnimation(fig, update, frames=ts[:1020][::10], interval=10)\n",
    "ani.save('rocket_5asteroids.mp4')"
   ]
  },
  {
   "cell_type": "markdown",
   "metadata": {},
   "source": [
    "This compiles the animaiton."
   ]
  },
  {
   "cell_type": "markdown",
   "metadata": {},
   "source": [
    "<video src=\"rocket_5asteroids.mp4\" controls>"
   ]
  },
  {
   "cell_type": "markdown",
   "metadata": {},
   "source": [
    "Now that we have looked at optimal paths with varying amounts of asteroids with successful paths we will showcase how choosing the wrong weights can find an unacceptable path."
   ]
  },
  {
   "cell_type": "code",
   "execution_count": 27,
   "metadata": {},
   "outputs": [
    {
     "data": {
      "image/png": "[encoded data removed]",
      "text/plain": [
       "<Figure size 300x300 with 1 Axes>"
      ]
     },
     "metadata": {},
     "output_type": "display_data"
    }
   ],
   "source": [
    "# set initial conditions\n",
    "t0 = 0\n",
    "tf = 1\n",
    "W = 550\n",
    "r = (.007,.007)\n",
    "c1 = (.2,.8)\n",
    "c2 = (.2,.2)\n",
    "c3 = (.8,.8)\n",
    "c4 = (.8,.2)\n",
    "c5 = (.4,.6)\n",
    "\n",
    "def ode(t, y_val): #define the ode system\n",
    "    x, y, xp, yp, p0, p1, p2, p3 = y_val\n",
    "    #find the new p0 and p1\n",
    "    new_p0 = obstacle_dx(x,y,W,r,c4) + obstacle_dx(x,y,W,r,c2) + obstacle_dx(x,y,W,r,c3) + obstacle_dx(x,y,W,r,c1) + obstacle_dx(x,y,W,r,c5)\n",
    "    new_p1 =  obstacle_dy(x,y,W,r,c4) + obstacle_dy(x,y,W,r,c2) + obstacle_dy(x,y,W,r,c3) + obstacle_dy(x,y,W,r,c1) + obstacle_dy(x,y,W,r,c5)\n",
    "    return np.array([xp, yp, p2, p3, new_p0, new_p1, -p0, -p1])\n",
    "\n",
    "def bc(ya,yb):\n",
    "# ya are the initial values\n",
    "# yb are the final values\n",
    "    return np.array([ya[0],ya[1],ya[2],ya[3]-2,yb[0]-1,yb[1]-1,yb[2],yb[3]])\n",
    "\n",
    "\n",
    "t_steps = 200 #set the time steps and linspaces\n",
    "t = np.linspace(t0,tf,t_steps)\n",
    "x = np.linspace(0,1,t_steps)\n",
    "y = np.linspace(0,1,t_steps)\n",
    "X,Y = np.meshgrid(x,y)\n",
    "#find the obstacles\n",
    "Z1 = obstacle(X,Y,W,r,c1) \n",
    "Z2 = obstacle(X,Y,W,r,c2) \n",
    "Z3 = obstacle(X,Y,W,r,c3)\n",
    "Z4 = obstacle(X,Y,W,r,c4)\n",
    "Z5 = obstacle(X,Y,W,r,c5)\n",
    "#set the initial guess\n",
    "y0 = np.ones((8,t_steps))*1\n",
    "# Solve the system.\n",
    "sol = solve_bvp(ode, bc, t, y0,max_nodes=30000)\n",
    "\n",
    "#plot the solutions and label everything\n",
    "plt.plot(sol.y[0], sol.y[1])\n",
    "plt.contour(X,Y,Z1)\n",
    "plt.contour(X,Y,Z2)\n",
    "plt.contour(X,Y,Z3)\n",
    "plt.contour(X,Y,Z4)\n",
    "plt.contour(X,Y,Z5)\n",
    "plt.axis('off')\n",
    "plt.title('5 Asteroids Bad Example')\n",
    "plt.show()"
   ]
  },
  {
   "cell_type": "markdown",
   "metadata": {},
   "source": [
    "This finds the solution to the boundary problem."
   ]
  },
  {
   "cell_type": "code",
   "execution_count": 28,
   "metadata": {},
   "outputs": [],
   "source": [
    "mypath = sol.y\n",
    "plt.ioff()\n",
    "\n",
    "#get data\n",
    "path_length=len(mypath[1])\n",
    "tail_length=len(mypath[1]-1)\n",
    "ts = range(path_length+50)\n",
    "fig = plt.figure()\n",
    "fig.set_facecolor('#000015')\n",
    "fig.set_size_inches(3, 3)\n",
    "ax = fig.add_subplot(111)\n",
    "\n",
    "#set limits\n",
    "ax.set_xlim([-.5,1.5])\n",
    "ax.set_ylim([-.5,1.5])\n",
    "ax.set_facecolor('#000015')\n",
    "\n",
    "#get path\n",
    "path=np.vstack((mypath[0], mypath[1])).T\n",
    "rocketpath, = ax.plot([], [],'w', alpha=0.4)\n",
    "\n",
    "#plot rocket\n",
    "rocket, = ax.plot([], [], color=\"#5FC2D9\", label='rocket', marker='^', markersize=15)\n",
    "\n",
    "#plot stars\n",
    "starx=np.random.uniform(-1,2,size=100)\n",
    "stary=np.random.uniform(-1,2,size= 100)\n",
    "sizes=np.random.choice([.5,1,2,3,3.5], size=100)\n",
    "ax.scatter(starx, stary, s=sizes, color='white')\n",
    "\n",
    "#asteroid dots\n",
    "asteroid1 = mpimg.imread(\"meteoroid.png\")\n",
    "r = .07\n",
    "ax.imshow(asteroid1, extent=[c1[0]-r, c1[0]+r, c1[1]-r, c1[1]+r])\n",
    "ax.imshow(asteroid1, extent=[c2[0]-r, c2[0]+r, c2[1]-r, c2[1]+r])\n",
    "ax.imshow(asteroid1, extent=[c3[0]-r, c3[0]+r, c3[1]-r, c3[1]+r])\n",
    "ax.imshow(asteroid1, extent=[c4[0]-r, c4[0]+r, c4[1]-r, c4[1]+r])\n",
    "ax.imshow(asteroid1, extent=[c5[0]-r, c5[0]+r, c5[1]-r, c5[1]+r])\n",
    "\n",
    "#set space station\n",
    "space_station = mpimg.imread(\"space-station.png\")\n",
    "ax.imshow(space_station, extent=[.9,1.1,.9,1.1])\n",
    "\n",
    "#set title\n",
    "ax.set_title(\"Example of Poor Choice of Weights\")\n",
    "ax.set_facecolor('#000015')\n",
    "\n",
    "#set the dimesions of the spaceship\n",
    "xmin, xmax = sol.y[0][0]-ROCKET_SIZE, sol.y[0][0]+ROCKET_SIZE\n",
    "ymin, ymax = sol.y[1][0]-ROCKET_SIZE, sol.y[1][0]+ROCKET_SIZE\n",
    "img = mpimg.imread(filepath)\n",
    "\n",
    "# plot the trajectory\n",
    "line, = plt.gca().plot([], [], \"--\", linewidth=3,)\n",
    "\n",
    "# Plot initial position of the rocket\n",
    "rocket = plt.imshow(img, extent=[xmin,xmax,ymin,ymax], aspect='auto', zorder=2)\n",
    "ax.set_facecolor('#000015')\n",
    "def update(t):\n",
    "    if t<tail_length:\n",
    "        s=0\n",
    "        p=t\n",
    "    elif t>path_length-1:\n",
    "        p=path_length-1\n",
    "        s=t-tail_length\n",
    "    else:\n",
    "        s=t-tail_length\n",
    "        p=t\n",
    "    #update path\n",
    "    rocketpath.set_data(path[s:p,0],path[s:p,1])\n",
    "    #update rocket\n",
    "    rocket.set_data(rotate_rocket(sol.y[2][t],sol.y[3][t]))\n",
    "    rocket.set_extent([sol.y[0][t] - ROCKET_SIZE, sol.y[0][t] + ROCKET_SIZE, sol.y[1][t] - ROCKET_SIZE, sol.y[1][t] + ROCKET_SIZE])\n",
    "    \n",
    "#save and show\n",
    "ani = FuncAnimation(fig, update, frames=ts[:19000][::100], interval=10)\n",
    "ani.save('worst_example.mp4')"
   ]
  },
  {
   "cell_type": "markdown",
   "metadata": {},
   "source": [
    "This compiles the animation."
   ]
  },
  {
   "cell_type": "markdown",
   "metadata": {},
   "source": [
    "<video src=\"worst_example.mp4\" controls>"
   ]
  },
  {
   "cell_type": "markdown",
   "metadata": {},
   "source": [
    "### Model 6"
   ]
  },
  {
   "cell_type": "code",
   "execution_count": 29,
   "metadata": {},
   "outputs": [
    {
     "data": {
      "image/png": "[encoded data removed]",
      "text/plain": [
       "<Figure size 300x300 with 1 Axes>"
      ]
     },
     "metadata": {},
     "output_type": "display_data"
    }
   ],
   "source": [
    "#set initial conditions\n",
    "t0 = 0\n",
    "tf = 1\n",
    "W = 10000\n",
    "r = (.005,.005)\n",
    "c1 = (.2,.8)\n",
    "c2 = (.2,.15)\n",
    "c3 = (.8,.8)\n",
    "c4 = (.8,.15)\n",
    "c5 = (.4,.6)\n",
    "c6 = (.6,.4)\n",
    "c7 = (.2,.475)\n",
    "c8 = (.8,.475)\n",
    "\n",
    "def ode(t, y_val): #define the ode system\n",
    "    x, y, xp, yp, p0, p1, p2, p3 = y_val\n",
    "    #set the new p0 and p1\n",
    "    new_p0 = obstacle_dx(x,y,W,r,c4) + obstacle_dx(x,y,W,r,c2) + obstacle_dx(x,y,W,r,c3) + obstacle_dx(x,y,W,r,c1) + obstacle_dx(x,y,W,r,c5)+obstacle_dx(x,y,W,r,c6)\n",
    "    new_p1 =  obstacle_dy(x,y,W,r,c4) + obstacle_dy(x,y,W,r,c2) + obstacle_dy(x,y,W,r,c3) + obstacle_dy(x,y,W,r,c1) + obstacle_dy(x,y,W,r,c5)+obstacle_dy(x,y,W,r,c6)\n",
    "    return np.array([xp, yp, p2, p3, new_p0, new_p1, -p0, -p1])\n",
    "\n",
    "def bc(ya,yb):\n",
    "# ya are the initial values\n",
    "# yb are the final values\n",
    "    return np.array([ya[0],ya[1],ya[2],ya[3]-2,yb[0]-1,yb[1]-1,yb[2],yb[3]])\n",
    "\n",
    "\n",
    "t_steps = 200 #set the time steps and linspaces\n",
    "t = np.linspace(t0,tf,t_steps)\n",
    "x = np.linspace(0,1,t_steps)\n",
    "y = np.linspace(0,1,t_steps)\n",
    "X,Y = np.meshgrid(x,y)\n",
    "# set all the asteroids\n",
    "Z1 = obstacle(X,Y,W,r,c1) \n",
    "Z2 = obstacle(X,Y,W,r,c2) \n",
    "Z3 = obstacle(X,Y,W,r,c3)\n",
    "Z4 = obstacle(X,Y,W,r,c4)\n",
    "Z5 = obstacle(X,Y,W,r,c5)\n",
    "Z6 = obstacle(X,Y,W,r,c6)\n",
    "Z7 = obstacle(X,Y,W,r,c7)\n",
    "Z8 = obstacle(X,Y,W,r,c8)\n",
    "#set the initial guess\n",
    "y0 = np.ones((8,t_steps))*1\n",
    "# Solve the system.\n",
    "sol = solve_bvp(ode, bc, t, y0,max_nodes=30000)\n",
    "\n",
    "#plot the solutions and label everything\n",
    "plt.plot(sol.y[0], sol.y[1])\n",
    "plt.contour(X,Y,Z1)\n",
    "plt.contour(X,Y,Z2)\n",
    "plt.contour(X,Y,Z3)\n",
    "plt.contour(X,Y,Z4)\n",
    "plt.contour(X,Y,Z5)\n",
    "plt.contour(X,Y,Z6)\n",
    "plt.contour(X,Y,Z7)\n",
    "plt.contour(X,Y,Z8)\n",
    "plt.axis('off')\n",
    "plt.title('8 Asteroids')\n",
    "plt.show()"
   ]
  },
  {
   "cell_type": "markdown",
   "metadata": {},
   "source": [
    "This finds the solution to the boundary problem."
   ]
  },
  {
   "cell_type": "code",
   "execution_count": 30,
   "metadata": {},
   "outputs": [],
   "source": [
    "mypath = sol.y\n",
    "plt.ioff()\n",
    "\n",
    "#get data\n",
    "path_length=len(mypath[1])\n",
    "tail_length=50\n",
    "ts = range(path_length+50)\n",
    "fig = plt.figure()\n",
    "fig.set_facecolor('#000015')\n",
    "fig.set_size_inches(3, 3)\n",
    "ax = fig.add_subplot(111)\n",
    "\n",
    "#set limits\n",
    "ax.set_xlim([-.5,1.5])\n",
    "ax.set_ylim([-.5,1.5])\n",
    "ax.set_facecolor('#000015')\n",
    "\n",
    "#get path\n",
    "path=np.vstack((mypath[0], mypath[1])).T\n",
    "rocketpath, = ax.plot([], [],'w', alpha=0.4)\n",
    "\n",
    "#plot rocket\n",
    "rocket, = ax.plot([], [], color=\"#5FC2D9\", label='rocket', marker='^', markersize=15)\n",
    "# ax.legend(prop={'family': 'Arial'})\n",
    "\n",
    "#plot stars\n",
    "starx=np.random.uniform(-1,2,size=100)\n",
    "stary=np.random.uniform(-1,2,size= 100)\n",
    "sizes=np.random.choice([.5,1,2,3,3.5], size=100)\n",
    "ax.scatter(starx, stary, s=sizes, color='white')\n",
    "\n",
    "#asteroid dots\n",
    "asteroid1 = mpimg.imread(\"meteoroid.png\")\n",
    "r = .07\n",
    "ax.imshow(asteroid1, extent=[c1[0]-r, c1[0]+r, c1[1]-r, c1[1]+r])\n",
    "ax.imshow(asteroid1, extent=[c2[0]-r, c2[0]+r, c2[1]-r, c2[1]+r])\n",
    "ax.imshow(asteroid1, extent=[c3[0]-r, c3[0]+r, c3[1]-r, c3[1]+r])\n",
    "ax.imshow(asteroid1, extent=[c4[0]-r, c4[0]+r, c4[1]-r, c4[1]+r])\n",
    "ax.imshow(asteroid1, extent=[c5[0]-r, c5[0]+r, c5[1]-r, c5[1]+r])\n",
    "ax.imshow(asteroid1, extent=[c6[0]-r, c6[0]+r, c6[1]-r, c6[1]+r])\n",
    "ax.imshow(asteroid1, extent=[c7[0]-r, c7[0]+r, c7[1]-r, c7[1]+r])\n",
    "ax.imshow(asteroid1, extent=[c8[0]-r, c8[0]+r, c8[1]-r, c8[1]+r])\n",
    "\n",
    "#set space station\n",
    "space_station = mpimg.imread(\"space-station.png\")\n",
    "ax.imshow(space_station, extent=[.9,1.1,.9,1.1])\n",
    "\n",
    "#set dimensions of the rocket\n",
    "xmin, xmax = sol.y[0][0]-ROCKET_SIZE, sol.y[0][0]+ROCKET_SIZE\n",
    "ymin, ymax = sol.y[1][0]-ROCKET_SIZE, sol.y[1][0]+ROCKET_SIZE\n",
    "img = mpimg.imread(filepath)\n",
    "\n",
    "# plot the trajectory\n",
    "line, = plt.gca().plot([], [], \"--\", linewidth=3,)\n",
    "\n",
    "# Plot initial position of the rocket\n",
    "rocket = plt.imshow(img, extent=[xmin,xmax,ymin,ymax], aspect='auto', zorder=2)\n",
    "\n",
    "def update(t):\n",
    "    if t<tail_length:\n",
    "        s=0\n",
    "        p=t\n",
    "    elif t>path_length-1:\n",
    "        p=path_length-1\n",
    "        s=t-tail_length\n",
    "    else:\n",
    "        s=t-tail_length\n",
    "        p=t\n",
    "    #update path\n",
    "    rocketpath.set_data(path[s:p,0],path[s:p,1])\n",
    "    #update rocket\n",
    "    rocket.set_data(rotate_rocket(sol.y[2][t],sol.y[3][t]))\n",
    "    rocket.set_extent([sol.y[0][t] - ROCKET_SIZE, sol.y[0][t] + ROCKET_SIZE, sol.y[1][t] - ROCKET_SIZE, sol.y[1][t] + ROCKET_SIZE])\n",
    "\n",
    "#save and show\n",
    "ani = FuncAnimation(fig, update, frames=ts[:1320][::10], interval=10)\n",
    "ani.save('many_asteroids.mp4')"
   ]
  },
  {
   "cell_type": "markdown",
   "metadata": {},
   "source": [
    "This compiles the animaiton."
   ]
  },
  {
   "cell_type": "markdown",
   "metadata": {},
   "source": [
    "<video src=\"many_asteroids.mp4\" controls>"
   ]
  },
  {
   "cell_type": "markdown",
   "metadata": {},
   "source": [
    "### Model 8"
   ]
  },
  {
   "cell_type": "markdown",
   "metadata": {},
   "source": [
    "We will now showcase a model with a moving asteroid."
   ]
  },
  {
   "cell_type": "code",
   "execution_count": 31,
   "metadata": {},
   "outputs": [
    {
     "data": {
      "image/png": "[encoded data removed]",
      "text/plain": [
       "<Figure size 300x300 with 1 Axes>"
      ]
     },
     "metadata": {},
     "output_type": "display_data"
    }
   ],
   "source": [
    "#initialize everything\n",
    "t0 = 0\n",
    "tf = 1\n",
    "W = 10\n",
    "r = (.005,.005)\n",
    "\n",
    "def ode(t, y_val): #define the ode system\n",
    "    x, y, xp, yp, p0, p1, p2, p3 = y_val\n",
    "    #set the new p0 and p1\n",
    "    new_p0 = new_obstacle_dx(x,y,t,-.0001,-.0001,W,r)\n",
    "    new_p1 =  new_obstacle_dy(x,y,t,-.0001,-.0001,W,r)\n",
    "    return np.array([xp, yp, p2, p3, new_p0,new_p1, -p0, -p1])\n",
    "\n",
    "def bc(ya,yb):\n",
    "    # ya are the initial values\n",
    "    # yb are the final values\n",
    "    return np.array([ya[0],ya[1],ya[2],ya[3]-3,yb[0]-1,yb[1]-1,yb[2],yb[3]])\n",
    "\n",
    "\n",
    "t_steps = 200 #set the time steps and linspaces\n",
    "t = np.linspace(t0,tf,t_steps)\n",
    "x = np.linspace(0,1,t_steps)\n",
    "y = np.linspace(0,1,t_steps)\n",
    "X,Y = np.meshgrid(x,y)\n",
    "\n",
    "#find the asteroid\n",
    "Z = obstacle(X,Y,W,r) \n",
    "\n",
    "#set the initial guess\n",
    "y0 = np.ones((8,t_steps))*3\n",
    "\n",
    "# Solve the system.\n",
    "sol = solve_bvp(ode, bc, t, y0,max_nodes=30000)\n",
    "\n",
    "#plot the solutions and label everything\n",
    "plt.plot(sol.y[0], sol.y[1])\n",
    "plt.contour(X,Y,Z)\n",
    "plt.axis('off')\n",
    "plt.title('Moving Asteroid')\n",
    "plt.show()\n"
   ]
  },
  {
   "cell_type": "markdown",
   "metadata": {},
   "source": [
    "This finds the solution to the boundary problem."
   ]
  },
  {
   "cell_type": "code",
   "execution_count": 32,
   "metadata": {},
   "outputs": [
    {
     "name": "stdout",
     "output_type": "stream",
     "text": [
      "200\n"
     ]
    }
   ],
   "source": [
    "plt.ioff()\n",
    "\n",
    "#get data\n",
    "path_length=len(sol.y[1])\n",
    "print(path_length)\n",
    "ts = range(path_length+50)\n",
    "fig = plt.figure()\n",
    "fig.set_facecolor('#000015')\n",
    "fig.set_size_inches(3,3)\n",
    "ax = fig.add_subplot(111)\n",
    "\n",
    "#set limits\n",
    "ax.set_xlim([-.5,1.5])\n",
    "ax.set_ylim([-.5,1.5])\n",
    "ax.set_facecolor('#000015')\n",
    "\n",
    "path=np.vstack((sol.y[0], sol.y[1])).T\n",
    "rocketpath, = ax.plot([], [],'w', alpha=0.4)\n",
    "\n",
    "#plot rocket\n",
    "rocket, = ax.plot([], [], color=\"#5FC2D9\", label='rocket', marker='^', markersize=15)\n",
    "\n",
    "#plot stars\n",
    "starx=np.random.uniform(-1,2,size=100)\n",
    "stary=np.random.uniform(-1,2,size= 100)\n",
    "sizes=np.random.choice([.5,1,2,3,3.5], size=100)\n",
    "ax.scatter(starx, stary, s=sizes, color='white')\n",
    "\n",
    "#asteroid dots\n",
    "asteroid1 = mpimg.imread(\"meteoroid.png\")\n",
    "asteroid, = ax.plot([], [], color=\"#5FC2D9\", label='asteroid', marker='^', markersize=15)\n",
    "c = [1/2,1/2]\n",
    "r = .2\n",
    "\n",
    "#plot the space stations\n",
    "space_station = mpimg.imread(\"space-station.png\")\n",
    "ax.imshow(space_station, extent=[.9,1.1,.9,1.1])\n",
    "\n",
    "#set the dimensions for the rocket\n",
    "xmin, xmax = sol.y[0][0]-ROCKET_SIZE, sol.y[0][0]+ROCKET_SIZE\n",
    "ymin, ymax = sol.y[1][0]-ROCKET_SIZE, sol.y[1][0]+ROCKET_SIZE\n",
    "img = mpimg.imread(filepath)\n",
    "\n",
    "# plot the trajectory\n",
    "line, = plt.gca().plot([], [], \"--\", linewidth=3,)\n",
    "\n",
    "# Plot initial position of the rocket\n",
    "rocket = plt.imshow(img, extent=[xmin,xmax,ymin,ymax], aspect='auto', zorder=2)\n",
    "asteroid = ax.imshow(asteroid1, extent=[c[0]-r, c[0]+r, c[1]-r, c[1]+r],aspect='auto', zorder=2)\n",
    "W = 10\n",
    "r = (.005,.005)\n",
    "\n",
    "def update(t):\n",
    "    if t<50:\n",
    "        s=0\n",
    "        p=t\n",
    "    elif t>path_length-1:\n",
    "        p=path_length-1\n",
    "        s=t-50\n",
    "    else:\n",
    "        s=t-50\n",
    "        p=t\n",
    "    #update path\n",
    "    rocketpath.set_data(path[s:p,0],path[s:p,1])\n",
    "    #update rocket\n",
    "    rocket.set_data(rotate_rocket(sol.y[2][t],sol.y[3][t]))\n",
    "    rocket.set_extent([sol.y[0][t] - ROCKET_SIZE, sol.y[0][t] + ROCKET_SIZE, sol.y[1][t] - ROCKET_SIZE, sol.y[1][t] + ROCKET_SIZE])\n",
    "    x,y = sol.y[0][t], sol.y[1][t]\n",
    "    newx,newy = new_obstaclexy(x,y,t,-.0001,-.0001,W,r)\n",
    "    asteroid.set_extent([newx - ROCKET_SIZE, newx + ROCKET_SIZE, newy - ROCKET_SIZE, newy + ROCKET_SIZE])\n",
    "    \n",
    "#save and show\n",
    "ani = FuncAnimation(fig, update, frames=ts[:200][::2], interval=20)\n",
    "ani.save('rocketmoving.mp4')"
   ]
  },
  {
   "cell_type": "markdown",
   "metadata": {},
   "source": [
    "This compiles the animation."
   ]
  },
  {
   "cell_type": "markdown",
   "metadata": {},
   "source": [
    "<video src=\"rocketmoving.mp4\" controls>"
   ]
  },
  {
   "cell_type": "markdown",
   "metadata": {},
   "source": [
    "# Results/Analysis"
   ]
  },
  {
   "cell_type": "markdown",
   "metadata": {},
   "source": [
    "While doing this project we noticed some interesting things that are worth noting. First, when the weights for asteroids are high enough, our model reliable finds the 2-dimensional optimal path to the spaceship in the given amount of time while avoiding asteroids, both moving and stationary. This suggests our model was set up and implemented correctly. We also noticed that the rocket tends to slow down dramatically when it is near an asteroid. This is likely because the cost of being so close to the asteroid is incredibly high, leading the model to drop acceleration dramatically to being the overall cost down. When it moves away from the asteroids, it accelerates quickly and maintains what appears to be a constant velocity to avoid further acceleration and keep the cost down."
   ]
  },
  {
   "cell_type": "markdown",
   "metadata": {},
   "source": [
    "# Ethical Considerations"
   ]
  },
  {
   "cell_type": "markdown",
   "metadata": {},
   "source": [
    "This project doesn't seem to come with an abundance of issues, but there are a few things that should be considered. First, this model is by no means in a state to be applied to the real world at this time. As mentioned previously, there are vast simplifications in this model to better fit our understanding. Disregarding that we are working in a 2-dimensional space, putting a person into our rocket would almost surely seriously harm or kill them, given the aggressive turns and acceleration. This is by far the most important thing to consider before implementing this model into the real world."
   ]
  },
  {
   "cell_type": "markdown",
   "metadata": {},
   "source": [
    "# Conclusion"
   ]
  },
  {
   "cell_type": "markdown",
   "metadata": {},
   "source": [
    "Overall, we have learned a great deal about optimal control through this project. We gained adeeper understanding of how to set up such a problem and edit it in ways to account for more information. There are a variety of ways to complicate this model and make it more realistic in future work. First, more robust application to the 3-dimensional world would be a good place to start. One could also make adjustments to the cost functional in order to account for a variety of things, such as limiting velocity to protect a human inside the spaceship, accounting for gravity, and accounting for the weight of the rocket at how that changes with fuel consumption."
   ]
  },
  {
   "cell_type": "markdown",
   "metadata": {},
   "source": [
    "# References"
   ]
  },
  {
   "cell_type": "markdown",
   "metadata": {},
   "source": [
    "References"
   ]
  }
 ],
 "metadata": {
  "kernelspec": {
   "display_name": "Python 3.10.13 ('acme')",
   "language": "python",
   "name": "python3"
  },
  "language_info": {
   "codemirror_mode": {
    "name": "ipython",
    "version": 3
   },
   "file_extension": ".py",
   "mimetype": "text/x-python",
   "name": "python",
   "nbconvert_exporter": "python",
   "pygments_lexer": "ipython3",
   "version": "3.10.13"
  },
  "vscode": {
   "interpreter": {
    "hash": "f9667e94c5242b6e179d4931e51f0ea8382a201d07ce0883b2e989376c502410"
   }
  }
 },
 "nbformat": 4,
 "nbformat_minor": 2
}
