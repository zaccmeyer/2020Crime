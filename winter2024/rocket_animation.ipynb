{
 "cells": [
  {
   "cell_type": "markdown",
   "metadata": {},
   "source": [
    "## Rocket Animation"
   ]
  },
  {
   "cell_type": "code",
   "execution_count": 22,
   "metadata": {},
   "outputs": [],
   "source": [
    "import numpy as np\n",
    "import matplotlib.pyplot as plt\n",
    "import matplotlib.animation as animation\n",
    "from IPython.display import HTML\n",
    "from matplotlib.animation import FuncAnimation\n",
    "import matplotlib.image as mpimg"
   ]
  },
  {
   "cell_type": "code",
   "execution_count": 63,
   "metadata": {},
   "outputs": [],
   "source": [
    "plt.ioff()\n",
    "#get data\n",
    "ts = range(250)\n",
    "fig = plt.figure()\n",
    "fig.set_size_inches(16, 10)\n",
    "ax = fig.add_subplot(111)\n",
    "#set limits\n",
    "xs=np.linspace(0, 8, 200)\n",
    "ax.set_xlim([-1,10])\n",
    "ax.set_ylim([-2,2])\n",
    "ax.set_facecolor('#000010')\n",
    "#get path\n",
    "path=np.array([np.sin(np.pi*x/2)/np.pi for x in xs])\n",
    "path=np.vstack((xs,path)).T\n",
    "rocketpath, = ax.plot([], [],'w', alpha=0.4)\n",
    "#plot rocket\n",
    "rocket, = ax.plot([], [],'b', label='rocket', marker='>', markersize=15)\n",
    "#asteroid dots\n",
    "ax.plot([1,3,5,7], [0,0,0,0], 'o', color='brown', label='asteroids', markersize=20)\n",
    "starx=np.random.uniform(-1,10,size=100)\n",
    "stary=np.random.uniform(-2,2,size= 100)\n",
    "sizes=np.random.choice([.5,1,2,3], size=100)\n",
    "ax.scatter(starx, stary, s=sizes, color='white')\n",
    "ax.plot(8,0, color='green', label='target', markersize=15, marker=\"*\")\n",
    "ax.legend()\n",
    "def update(t):\n",
    "    if t<50:\n",
    "        s=0\n",
    "        p=t\n",
    "    elif t>199:\n",
    "        p=199\n",
    "        s=t-50\n",
    "    else:\n",
    "        s=t-50\n",
    "        p=t\n",
    "    #update path\n",
    "    rocketpath.set_data(path[s:p,0],path[s:p,1])\n",
    "    #update rocket\n",
    "    rocket.set_data(path[p,0],path[p,1])\n",
    "#save and show\n",
    "ani = FuncAnimation(fig, update, frames=ts, interval=20)\n",
    "ani.save('animation1.mp4')"
   ]
  },
  {
   "cell_type": "markdown",
   "metadata": {},
   "source": [
    "<video src=\"animation1.mp4\" controls>"
   ]
  },
  {
   "cell_type": "markdown",
   "metadata": {},
   "source": [
    "<video src=\"animation1.mp4\" controls>"
   ]
  },
  {
   "cell_type": "markdown",
   "metadata": {},
   "source": []
  }
 ],
 "metadata": {
  "kernelspec": {
   "display_name": "Python 3",
   "language": "python",
   "name": "python3"
  },
  "language_info": {
   "codemirror_mode": {
    "name": "ipython",
    "version": 3
   },
   "file_extension": ".py",
   "mimetype": "text/x-python",
   "name": "python",
   "nbconvert_exporter": "python",
   "pygments_lexer": "ipython3",
   "version": "3.9.12"
  },
  "orig_nbformat": 4
 },
 "nbformat": 4,
 "nbformat_minor": 2
}
