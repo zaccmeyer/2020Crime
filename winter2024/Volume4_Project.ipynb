{
 "cells": [
  {
   "cell_type": "markdown",
   "metadata": {},
   "source": [
    "# Houston, We Have an Optimization Problem\n",
    "J. BENNETT, M. DAVIS, Z. MEYER, M. SHIELDS, L. TOLMAN"
   ]
  },
  {
   "cell_type": "markdown",
   "metadata": {},
   "source": [
    "# Abstract"
   ]
  },
  {
   "cell_type": "markdown",
   "metadata": {},
   "source": [
    "In this project we attempt to solve an intricate optimal control problem. We want to understand the optimal path (in a two-dimensional world) from a spaceship back to the international space station in a given amount of time. We try to do this in an optimal path where we minimize gas consumption. We also make this problem more complex by adding in asteroids that the spaceship must avoid. This traditionally would require inequality constraints, but we will utilize soft constraints instead. We run our solution first without asteroids and then make the problem more complex. We also animate our results to better understand and visualize the optimal path."
   ]
  },
  {
   "cell_type": "markdown",
   "metadata": {},
   "source": [
    "# Background/Motivation"
   ]
  },
  {
   "cell_type": "markdown",
   "metadata": {},
   "source": [
    "Space travel has long fascinated humanity. In recent years, more and more space travel is occurring. Traveling in space present many different and unique challenges. In our project, we attempt to better understand optimal paths for traveling in space. While we do simplify the problem in many ways (making it two dimensional, ignoring gravity, etc.) we still can learn a lot from optimal paths in our problem. We set up a problem where our spaceship is located at the origin in a two-dimensional world. We then try and find the optimal path back to the space station placed at (1,1). In our most simplified model, we do not have any asteroids in the way. In space where there is no air resistance, once you are traveling a certain velocity you continue to travel at that velocity. This means we can minimize gas consumption by minimizing the acceleration in the x and y direction. This will give us our optimal path. In our first model, with no asteroids in the way, this should result in a straight path back to the space station.\n",
    "\n",
    "After getting this model to work, we complicate our model by adding asteroids. To avoid an asteroid, we could use inequality constraints with KKT conditions. However, due to the complexities of KKT conditions in optimal control, we can also handle this constraint as a soft constraint. This can be done by adding the constraint into the cost functional. This essentially adds a cost to our functional when the spaceship is too close to the asteroid. We want this cost to vanish quickly when the spaceship is away from the asteroid, so it does not take a very suboptimal path. We also do not want this cost to vanish so quickly that the spaceship gets arbitrarily close to the asteroid. By adding this constraint to our cost functional, when we minimize our cost functional, we will minimize gas consumption and avoid the asteroids. After our first model, we will add an asteroid and find the optimal path. Then we will continue to add asteroids to see how our path changes. Finally, we will make the asteroids move instead of being stationary. \n",
    "\n",
    "In all of our models besides the last where we have the nonstationary asteroids, we use the following cost functional and state space.\n"
   ]
  },
  {
   "cell_type": "markdown",
   "metadata": {},
   "source": [
    "INSERT COST FUNCTIONAL AND STATE SPACE"
   ]
  },
  {
   "cell_type": "markdown",
   "metadata": {},
   "source": [
    "We use the cost functional defined above. In this cost functional u_x and u_y represent acceleration in the x and y direction. In the summation, n represent the number of asteroids. So, if we do not have any asteroids the summation does not exist. In the summation part of the cost functional Wi is the weight of the ith asteroid (the cost of getting too close or hitting the asteroid) and c_xi, c_yi, and r_i define the center and radius of the ith asteroid. With our cost functional and state space defined we can use Pontryagin’s Maximum Principle to find our costate evolution. "
   ]
  },
  {
   "cell_type": "markdown",
   "metadata": {},
   "source": [
    "INSERT PMP "
   ]
  },
  {
   "cell_type": "markdown",
   "metadata": {},
   "source": [
    "Now we have everything we need to solve our optimization problem besides our boundary conditions. Based on the setup of our problem we use the following boundary conditions."
   ]
  },
  {
   "cell_type": "markdown",
   "metadata": {},
   "source": [
    "INSERT BOUNDARY CONDITIONS"
   ]
  },
  {
   "cell_type": "markdown",
   "metadata": {},
   "source": [
    "This ensures that our spaceship is starting at the origin and travels to the space station. We are also assuming that our spaceship could have been moving with initial velocities of v_x and v_y in the x and y direction before we begin our optimization problem. We force our spaceship to stop moving once it arrives at the space station.\n"
   ]
  },
  {
   "cell_type": "markdown",
   "metadata": {},
   "source": [
    "This gives us everything we need to solve for our optimal path. We will showcase several different situations and amounts of asteroids in the following models. When we adjust the asteroids so that they are moving, we change the cost functional to the following form."
   ]
  },
  {
   "cell_type": "markdown",
   "metadata": {},
   "source": [
    "INSERT NEW COST FUNCTIONAL"
   ]
  },
  {
   "cell_type": "markdown",
   "metadata": {},
   "source": [
    "The only difference in this cost functional is now the asteroids center is a function of time. "
   ]
  },
  {
   "cell_type": "markdown",
   "metadata": {},
   "source": [
    "# Models"
   ]
  },
  {
   "cell_type": "code",
   "execution_count": 2,
   "metadata": {},
   "outputs": [],
   "source": [
    "import numpy as np\n",
    "import matplotlib.pyplot as plt\n",
    "import matplotlib.animation as animation\n",
    "from IPython.display import HTML\n",
    "from matplotlib.animation import FuncAnimation\n",
    "from scipy.integrate import solve_bvp\n",
    "import matplotlib.image as mpimg\n",
    "from scipy.ndimage import rotate"
   ]
  },
  {
   "cell_type": "markdown",
   "metadata": {},
   "source": [
    "We will use the above packages in our models while solving for the optimal path of the spaceship."
   ]
  },
  {
   "cell_type": "code",
   "execution_count": 3,
   "metadata": {},
   "outputs": [],
   "source": [
    "def obstacle(x,y,W1=1,r=(1/5,1/5),c=(1/2,1/2)):\n",
    "    '''\n",
    "    Define an area that will represent an obstacle\n",
    "    \n",
    "    Parameters:\n",
    "        x (float): x position in space\n",
    "        y (float): y position in space\n",
    "        W1 (float): weight of cost\n",
    "        r (tuple): radius in x and y direction\n",
    "        c (tuple): center of the ellipse\n",
    "    '''\n",
    "\n",
    "    ellipse = ((x - c[0])**2/r[0] + (y - c[1])**2/r[1])**20 + 1\n",
    "\n",
    "    return W1 / ellipse\n",
    "\n",
    "def obstacle_dx(x,y,W1=1,r=(1/5,1/5),c=(1/2,1/2)):\n",
    "    '''\n",
    "    x derivative of the obstacle\n",
    "\n",
    "    Parameters:\n",
    "        x (float): x position in space\n",
    "        y (float): y position in space\n",
    "        W (float): weight of cost\n",
    "        r (tuple): radius in x and y direction\n",
    "        c (tuple): center of the ellipse\n",
    "    '''\n",
    "\n",
    "    circle = (x - c[0])**2/r[0] + (y - c[1])**2/r[1]\n",
    "    numer = -40* W1 * (x-c[0])*(circle)**19\n",
    "    denom = r[0]*((circle)**20 + 1)**2\n",
    "\n",
    "    return numer / denom\n",
    "\n",
    "def obstacle_dy(x,y,W1=1,r=(1/5,1/5),c=(1/2,1/2)):\n",
    "    '''\n",
    "    y derivative of the obstacle\n",
    "\n",
    "    Parameters:\n",
    "        x (float): x position in space\n",
    "        y (float): y position in space\n",
    "        W1 (float): weight of cost\n",
    "        r (tuple): radius in x and y direction\n",
    "        c (tuple): center of the ellipse\n",
    "    '''\n",
    "\n",
    "    circle = (x - c[0])**2/r[0] + (y - c[1])**2/r[1]\n",
    "    numer = -40 * W1 * (y-c[1])*(circle)**19\n",
    "    denom = r[1]*((circle)**20 + 1)**2\n",
    "    \n",
    "    return numer / denom"
   ]
  },
  {
   "cell_type": "markdown",
   "metadata": {},
   "source": [
    "This defines functions we will use for models ??-?? to define our astroid obstacles."
   ]
  },
  {
   "cell_type": "code",
   "execution_count": 4,
   "metadata": {},
   "outputs": [],
   "source": [
    "def new_obstacle(x,y,t,xspeed,yspeed,W1=1,r=(1/5,1/5),c=(1/2,1/2)):\n",
    "    '''\n",
    "    Define an area that will represent an obstacle with a moving center\n",
    "    \n",
    "    Parameters:\n",
    "        x (float): x position in space\n",
    "        y (float): y position in space\n",
    "        W1 (float): weight of cost\n",
    "        r (tuple): radius in x and y direction\n",
    "        c (tuple): center of the ellipse\n",
    "    '''\n",
    "    c = (xspeed*t+c[0],yspeed*t+c[1])\n",
    "    ellipse = ((x - c[0])**2/r[0] + (y - c[1])**2/r[1])**2 + 1\n",
    "    # print(ellipse)\n",
    "\n",
    "    return W1 / ellipse\n",
    "def new_obstaclexy(x,y,t,xspeed,yspeed,W1=1,r=(1/5,1/5),c=(1/2,1/2)):\n",
    "    '''\n",
    "    Extract the x and y values for the new center\n",
    "    \n",
    "    Parameters:\n",
    "        x (float): x position in space\n",
    "        y (float): y position in space\n",
    "        W1 (float): weight of cost\n",
    "        r (tuple): radius in x and y direction\n",
    "        c (tuple): center of the ellipse\n",
    "    '''\n",
    "    c = (xspeed*t+c[0],yspeed*t+c[1])\n",
    "\n",
    "    return c\n",
    "\n",
    "def new_obstacle_dx(x,y,t,xspeed,yspeed,W1=1,r=(1/5,1/5),c=(1/2,1/2)):\n",
    "    '''\n",
    "    x derivative of the obstacle with a moving center\n",
    "\n",
    "    Parameters:\n",
    "        x (float): x position in space\n",
    "        y (float): y position in space\n",
    "        W (float): weight of cost\n",
    "        r (tuple): radius in x and y direction\n",
    "        c (tuple): center of the ellipse\n",
    "    '''\n",
    "    c = (xspeed*t+c[0],yspeed*t+c[1])\n",
    "    circle = (x - c[0])**2/r[0] + (y - c[1])**2/r[1]\n",
    "    numer = -40* W1 * (x-c[0])*(circle)**19\n",
    "    denom = r[0]*((circle)**20 + 1)**2\n",
    "\n",
    "    return numer / denom\n",
    "\n",
    "def new_obstacle_dy(x,y,t,xspeed,yspeed, W1=1,r=(1/5,1/5),c=(1/2,1/2)):\n",
    "    '''\n",
    "    y derivative of the obstacle with a moving center\n",
    "\n",
    "    Parameters:\n",
    "        x (float): x position in space\n",
    "        y (float): y position in space\n",
    "        W1 (float): weight of cost\n",
    "        r (tuple): radius in x and y direction\n",
    "        c (tuple): center of the ellipse\n",
    "    '''\n",
    "    c = (xspeed*t+c[0],yspeed*t+c[1])\n",
    "    circle = (x - c[0])**2/r[0] + (y - c[1])**2/r[1]\n",
    "    numer = -40 * W1 * (y-c[1])*(circle)**19\n",
    "    denom = r[1]*((circle)**20 + 1)**2\n",
    "\n",
    "    return numer / denom"
   ]
  },
  {
   "cell_type": "markdown",
   "metadata": {},
   "source": [
    "This defines functions we will use for models ??-?? to define our moving astroid obstacles."
   ]
  },
  {
   "cell_type": "code",
   "execution_count": 10,
   "metadata": {},
   "outputs": [],
   "source": [
    "# Read in rocket image\n",
    "filepath = \"Untitled_Artwork.png\"\n",
    "img = mpimg.imread(filepath)\n",
    "\n",
    "# Rotate bird image based on velocity\n",
    "def rotate_bird(xv,yv):\n",
    "    angle = np.degrees(np.arctan2(-xv,yv))\n",
    "    rotated_img = rotate(img, angle, reshape=False)\n",
    "    rotated_img = np.clip(rotated_img, 0, 1)\n",
    "    return rotated_img"
   ]
  },
  {
   "cell_type": "markdown",
   "metadata": {},
   "source": [
    "This defines a function we will use in our models to turn our rocketship image as it moves."
   ]
  },
  {
   "cell_type": "markdown",
   "metadata": {},
   "source": [
    "### Model 1"
   ]
  },
  {
   "cell_type": "code",
   "execution_count": 5,
   "metadata": {},
   "outputs": [],
   "source": [
    "t0 = 0\n",
    "tf = 1\n",
    "\n",
    "\n",
    "def ode(t, y_val): #define the ode systen\n",
    "    x, y, xp, yp, p0, p1, p2, p3 = y_val\n",
    "    # print(np.shape(x))\n",
    "    # print(np.shape(p))\n",
    "    zeros = np.zeros_like(x)\n",
    "    return np.array([xp, yp, p2, p3, zeros, zeros, -p0, -p1])\n",
    "def bc(ya,yb):\n",
    "# ya are the initial values\n",
    "# yb are the final values\n",
    "    return np.array([ya[0],ya[1],ya[2],ya[3],yb[0]-1,yb[1]-1,yb[2],yb[3]])\n",
    "\n",
    "#set the intial conditions and yo\n",
    "t_steps = 200\n",
    "t = np.linspace(t0,tf,t_steps)\n",
    "x = np.linspace(0,1,t_steps)\n",
    "\n",
    "y0 = np.ones((8,t_steps))\n",
    "# p0 = np.array([1,1])\n",
    "# Solve the system.\n",
    "\n",
    "sol = solve_bvp(ode, bc, t, y0)\n",
    "\n",
    "#plot the solutions and label everything\n",
    "plt.plot(sol.y[0], sol.y[1])\n",
    "plt.axis('off')\n",
    "plt.title('No Astroids')\n",
    "plt.show()\n"
   ]
  },
  {
   "cell_type": "markdown",
   "metadata": {},
   "source": [
    "This finds the solution to the boundry problem."
   ]
  },
  {
   "cell_type": "code",
   "execution_count": null,
   "metadata": {},
   "outputs": [],
   "source": [
    "# plot the bird\n",
    "BIRD_SIZE = .14\n",
    "\n",
    "\n",
    "# Rotate bird image based on velocity\n",
    "def rotate_bird(xv,yv):\n",
    "    angle = np.degrees(np.arctan2(-xv,yv))\n",
    "    rotated_img = rotate(img, angle, reshape=False)\n",
    "    rotated_img = np.clip(rotated_img, 0, 1)\n",
    "    return rotated_img\n",
    "\n",
    "\n",
    "plt.ioff()\n",
    "#get data\n",
    "path_length=len(sol.y[1])\n",
    "print(path_length)\n",
    "ts = range(path_length+50)\n",
    "fig = plt.figure(dpi = 100)\n",
    "fig.set_facecolor('#000015')\n",
    "fig.set_size_inches(2.5, 2.5)\n",
    "ax = fig.add_subplot(111)\n",
    "#set limits\n",
    "ax.set_xlim([-.5,1.5])\n",
    "ax.set_ylim([-.5,1.5])\n",
    "ax.set_facecolor('#000015')\n",
    "# xs=np.linspace(0, 8, 200)\n",
    "# ax.set_xlim([-1,10])\n",
    "# ax.set_ylim([-2,2])\n",
    "# ax.set_facecolor('#000010')\n",
    "#get path\n",
    "path=np.vstack((sol.y[0], sol.y[1])).T\n",
    "rocketpath, = ax.plot([], [],'w', alpha=0.4)\n",
    "#plot rocket\n",
    "rocket, = ax.plot([], [], color=\"#5FC2D9\", label='rocket', marker='^', markersize=15)\n",
    "#plot stars\n",
    "starx=np.random.uniform(-1,2,size=100)\n",
    "stary=np.random.uniform(-1,2,size= 100)\n",
    "sizes=np.random.choice([.5,1,2,3,3.5], size=100)\n",
    "ax.scatter(starx, stary, s=sizes, color='white')\n",
    "#asteroid dots\n",
    "asteroid1 = mpimg.imread(\"meteoroid.png\")\n",
    "c = [1/2,1/2]\n",
    "r = .2\n",
    "# ax.imshow(asteroid1, extent=[c[0]-r, c[0]+r, c[1]-r, c[1]+r])\n",
    "\n",
    "space_station = mpimg.imread(\"space-station.png\")\n",
    "ax.imshow(space_station, extent=[.9,1.1,.9,1.1])\n",
    "\n",
    "xmin, xmax = sol.y[0][0]-BIRD_SIZE, sol.y[0][0]+BIRD_SIZE\n",
    "ymin, ymax = sol.y[1][0]-BIRD_SIZE, sol.y[1][0]+BIRD_SIZE\n",
    "img = mpimg.imread(filepath)\n",
    "\n",
    "# plot the trajectory\n",
    "line, = plt.gca().plot([], [], \"--\", linewidth=3,)\n",
    "\n",
    "# Plot initial position of the bird\n",
    "rocket = plt.imshow(img, extent=[xmin,xmax,ymin,ymax], aspect='auto', zorder=2)\n",
    "\n",
    "# ax.legend()\n",
    "def update(t):\n",
    "    if t<50:\n",
    "        s=0\n",
    "        p=t\n",
    "    elif t>path_length-1:\n",
    "        p=path_length-1\n",
    "        s=t-50\n",
    "    else:\n",
    "        s=t-50\n",
    "        p=t\n",
    "    #update path\n",
    "    rocketpath.set_data(path[s:p,0],path[s:p,1])\n",
    "    #update rocket\n",
    "    rocket.set_data(rotate_bird(sol.y[2][t],sol.y[3][t]))\n",
    "    rocket.set_extent([sol.y[0][t] - BIRD_SIZE, sol.y[0][t] + BIRD_SIZE, sol.y[1][t] - BIRD_SIZE, sol.y[1][t] + BIRD_SIZE])\n",
    "#save and show\n",
    "ani = FuncAnimation(fig, update, frames=ts[:200][::10], interval=20)\n",
    "ani.save('simple_example.mp4')"
   ]
  },
  {
   "cell_type": "markdown",
   "metadata": {},
   "source": [
    "<video src=\"simple_example\" controls>"
   ]
  },
  {
   "cell_type": "markdown",
   "metadata": {},
   "source": [
    "### Model 2"
   ]
  },
  {
   "cell_type": "code",
   "execution_count": 23,
   "metadata": {},
   "outputs": [
    {
     "data": {
      "image/png": "[encoded data removed]",
      "text/plain": [
       "<Figure size 640x480 with 1 Axes>"
      ]
     },
     "metadata": {},
     "output_type": "display_data"
    }
   ],
   "source": [
    "t0 = 0\n",
    "tf = 1\n",
    "W = 10\n",
    "r = (.1,.1)\n",
    "\n",
    "def ode(t, y_val): #define the ode systen\n",
    "    x, y, xp, yp, p0, p1, p2, p3 = y_val\n",
    "    new_p0 = obstacle_dx(x,y,W,r)\n",
    "    new_p1 =  obstacle_dy(x,y,W,r)\n",
    "    return np.array([xp, yp, p2, p3, new_p0,new_p1, -p0, -p1])\n",
    "\n",
    "def bc(ya,yb):\n",
    "    # ya are the initial values\n",
    "    # yb are the final values\n",
    "    return np.array([ya[0],ya[1],ya[2],ya[3]-3,yb[0]-1,yb[1]-1,yb[2],yb[3]])\n",
    "\n",
    "\n",
    "t_steps = 200 #set the time steps and linsapces\n",
    "t = np.linspace(t0,tf,t_steps)\n",
    "x = np.linspace(0,1,t_steps)\n",
    "y = np.linspace(0,1,t_steps)\n",
    "X,Y = np.meshgrid(x,y)\n",
    "Z = obstacle(X,Y,W,r) #find Z \n",
    "# element 4: the initial guess.\n",
    "y0 = np.ones((8,t_steps))*3\n",
    "# Solve the system.\n",
    "sol = solve_bvp(ode, bc, t, y0, max_nodes=30000)\n",
    "\n",
    "#plot the solutions and label everything\n",
    "plt.plot(sol.y[0], sol.y[1])\n",
    "plt.contour(X,Y,Z)\n",
    "plt.axis('off')\n",
    "plt.title('One Astroid')\n",
    "plt.show()"
   ]
  },
  {
   "cell_type": "markdown",
   "metadata": {},
   "source": [
    "This finds the solution to the boundary problem."
   ]
  },
  {
   "cell_type": "code",
   "execution_count": 21,
   "metadata": {},
   "outputs": [],
   "source": [
    "# plot the bird\n",
    "BIRD_SIZE = .14\n",
    "\n",
    "plt.ioff()\n",
    "\n",
    "#get data\n",
    "path_length=len(sol.y[1])\n",
    "ts = range(path_length+50)\n",
    "fig = plt.figure(dpi = 100)\n",
    "fig.set_facecolor('#000015')\n",
    "fig.set_size_inches(6, 6)\n",
    "ax = fig.add_subplot(111)\n",
    "\n",
    "#set limits\n",
    "ax.set_xlim([-.5,1.5])\n",
    "ax.set_ylim([-.5,1.5])\n",
    "ax.set_facecolor('#000015')\n",
    "\n",
    "#get path\n",
    "path=np.vstack((sol.y[0], sol.y[1])).T\n",
    "rocketpath, = ax.plot([], [],'w', alpha=0.4)\n",
    "\n",
    "#plot rocket\n",
    "rocket, = ax.plot([], [], color=\"#5FC2D9\", label='rocket', marker='^', markersize=15)\n",
    "\n",
    "#plot stars\n",
    "starx=np.random.uniform(-1,2,size=100)\n",
    "stary=np.random.uniform(-1,2,size= 100)\n",
    "sizes=np.random.choice([.5,1,2,3,3.5], size=100)\n",
    "ax.scatter(starx, stary, s=sizes, color='white')\n",
    "\n",
    "#asteroid dots\n",
    "asteroid1 = mpimg.imread(\"meteoroid.png\")\n",
    "c = [1/2,1/2]\n",
    "r = .2\n",
    "ax.imshow(asteroid1, extent=[c[0]-r, c[0]+r, c[1]-r, c[1]+r])\n",
    "\n",
    "space_station = mpimg.imread(\"space-station.png\")\n",
    "ax.imshow(space_station, extent=[.9,1.1,.9,1.1])\n",
    "\n",
    "xmin, xmax = sol.y[0][0]-BIRD_SIZE, sol.y[0][0]+BIRD_SIZE\n",
    "ymin, ymax = sol.y[1][0]-BIRD_SIZE, sol.y[1][0]+BIRD_SIZE\n",
    "img = mpimg.imread(filepath)\n",
    "\n",
    "# plot the trajectory\n",
    "line, = plt.gca().plot([], [], \"--\", linewidth=3,)\n",
    "\n",
    "# Plot initial position of the bird\n",
    "rocket = plt.imshow(img, extent=[xmin,xmax,ymin,ymax], aspect='auto', zorder=2)\n",
    "\n",
    "# ax.legend()\n",
    "def update(t):\n",
    "    if t<50:\n",
    "        s=0\n",
    "        p=t\n",
    "    elif t>path_length-1:\n",
    "        p=path_length-1\n",
    "        s=t-50\n",
    "    else:\n",
    "        s=t-50\n",
    "        p=t\n",
    "\n",
    "    #update path\n",
    "    rocketpath.set_data(path[s:p,0],path[s:p,1])\n",
    "\n",
    "    #update rocket\n",
    "    rocket.set_data(rotate_bird(sol.y[2][t],sol.y[3][t]))\n",
    "    rocket.set_extent([sol.y[0][t] - BIRD_SIZE, sol.y[0][t] + BIRD_SIZE, sol.y[1][t] - BIRD_SIZE, sol.y[1][t] + BIRD_SIZE])\n",
    "\n",
    "#save and show\n",
    "ani = FuncAnimation(fig, update, frames=ts[:950][::10], interval=20)\n",
    "ani.save('rocket1.mp4')"
   ]
  },
  {
   "cell_type": "markdown",
   "metadata": {},
   "source": [
    "This compiles the animation."
   ]
  },
  {
   "cell_type": "markdown",
   "metadata": {},
   "source": [
    "<video src=\"rocket1.mp4\" controls>"
   ]
  },
  {
   "cell_type": "markdown",
   "metadata": {},
   "source": [
    "### Model 3"
   ]
  },
  {
   "cell_type": "code",
   "execution_count": 24,
   "metadata": {},
   "outputs": [
    {
     "data": {
      "image/png": "[encoded data removed]",
      "text/plain": [
       "<Figure size 640x480 with 1 Axes>"
      ]
     },
     "metadata": {},
     "output_type": "display_data"
    }
   ],
   "source": [
    "t0 = 0\n",
    "tf = 1\n",
    "W = 15000\n",
    "r = (.007,.007)\n",
    "c1 = (.2,.2)\n",
    "c2 = (.6,.9)\n",
    "c3 = (.4,.3)\n",
    "c4 = (.5,.6)\n",
    "\n",
    "def ode(t, y_val): #define the ode systen\n",
    "    x, y, xp, yp, p0, p1, p2, p3 = y_val\n",
    "    # print(np.shape(x))\n",
    "    # print(np.shape(p))\n",
    "    zeros = np.zeros_like(x)\n",
    "    new_p0 = obstacle_dx(x,y,W,r,c4) + obstacle_dx(x,y,W,r,c2) + obstacle_dx(x,y,W,r,c3)\n",
    "    new_p1 =  obstacle_dy(x,y,W,r,c4) + obstacle_dy(x,y,W,r,c2) + obstacle_dy(x,y,W,r,c3)\n",
    "    return np.array([xp, yp, p2, p3, new_p0, new_p1, -p0, -p1])\n",
    "\n",
    "def bc(ya,yb):\n",
    "    # ya are the initial values\n",
    "    # yb are the final values\n",
    "    return np.array([ya[0],ya[1],ya[2],ya[3]-2,yb[0]-1,yb[1]-1,yb[2],yb[3]])\n",
    "\n",
    "\n",
    "t_steps = 200 #set the time steps and linsapces\n",
    "t = np.linspace(t0,tf,t_steps)\n",
    "x = np.linspace(0,1,t_steps)\n",
    "y = np.linspace(0,1,t_steps)\n",
    "X,Y = np.meshgrid(x,y)\n",
    "# Z1 = obstacle2(X,Y,W,r,c1) #find Z \n",
    "Z2 = obstacle(X,Y,W,r,c2) #find Z \n",
    "Z3 = obstacle(X,Y,W,r,c3)\n",
    "Z4 = obstacle(X,Y,W,r,c4)\n",
    "# element 4: the initial guess.\n",
    "y0 = np.ones((8,t_steps))*3\n",
    "# Solve the system.\n",
    "sol = solve_bvp(ode, bc, t, y0,max_nodes=30000)\n",
    "\n",
    "#plot the solutions and label everything\n",
    "plt.plot(sol.y[0], sol.y[1])\n",
    "# plt.contour(X,Y,Z1)\n",
    "plt.contour(X,Y,Z2)\n",
    "plt.contour(X,Y,Z3)\n",
    "plt.contour(X,Y,Z4)\n",
    "plt.axis('off')\n",
    "plt.title('3 Astroids')\n",
    "plt.show()"
   ]
  },
  {
   "cell_type": "markdown",
   "metadata": {},
   "source": [
    "This finds the solution to the boundary problem."
   ]
  },
  {
   "cell_type": "code",
   "execution_count": 26,
   "metadata": {},
   "outputs": [],
   "source": [
    "mypath = sol.y\n",
    "plt.ioff()\n",
    "#get data\n",
    "path_length=len(mypath[1])\n",
    "tail_length=50\n",
    "ts = range(path_length+50)\n",
    "fig = plt.figure(dpi = 100)\n",
    "fig.set_facecolor('#000015')\n",
    "fig.set_size_inches(5, 5)\n",
    "ax = fig.add_subplot(111)\n",
    "#set limits\n",
    "ax.set_xlim([-.5,1.5])\n",
    "ax.set_ylim([-.5,1.5])\n",
    "ax.set_facecolor('#000015')\n",
    "#get path\n",
    "path=np.vstack((mypath[0], mypath[1])).T\n",
    "rocketpath, = ax.plot([], [],'w', alpha=0.4)\n",
    "#plot rocket\n",
    "rocket, = ax.plot([], [], color=\"#5FC2D9\", label='rocket', marker='^', markersize=15)\n",
    "# ax.legend(prop={'family': 'Arial'})\n",
    "#plot stars\n",
    "starx=np.random.uniform(-1,2,size=100)\n",
    "stary=np.random.uniform(-1,2,size= 100)\n",
    "sizes=np.random.choice([.5,1,2,3,3.5], size=100)\n",
    "ax.scatter(starx, stary, s=sizes, color='white')\n",
    "#asteroid dots\n",
    "asteroid1 = mpimg.imread(\"meteoroid.png\")\n",
    "# asteroid1=plt.Circle(c4, .07, color='#D92929')\n",
    "r = .07\n",
    "ax.imshow(asteroid1, extent=[c4[0]-r, c4[0]+r, c4[1]-r, c4[1]+r])\n",
    "# asteroid2=plt.Circle(c2, .07, color='#D92929')\n",
    "r = .07\n",
    "ax.imshow(asteroid1, extent=[c2[0]-r, c2[0]+r, c2[1]-r, c2[1]+r])\n",
    "# asteroid3=plt.Circle(c3, .07, color='#D92929')\n",
    "c = [1/2,1/2]\n",
    "r = .07\n",
    "ax.imshow(asteroid1, extent=[c3[0]-r, c3[0]+r, c3[1]-r, c3[1]+r])\n",
    "\n",
    "space_station = mpimg.imread(\"space-station.png\")\n",
    "ax.imshow(space_station, extent=[.9,1.1,.9,1.1])\n",
    "\n",
    "xmin, xmax = sol.y[0][0]-BIRD_SIZE, sol.y[0][0]+BIRD_SIZE\n",
    "ymin, ymax = sol.y[1][0]-BIRD_SIZE, sol.y[1][0]+BIRD_SIZE\n",
    "img = mpimg.imread(filepath)\n",
    "# plot the trajectory\n",
    "line, = plt.gca().plot([], [], \"--\", linewidth=3,)\n",
    "\n",
    "# Plot initial position of the bird\n",
    "rocket = plt.imshow(img, extent=[xmin,xmax,ymin,ymax], aspect='auto', zorder=2)\n",
    "\n",
    "\n",
    "# ax.plot(1,1, color='#F0F287', label='space station', markersize=20, marker=\"*\")\n",
    "# ax.legend()\n",
    "def update(t):\n",
    "    if t<tail_length:\n",
    "        s=0\n",
    "        p=t\n",
    "    elif t>path_length-1:\n",
    "        p=path_length-1\n",
    "        s=t-tail_length\n",
    "    else:\n",
    "        s=t-tail_length\n",
    "        p=t\n",
    "    #update path\n",
    "    rocketpath.set_data(path[s:p,0],path[s:p,1])\n",
    "    #update rocket\n",
    "    # rocket.set_data(path[p,0],path[p,1])\n",
    "    rocket.set_data(rotate_bird(sol.y[2][t],sol.y[3][t]))\n",
    "    rocket.set_extent([sol.y[0][t] - BIRD_SIZE, sol.y[0][t] + BIRD_SIZE, sol.y[1][t] - BIRD_SIZE, sol.y[1][t] + BIRD_SIZE])\n",
    "#save and show\n",
    "ani = FuncAnimation(fig, update, frames=ts[:2450][::10], interval=10)\n",
    "ani.save('rocket_3asteroids.mp4')"
   ]
  },
  {
   "cell_type": "markdown",
   "metadata": {},
   "source": [
    "This compiles the animation."
   ]
  },
  {
   "cell_type": "markdown",
   "metadata": {},
   "source": [
    "<video src=\"rocket_3asteroids.mp4\" controls>"
   ]
  },
  {
   "cell_type": "markdown",
   "metadata": {},
   "source": [
    "### Model 4"
   ]
  },
  {
   "cell_type": "code",
   "execution_count": null,
   "metadata": {},
   "outputs": [],
   "source": [
    "t0 = 0\n",
    "tf = 1\n",
    "W = 100000\n",
    "r = (.007,.007)\n",
    "c1 = (.2,.2)\n",
    "c2 = (.6,.9)\n",
    "c3 = (.3,.8)\n",
    "c4 = (.5,.7)\n",
    "\n",
    "def ode(t, y_val): #define the ode systen\n",
    "    x, y, xp, yp, p0, p1, p2, p3 = y_val\n",
    "    # print(np.shape(x))\n",
    "    # print(np.shape(p))\n",
    "    zeros = np.zeros_like(x)\n",
    "    new_p0 = obstacle_dx(x,y,W,r,c1) + obstacle_dx(x,y,W,r,c2) + obstacle_dx(x,y,W,r,c3) + obstacle_dx(x,y,W,r,c4)\n",
    "    new_p1 =  obstacle_dy(x,y,W,r,c1) + obstacle_dy(x,y,W,r,c2) + obstacle_dy(x,y,W,r,c3) + obstacle_dy(x,y,W,r,c4)\n",
    "    return np.array([xp, yp, p2, p3, new_p0,new_p1, -p0, -p1])\n",
    "\n",
    "def bc(ya,yb):\n",
    "# ya are the initial values\n",
    "# yb are the final values\n",
    "    return np.array([ya[0],ya[1],ya[2],ya[3]-2,yb[0]-1,yb[1]-1,yb[2],yb[3]])\n",
    "\n",
    "\n",
    "t_steps = 200 #set the time steps and linsapces\n",
    "t = np.linspace(t0,tf,t_steps)\n",
    "x = np.linspace(0,1,t_steps)\n",
    "y = np.linspace(0,1,t_steps)\n",
    "X,Y = np.meshgrid(x,y)\n",
    "Z1 = obstacle(X,Y,W,r,c1) #find Z \n",
    "Z2 = obstacle(X,Y,W,r,c2) #find Z \n",
    "Z3 = obstacle(X,Y,W,r,c3)\n",
    "Z4 = obstacle(X,Y,W,r,c4)\n",
    "# element 4: the initial guess.\n",
    "y0 = np.ones((8,t_steps))*3\n",
    "# Solve the system.\n",
    "sol = solve_bvp(ode, bc, t, y0,max_nodes=30000)\n",
    "\n",
    "#plot the solutions and label everything\n",
    "plt.plot(sol.y[0], sol.y[1])\n",
    "plt.contour(X,Y,Z1)\n",
    "plt.contour(X,Y,Z2)\n",
    "plt.contour(X,Y,Z3)\n",
    "plt.contour(X,Y,Z4)\n",
    "plt.axis('off')\n",
    "plt.title('4 Astroids')\n",
    "plt.show()\n"
   ]
  },
  {
   "cell_type": "markdown",
   "metadata": {},
   "source": [
    "This finds the solution to the boundary problem."
   ]
  },
  {
   "cell_type": "code",
   "execution_count": null,
   "metadata": {},
   "outputs": [],
   "source": [
    "plt.ioff()\n",
    "#get data\n",
    "path_length=len(sol.y[1])\n",
    "print(path_length)\n",
    "tail_length=50\n",
    "ts = range(path_length+50)\n",
    "fig = plt.figure(dpi = 100)\n",
    "fig.set_facecolor('#000015')\n",
    "fig.set_size_inches(5, 5)\n",
    "ax = fig.add_subplot(111)\n",
    "#set limits\n",
    "ax.set_xlim([-.5,1.5])\n",
    "ax.set_ylim([-.5,1.5])\n",
    "ax.set_facecolor('#000015')\n",
    "#get path\n",
    "path=np.vstack((sol.y[0], sol.y[1])).T\n",
    "rocketpath, = ax.plot([], [],'w', alpha=0.4)\n",
    "#plot rocket\n",
    "rocket, = ax.plot([], [], color=\"#5FC2D9\", label='rocket', marker='^', markersize=15)\n",
    "ax.legend(prop={'family': 'Arial'})\n",
    "#plot stars\n",
    "starx=np.random.uniform(-1,2,size=100)\n",
    "stary=np.random.uniform(-1,2,size= 100)\n",
    "sizes=np.random.choice([.5,1,2,3,3.5], size=100)\n",
    "ax.scatter(starx, stary, s=sizes, color='white')\n",
    "#asteroid dots\n",
    "asteroid1 = mpimg.imread(\"meteoroid.png\")\n",
    "# asteroid1=plt.Circle((.2,.2), .07, color='#D92929')\n",
    "c = [.2,.2]\n",
    "r = .07\n",
    "ax.imshow(asteroid1, extent=[c[0]-r, c[0]+r, c[1]-r, c[1]+r])\n",
    "# asteroid2=plt.Circle((.6,.9), .07, color='#D92929')\n",
    "c = [.6,.9]\n",
    "r = .07\n",
    "ax.imshow(asteroid1, extent=[c[0]-r, c[0]+r, c[1]-r, c[1]+r])\n",
    "# asteroid3=plt.Circle((.3,.8), .07, color='#D92929')\n",
    "c = [.3,.8]\n",
    "r = .07\n",
    "ax.imshow(asteroid1, extent=[c[0]-r, c[0]+r, c[1]-r, c[1]+r])\n",
    "# asteroid4=plt.Circle((.5,.7), .07, color='#D92929')\n",
    "c = [.5,.7]\n",
    "r = .07\n",
    "ax.imshow(asteroid1, extent=[c[0]-r, c[0]+r, c[1]-r, c[1]+r])\n",
    "ax.imshow(space_station, extent=[.9,1.1,.9,1.1])\n",
    "# ax.legend()\n",
    "\n",
    "xmin, xmax = sol.y[0][0]-BIRD_SIZE, sol.y[0][0]+BIRD_SIZE\n",
    "ymin, ymax = sol.y[1][0]-BIRD_SIZE, sol.y[1][0]+BIRD_SIZE\n",
    "img = mpimg.imread(filepath)\n",
    "\n",
    "# plot the trajectory\n",
    "line, = plt.gca().plot([], [], \"--\", linewidth=3,)\n",
    "\n",
    "# Plot initial position of the bird\n",
    "rocket = plt.imshow(img, extent=[xmin,xmax,ymin,ymax], aspect='auto', zorder=2)\n",
    "\n",
    "def update(t):\n",
    "    if t<tail_length:\n",
    "        s=0\n",
    "        p=t\n",
    "    elif t>path_length-1:\n",
    "        p=path_length-1\n",
    "        s=t-tail_length\n",
    "    else:\n",
    "        s=t-tail_length\n",
    "        p=t\n",
    "    #update path\n",
    "    rocketpath.set_data(path[s:p,0],path[s:p,1])\n",
    "    #update rocket\n",
    "    # rocket.set_data(path[s:p,0],path[s:p,1])\n",
    "    rocket.set_data(rotate_bird(sol.y[2][t],sol.y[3][t]))\n",
    "    rocket.set_extent([sol.y[0][t] - BIRD_SIZE, sol.y[0][t] + BIRD_SIZE, sol.y[1][t] - BIRD_SIZE, sol.y[1][t] + BIRD_SIZE])\n",
    "\n",
    "#save and show\n",
    "ani = FuncAnimation(fig, update, frames=ts[:1050][::10], interval=20)\n",
    "ani.save('rocket_4asteroids.mp4')"
   ]
  },
  {
   "cell_type": "markdown",
   "metadata": {},
   "source": [
    "This compiles the animation."
   ]
  },
  {
   "cell_type": "markdown",
   "metadata": {},
   "source": [
    "<video src=\"rocket_4asteroids.mp4\" controls>"
   ]
  },
  {
   "cell_type": "markdown",
   "metadata": {},
   "source": [
    "### Model 5"
   ]
  },
  {
   "cell_type": "code",
   "execution_count": null,
   "metadata": {},
   "outputs": [],
   "source": [
    "\n",
    "'''\n",
    "Find the optimal path for the fixed time horizon problem\n",
    "'''    \n",
    "t0 = 0\n",
    "tf = 1\n",
    "W = 10000\n",
    "r = (.007,.007)\n",
    "c1 = (.4,.15)\n",
    "c2 = (.6,.8)\n",
    "c3 = (.9,.3)\n",
    "c4 = (.5,.52)\n",
    "c5 = (.2,.6)\n",
    "\n",
    "# C = 10\n",
    "# c_x = 0.5\n",
    "# c_y = .5\n",
    "# r = 1/3\n",
    "\n",
    "\n",
    "def ode(t, y_val): #define the ode systen\n",
    "    x, y, xp, yp, p0, p1, p2, p3 = y_val\n",
    "    # print(np.shape(x))\n",
    "    # print(np.shape(p))\n",
    "    zeros = np.zeros_like(x)\n",
    "    new_p0 = obstacle_dx(x,y,W,r,c4) + obstacle_dx(x,y,W,r,c2) + obstacle_dx(x,y,W,r,c3) + obstacle_dx(x,y,W,r,c1) + obstacle_dx(x,y,W,r,c5)\n",
    "    new_p1 =  obstacle_dy(x,y,W,r,c4) + obstacle_dy(x,y,W,r,c2) + obstacle_dy(x,y,W,r,c3) + obstacle_dy(x,y,W,r,c1) + obstacle_dy(x,y,W,r,c5)\n",
    "    return np.array([xp, yp, p2, p3, new_p0, new_p1, -p0, -p1])\n",
    "\n",
    "def bc(ya,yb):\n",
    "    # ya are the initial values\n",
    "    # yb are the final values\n",
    "    return np.array([ya[0],ya[1],ya[2],ya[3]-2,yb[0]-1,yb[1]-1,yb[2],yb[3]])\n",
    "\n",
    "\n",
    "t_steps = 200 #set the time steps and linsapces\n",
    "t = np.linspace(t0,tf,t_steps)\n",
    "x = np.linspace(0,1,t_steps)\n",
    "y = np.linspace(0,1,t_steps)\n",
    "X,Y = np.meshgrid(x,y)\n",
    "Z1 = obstacle(X,Y,W,r,c1) #find Z \n",
    "Z2 = obstacle(X,Y,W,r,c2) #find Z \n",
    "Z3 = obstacle(X,Y,W,r,c3)\n",
    "Z4 = obstacle(X,Y,W,r,c4)\n",
    "Z5 = obstacle(X,Y,W,r,c5)\n",
    "# element 4: the initial guess.\n",
    "y0 = np.ones((8,t_steps))*3\n",
    "# Solve the system.\n",
    "sol = solve_bvp(ode, bc, t, y0,max_nodes=30000)\n",
    "\n",
    "#plot the solutions and label everything\n",
    "plt.plot(sol.y[0], sol.y[1])\n",
    "plt.contour(X,Y,Z1)\n",
    "plt.contour(X,Y,Z2)\n",
    "plt.contour(X,Y,Z3)\n",
    "plt.contour(X,Y,Z4)\n",
    "plt.contour(X,Y,Z5)\n",
    "plt.axis('off')\n",
    "plt.title('5 Asteroids')\n",
    "plt.show()"
   ]
  },
  {
   "cell_type": "markdown",
   "metadata": {},
   "source": [
    "This finds the solution to the boundary problem."
   ]
  },
  {
   "cell_type": "code",
   "execution_count": null,
   "metadata": {},
   "outputs": [],
   "source": [
    "mypath = sol.y\n",
    "plt.ioff()\n",
    "#get data\n",
    "path_length=len(mypath[1])\n",
    "tail_length=50\n",
    "ts = range(path_length+50)\n",
    "fig = plt.figure(dpi = 100)\n",
    "fig.set_facecolor('#000015')\n",
    "fig.set_size_inches(5, 5)\n",
    "ax = fig.add_subplot(111)\n",
    "#set limits\n",
    "ax.set_xlim([-.5,1.5])\n",
    "ax.set_ylim([-.5,1.5])\n",
    "ax.set_facecolor('#000015')\n",
    "#get path\n",
    "path=np.vstack((mypath[0], mypath[1])).T\n",
    "rocketpath, = ax.plot([], [],'w', alpha=0.4)\n",
    "#plot rocket\n",
    "rocket, = ax.plot([], [], color=\"#5FC2D9\", label='rocket', marker='^', markersize=15)\n",
    "# ax.legend(prop={'family': 'Arial'})\n",
    "#plot stars\n",
    "starx=np.random.uniform(-1,2,size=100)\n",
    "stary=np.random.uniform(-1,2,size= 100)\n",
    "sizes=np.random.choice([.5,1,2,3,3.5], size=100)\n",
    "ax.scatter(starx, stary, s=sizes, color='white')\n",
    "#asteroid dots\n",
    "asteroid1 = mpimg.imread(\"meteoroid.png\")\n",
    "r = .07\n",
    "ax.imshow(asteroid1, extent=[c1[0]-r, c1[0]+r, c1[1]-r, c1[1]+r])\n",
    "ax.imshow(asteroid1, extent=[c2[0]-r, c2[0]+r, c2[1]-r, c2[1]+r])\n",
    "ax.imshow(asteroid1, extent=[c3[0]-r, c3[0]+r, c3[1]-r, c3[1]+r])\n",
    "ax.imshow(asteroid1, extent=[c4[0]-r, c4[0]+r, c4[1]-r, c4[1]+r])\n",
    "ax.imshow(asteroid1, extent=[c5[0]-r, c5[0]+r, c5[1]-r, c5[1]+r])\n",
    "\n",
    "space_station = mpimg.imread(\"space-station.png\")\n",
    "ax.imshow(space_station, extent=[.9,1.1,.9,1.1])\n",
    "\n",
    "xmin, xmax = sol.y[0][0]-BIRD_SIZE, sol.y[0][0]+BIRD_SIZE\n",
    "ymin, ymax = sol.y[1][0]-BIRD_SIZE, sol.y[1][0]+BIRD_SIZE\n",
    "img = mpimg.imread(filepath)\n",
    "\n",
    "# plot the trajectory\n",
    "line, = plt.gca().plot([], [], \"--\", linewidth=3,)\n",
    "\n",
    "# Plot initial position of the bird\n",
    "rocket = plt.imshow(img, extent=[xmin,xmax,ymin,ymax], aspect='auto', zorder=2)\n",
    "\n",
    "def update(t):\n",
    "    if t<tail_length:\n",
    "        s=0\n",
    "        p=t\n",
    "    elif t>path_length-1:\n",
    "        p=path_length-1\n",
    "        s=t-tail_length\n",
    "    else:\n",
    "        s=t-tail_length\n",
    "        p=t\n",
    "    #update path\n",
    "    rocketpath.set_data(path[s:p,0],path[s:p,1])\n",
    "    #update rocket\n",
    "    # rocket.set_data(path[p,0],path[p,1])\n",
    "    rocket.set_data(rotate_bird(sol.y[2][t],sol.y[3][t]))\n",
    "    rocket.set_extent([sol.y[0][t] - BIRD_SIZE, sol.y[0][t] + BIRD_SIZE, sol.y[1][t] - BIRD_SIZE, sol.y[1][t] + BIRD_SIZE])\n",
    "#save and show\n",
    "ani = FuncAnimation(fig, update, frames=ts[:1020][::10], interval=10)\n",
    "ani.save('rocket_5asteroids.mp4')"
   ]
  },
  {
   "cell_type": "markdown",
   "metadata": {},
   "source": [
    "This compiles the animaiton."
   ]
  },
  {
   "cell_type": "markdown",
   "metadata": {},
   "source": [
    "<video src=\"rocket_5asteroids.mp4\" controls>"
   ]
  },
  {
   "cell_type": "markdown",
   "metadata": {},
   "source": [
    "We now observe a bad example."
   ]
  },
  {
   "cell_type": "code",
   "execution_count": null,
   "metadata": {},
   "outputs": [],
   "source": [
    "t0 = 0\n",
    "tf = 1\n",
    "W = 550\n",
    "r = (.007,.007)\n",
    "c1 = (.2,.8)\n",
    "c2 = (.2,.2)\n",
    "c3 = (.8,.8)\n",
    "c4 = (.8,.2)\n",
    "c5 = (.4,.6)\n",
    "\n",
    "def ode(t, y_val): #define the ode systen\n",
    "    x, y, xp, yp, p0, p1, p2, p3 = y_val\n",
    "    # print(np.shape(x))\n",
    "    # print(np.shape(p))\n",
    "    zeros = np.zeros_like(x)\n",
    "    new_p0 = obstacle_dx(x,y,W,r,c4) + obstacle_dx(x,y,W,r,c2) + obstacle_dx(x,y,W,r,c3) + obstacle_dx(x,y,W,r,c1) + obstacle_dx(x,y,W,r,c5)\n",
    "    new_p1 =  obstacle_dy(x,y,W,r,c4) + obstacle_dy(x,y,W,r,c2) + obstacle_dy(x,y,W,r,c3) + obstacle_dy(x,y,W,r,c1) + obstacle_dy(x,y,W,r,c5)\n",
    "    return np.array([xp, yp, p2, p3, new_p0, new_p1, -p0, -p1])\n",
    "\n",
    "def bc(ya,yb):\n",
    "# ya are the initial values\n",
    "# yb are the final values\n",
    "    return np.array([ya[0],ya[1],ya[2],ya[3]-2,yb[0]-1,yb[1]-1,yb[2],yb[3]])\n",
    "\n",
    "\n",
    "t_steps = 200 #set the time steps and linsapces\n",
    "t = np.linspace(t0,tf,t_steps)\n",
    "x = np.linspace(0,1,t_steps)\n",
    "y = np.linspace(0,1,t_steps)\n",
    "X,Y = np.meshgrid(x,y)\n",
    "Z1 = obstacle(X,Y,W,r,c1) #find Z \n",
    "Z2 = obstacle(X,Y,W,r,c2) #find Z \n",
    "Z3 = obstacle(X,Y,W,r,c3)\n",
    "Z4 = obstacle(X,Y,W,r,c4)\n",
    "Z5 = obstacle(X,Y,W,r,c5)\n",
    "# element 4: the initial guess.\n",
    "y0 = np.ones((8,t_steps))*1\n",
    "# Solve the system.\n",
    "sol = solve_bvp(ode, bc, t, y0,max_nodes=30000)\n",
    "\n",
    "#plot the solutions and label everything\n",
    "plt.plot(sol.y[0], sol.y[1])\n",
    "plt.contour(X,Y,Z1)\n",
    "plt.contour(X,Y,Z2)\n",
    "plt.contour(X,Y,Z3)\n",
    "plt.contour(X,Y,Z4)\n",
    "plt.contour(X,Y,Z5)\n",
    "plt.axis('off')\n",
    "plt.title('5 Asteroids Bad Example')\n",
    "plt.show()"
   ]
  },
  {
   "cell_type": "markdown",
   "metadata": {},
   "source": [
    "This finds the solution to the boundary problem."
   ]
  },
  {
   "cell_type": "code",
   "execution_count": null,
   "metadata": {},
   "outputs": [],
   "source": [
    "mypath = sol.y\n",
    "plt.ioff()\n",
    "#get data\n",
    "path_length=len(mypath[1])\n",
    "tail_length=len(mypath[1]-1)\n",
    "ts = range(path_length+50)\n",
    "fig = plt.figure(dpi = 100)\n",
    "fig.set_facecolor('#000015')\n",
    "fig.set_size_inches(5, 5)\n",
    "ax = fig.add_subplot(111)\n",
    "#set limits\n",
    "ax.set_xlim([-.5,1.5])\n",
    "ax.set_ylim([-.5,1.5])\n",
    "ax.set_facecolor('#000015')\n",
    "#get path\n",
    "path=np.vstack((mypath[0], mypath[1])).T\n",
    "rocketpath, = ax.plot([], [],'w', alpha=0.4)\n",
    "#plot rocket\n",
    "rocket, = ax.plot([], [], color=\"#5FC2D9\", label='rocket', marker='^', markersize=15)\n",
    "# ax.legend(prop={'family': 'Arial'})\n",
    "#plot stars\n",
    "starx=np.random.uniform(-1,2,size=100)\n",
    "stary=np.random.uniform(-1,2,size= 100)\n",
    "sizes=np.random.choice([.5,1,2,3,3.5], size=100)\n",
    "ax.scatter(starx, stary, s=sizes, color='white')\n",
    "#asteroid dots\n",
    "asteroid1 = mpimg.imread(\"meteoroid.png\")\n",
    "r = .07\n",
    "ax.imshow(asteroid1, extent=[c1[0]-r, c1[0]+r, c1[1]-r, c1[1]+r])\n",
    "ax.imshow(asteroid1, extent=[c2[0]-r, c2[0]+r, c2[1]-r, c2[1]+r])\n",
    "ax.imshow(asteroid1, extent=[c3[0]-r, c3[0]+r, c3[1]-r, c3[1]+r])\n",
    "ax.imshow(asteroid1, extent=[c4[0]-r, c4[0]+r, c4[1]-r, c4[1]+r])\n",
    "ax.imshow(asteroid1, extent=[c5[0]-r, c5[0]+r, c5[1]-r, c5[1]+r])\n",
    "# ax.axis('off')\n",
    "space_station = mpimg.imread(\"space-station.png\")\n",
    "ax.imshow(space_station, extent=[.9,1.1,.9,1.1])\n",
    "ax.set_title(\"Example of Poor Choice of Weights\")\n",
    "ax.set_facecolor('#000015')\n",
    "xmin, xmax = sol.y[0][0]-BIRD_SIZE, sol.y[0][0]+BIRD_SIZE\n",
    "ymin, ymax = sol.y[1][0]-BIRD_SIZE, sol.y[1][0]+BIRD_SIZE\n",
    "img = mpimg.imread(filepath)\n",
    "\n",
    "# plot the trajectory\n",
    "line, = plt.gca().plot([], [], \"--\", linewidth=3,)\n",
    "\n",
    "# Plot initial position of the bird\n",
    "rocket = plt.imshow(img, extent=[xmin,xmax,ymin,ymax], aspect='auto', zorder=2)\n",
    "ax.set_facecolor('#000015')\n",
    "def update(t):\n",
    "    if t<tail_length:\n",
    "        s=0\n",
    "        p=t\n",
    "    elif t>path_length-1:\n",
    "        p=path_length-1\n",
    "        s=t-tail_length\n",
    "    else:\n",
    "        s=t-tail_length\n",
    "        p=t\n",
    "    #update path\n",
    "    rocketpath.set_data(path[s:p,0],path[s:p,1])\n",
    "    #update rocket\n",
    "    # rocket.set_data(path[p,0],path[p,1])\n",
    "    rocket.set_data(rotate_bird(sol.y[2][t],sol.y[3][t]))\n",
    "    rocket.set_extent([sol.y[0][t] - BIRD_SIZE, sol.y[0][t] + BIRD_SIZE, sol.y[1][t] - BIRD_SIZE, sol.y[1][t] + BIRD_SIZE])\n",
    "#save and show\n",
    "# ani = FuncAnimation(fig, update, frames=list(ts[:21700][::155]) + list(ts[21700:21760]), interval=10)\n",
    "# ani = FuncAnimation(fig, update, frames=ts[:440][::5], interval=10)\n",
    "ani = FuncAnimation(fig, update, frames=ts[:19000][::100], interval=10)\n",
    "\n",
    "ani.save('worst_example.mp4')"
   ]
  },
  {
   "cell_type": "markdown",
   "metadata": {},
   "source": [
    "This compiles the animation."
   ]
  },
  {
   "cell_type": "markdown",
   "metadata": {},
   "source": [
    "<video src=\"worst_example.mp4\" controls>"
   ]
  },
  {
   "cell_type": "markdown",
   "metadata": {},
   "source": [
    "### Model 6"
   ]
  },
  {
   "cell_type": "code",
   "execution_count": null,
   "metadata": {},
   "outputs": [],
   "source": [
    "t0 = 0\n",
    "tf = 1\n",
    "W = 10000\n",
    "r = (.005,.005)\n",
    "c1 = (.2,.8)\n",
    "c2 = (.2,.15)\n",
    "c3 = (.8,.8)\n",
    "c4 = (.8,.15)\n",
    "c5 = (.4,.6)\n",
    "c6 = (.6,.4)\n",
    "c7 = (.2,.475)\n",
    "c8 = (.8,.475)\n",
    "\n",
    "def ode(t, y_val): #define the ode systen\n",
    "    x, y, xp, yp, p0, p1, p2, p3 = y_val\n",
    "    # print(np.shape(x))\n",
    "    # print(np.shape(p))\n",
    "    zeros = np.zeros_like(x)\n",
    "    new_p0 = obstacle_dx(x,y,W,r,c4) + obstacle_dx(x,y,W,r,c2) + obstacle_dx(x,y,W,r,c3) + obstacle_dx(x,y,W,r,c1) + obstacle_dx(x,y,W,r,c5)+obstacle_dx(x,y,W,r,c6)\n",
    "    new_p1 =  obstacle_dy(x,y,W,r,c4) + obstacle_dy(x,y,W,r,c2) + obstacle_dy(x,y,W,r,c3) + obstacle_dy(x,y,W,r,c1) + obstacle_dy(x,y,W,r,c5)+obstacle_dy(x,y,W,r,c6)\n",
    "    return np.array([xp, yp, p2, p3, new_p0, new_p1, -p0, -p1])\n",
    "\n",
    "def bc(ya,yb):\n",
    "# ya are the initial values\n",
    "# yb are the final values\n",
    "    return np.array([ya[0],ya[1],ya[2],ya[3]-2,yb[0]-1,yb[1]-1,yb[2],yb[3]])\n",
    "\n",
    "\n",
    "t_steps = 200 #set the time steps and linsapces\n",
    "t = np.linspace(t0,tf,t_steps)\n",
    "x = np.linspace(0,1,t_steps)\n",
    "y = np.linspace(0,1,t_steps)\n",
    "X,Y = np.meshgrid(x,y)\n",
    "Z1 = obstacle(X,Y,W,r,c1) #find Z \n",
    "Z2 = obstacle(X,Y,W,r,c2) #find Z \n",
    "Z3 = obstacle(X,Y,W,r,c3)\n",
    "Z4 = obstacle(X,Y,W,r,c4)\n",
    "Z5 = obstacle(X,Y,W,r,c5)\n",
    "Z6 = obstacle(X,Y,W,r,c6)\n",
    "Z7 = obstacle(X,Y,W,r,c7)\n",
    "Z8 = obstacle(X,Y,W,r,c8)\n",
    "# element 4: the initial guess.\n",
    "y0 = np.ones((8,t_steps))*1\n",
    "# Solve the system.\n",
    "sol = solve_bvp(ode, bc, t, y0,max_nodes=30000)\n",
    "\n",
    "#plot the solutions and label everything\n",
    "plt.plot(sol.y[0], sol.y[1])\n",
    "plt.contour(X,Y,Z1)\n",
    "plt.contour(X,Y,Z2)\n",
    "plt.contour(X,Y,Z3)\n",
    "plt.contour(X,Y,Z4)\n",
    "plt.contour(X,Y,Z5)\n",
    "plt.contour(X,Y,Z6)\n",
    "plt.contour(X,Y,Z7)\n",
    "plt.contour(X,Y,Z8)\n",
    "plt.axis('off')\n",
    "plt.title('8 Asteroids')\n",
    "plt.show()"
   ]
  },
  {
   "cell_type": "markdown",
   "metadata": {},
   "source": [
    "This finds the solution to the boundary problem."
   ]
  },
  {
   "cell_type": "code",
   "execution_count": null,
   "metadata": {},
   "outputs": [],
   "source": [
    "mypath = sol.y\n",
    "plt.ioff()\n",
    "#get data\n",
    "path_length=len(mypath[1])\n",
    "tail_length=50\n",
    "ts = range(path_length+50)\n",
    "fig = plt.figure(dpi = 100)\n",
    "fig.set_facecolor('#000015')\n",
    "fig.set_size_inches(5, 5)\n",
    "ax = fig.add_subplot(111)\n",
    "#set limits\n",
    "ax.set_xlim([-.5,1.5])\n",
    "ax.set_ylim([-.5,1.5])\n",
    "ax.set_facecolor('#000015')\n",
    "#get path\n",
    "path=np.vstack((mypath[0], mypath[1])).T\n",
    "rocketpath, = ax.plot([], [],'w', alpha=0.4)\n",
    "#plot rocket\n",
    "rocket, = ax.plot([], [], color=\"#5FC2D9\", label='rocket', marker='^', markersize=15)\n",
    "ax.legend(prop={'family': 'Arial'})\n",
    "#plot stars\n",
    "starx=np.random.uniform(-1,2,size=100)\n",
    "stary=np.random.uniform(-1,2,size= 100)\n",
    "sizes=np.random.choice([.5,1,2,3,3.5], size=100)\n",
    "ax.scatter(starx, stary, s=sizes, color='white')\n",
    "#asteroid dots\n",
    "asteroid1 = mpimg.imread(\"meteoroid.png\")\n",
    "r = .07\n",
    "ax.imshow(asteroid1, extent=[c1[0]-r, c1[0]+r, c1[1]-r, c1[1]+r])\n",
    "ax.imshow(asteroid1, extent=[c2[0]-r, c2[0]+r, c2[1]-r, c2[1]+r])\n",
    "ax.imshow(asteroid1, extent=[c3[0]-r, c3[0]+r, c3[1]-r, c3[1]+r])\n",
    "ax.imshow(asteroid1, extent=[c4[0]-r, c4[0]+r, c4[1]-r, c4[1]+r])\n",
    "ax.imshow(asteroid1, extent=[c5[0]-r, c5[0]+r, c5[1]-r, c5[1]+r])\n",
    "ax.imshow(asteroid1, extent=[c6[0]-r, c6[0]+r, c6[1]-r, c6[1]+r])\n",
    "ax.imshow(asteroid1, extent=[c7[0]-r, c7[0]+r, c7[1]-r, c7[1]+r])\n",
    "ax.imshow(asteroid1, extent=[c8[0]-r, c8[0]+r, c8[1]-r, c8[1]+r])\n",
    "\n",
    "space_station = mpimg.imread(\"space-station.png\")\n",
    "ax.imshow(space_station, extent=[.9,1.1,.9,1.1])\n",
    "\n",
    "xmin, xmax = sol.y[0][0]-BIRD_SIZE, sol.y[0][0]+BIRD_SIZE\n",
    "ymin, ymax = sol.y[1][0]-BIRD_SIZE, sol.y[1][0]+BIRD_SIZE\n",
    "img = mpimg.imread(filepath)\n",
    "\n",
    "# plot the trajectory\n",
    "line, = plt.gca().plot([], [], \"--\", linewidth=3,)\n",
    "\n",
    "# Plot initial position of the bird\n",
    "rocket = plt.imshow(img, extent=[xmin,xmax,ymin,ymax], aspect='auto', zorder=2)\n",
    "\n",
    "def update(t):\n",
    "    if t<tail_length:\n",
    "        s=0\n",
    "        p=t\n",
    "    elif t>path_length-1:\n",
    "        p=path_length-1\n",
    "        s=t-tail_length\n",
    "    else:\n",
    "        s=t-tail_length\n",
    "        p=t\n",
    "    #update path\n",
    "    rocketpath.set_data(path[s:p,0],path[s:p,1])\n",
    "    #update rocket\n",
    "    # rocket.set_data(path[p,0],path[p,1])\n",
    "    rocket.set_data(rotate_bird(sol.y[2][t],sol.y[3][t]))\n",
    "    rocket.set_extent([sol.y[0][t] - BIRD_SIZE, sol.y[0][t] + BIRD_SIZE, sol.y[1][t] - BIRD_SIZE, sol.y[1][t] + BIRD_SIZE])\n",
    "#save and show\n",
    "ani = FuncAnimation(fig, update, frames=ts[:1320][::10], interval=10)\n",
    "ani.save('many_asteroids.mp4')"
   ]
  },
  {
   "cell_type": "markdown",
   "metadata": {},
   "source": [
    "This compiles the animaiton."
   ]
  },
  {
   "cell_type": "markdown",
   "metadata": {},
   "source": [
    "<video src=\"many_asteroids.mp4\" controls>"
   ]
  },
  {
   "cell_type": "markdown",
   "metadata": {},
   "source": [
    "### Model 7"
   ]
  },
  {
   "cell_type": "code",
   "execution_count": null,
   "metadata": {},
   "outputs": [],
   "source": [
    "t0 = 0\n",
    "tf = 1\n",
    "W = 10\n",
    "r = (.005,.005)\n",
    "\n",
    "def ode(t, y_val): #define the ode systen\n",
    "    x, y, xp, yp, p0, p1, p2, p3 = y_val\n",
    "    zeros = np.zeros_like(x)\n",
    "    new_p0 = new_obstacle_dx(x,y,t,.0001,.0001,W,r)\n",
    "    new_p1 =  new_obstacle_dy(x,y,t,.0001,.0001,W,r)\n",
    "    return np.array([xp, yp, p2, p3, new_p0,new_p1, -p0, -p1])\n",
    "\n",
    "def bc(ya,yb):\n",
    "    # ya are the initial values\n",
    "    # yb are the final values\n",
    "    return np.array([ya[0],ya[1],ya[2],ya[3]-3,yb[0]-1,yb[1]-1,yb[2],yb[3]])\n",
    "\n",
    "\n",
    "t_steps = 200 #set the time steps and linsapces\n",
    "t = np.linspace(t0,tf,t_steps)\n",
    "x = np.linspace(0,1,t_steps)\n",
    "y = np.linspace(0,1,t_steps)\n",
    "X,Y = np.meshgrid(x,y)\n",
    "Z = obstacle(X,Y,W,r) #find Z \n",
    "# element 4: the initial guess.\n",
    "y0 = np.ones((8,t_steps))*3\n",
    "# Solve the system.\n",
    "sol = solve_bvp(ode, bc, t, y0,max_nodes=30000)\n",
    "\n",
    "#plot the solutions and label everything\n",
    "plt.plot(sol.y[0], sol.y[1])\n",
    "plt.contour(X,Y,Z)\n",
    "plt.axis('off')\n",
    "plt.title('Moving Asteroid')\n",
    "plt.show()\n"
   ]
  },
  {
   "cell_type": "markdown",
   "metadata": {},
   "source": [
    "This finds the solution to the boundary problem."
   ]
  },
  {
   "cell_type": "code",
   "execution_count": null,
   "metadata": {},
   "outputs": [],
   "source": [
    "plt.ioff()\n",
    "#get data\n",
    "path_length=len(sol.y[1])\n",
    "print(path_length)\n",
    "ts = range(path_length+50)\n",
    "fig = plt.figure(dpi = 100)\n",
    "fig.set_facecolor('#000015')\n",
    "fig.set_size_inches(5,5)\n",
    "ax = fig.add_subplot(111)\n",
    "#set limits\n",
    "ax.set_xlim([-.5,1.5])\n",
    "ax.set_ylim([-.5,1.5])\n",
    "ax.set_facecolor('#000015')\n",
    "# xs=np.linspace(0, 8, 200)\n",
    "# ax.set_xlim([-1,10])\n",
    "# ax.set_ylim([-2,2])\n",
    "# ax.set_facecolor('#000010')\n",
    "#get path\n",
    "path=np.vstack((sol.y[0], sol.y[1])).T\n",
    "rocketpath, = ax.plot([], [],'w', alpha=0.4)\n",
    "#plot rocket\n",
    "rocket, = ax.plot([], [], color=\"#5FC2D9\", label='rocket', marker='^', markersize=15)\n",
    "#plot stars\n",
    "starx=np.random.uniform(-1,2,size=100)\n",
    "stary=np.random.uniform(-1,2,size= 100)\n",
    "sizes=np.random.choice([.5,1,2,3,3.5], size=100)\n",
    "ax.scatter(starx, stary, s=sizes, color='white')\n",
    "#asteroid dots\n",
    "asteroid1 = mpimg.imread(\"meteoroid.png\")\n",
    "asteroid, = ax.plot([], [], color=\"#5FC2D9\", label='astroid', marker='^', markersize=15)\n",
    "c = [1/2,1/2]\n",
    "r = .2\n",
    "# ax.imshow(asteroid1, extent=[c[0]-r, c[0]+r, c[1]-r, c[1]+r])\n",
    "\n",
    "space_station = mpimg.imread(\"space-station.png\")\n",
    "ax.imshow(space_station, extent=[.9,1.1,.9,1.1])\n",
    "\n",
    "xmin, xmax = sol.y[0][0]-BIRD_SIZE, sol.y[0][0]+BIRD_SIZE\n",
    "ymin, ymax = sol.y[1][0]-BIRD_SIZE, sol.y[1][0]+BIRD_SIZE\n",
    "img = mpimg.imread(filepath)\n",
    "\n",
    "# plot the trajectory\n",
    "line, = plt.gca().plot([], [], \"--\", linewidth=3,)\n",
    "\n",
    "# Plot initial position of the bird\n",
    "rocket = plt.imshow(img, extent=[xmin,xmax,ymin,ymax], aspect='auto', zorder=2)\n",
    "astroid = ax.imshow(asteroid1, extent=[c[0]-r, c[0]+r, c[1]-r, c[1]+r],aspect='auto', zorder=2)\n",
    "W = 10\n",
    "r = (.005,.005)\n",
    "# ax.legend()\n",
    "def update(t):\n",
    "    if t<50:\n",
    "        s=0\n",
    "        p=t\n",
    "    elif t>path_length-1:\n",
    "        p=path_length-1\n",
    "        s=t-50\n",
    "    else:\n",
    "        s=t-50\n",
    "        p=t\n",
    "    #update path\n",
    "    rocketpath.set_data(path[s:p,0],path[s:p,1])\n",
    "    #update rocket\n",
    "    rocket.set_data(rotate_bird(sol.y[2][t],sol.y[3][t]))\n",
    "    rocket.set_extent([sol.y[0][t] - BIRD_SIZE, sol.y[0][t] + BIRD_SIZE, sol.y[1][t] - BIRD_SIZE, sol.y[1][t] + BIRD_SIZE])\n",
    "    x,y = sol.y[0][t], sol.y[1][t]\n",
    "    newx,newy = new_obstaclexy(x,y,t,.0001,.0001,W,r)\n",
    "    astroid.set_extent([newx - BIRD_SIZE, newx + BIRD_SIZE, newy - BIRD_SIZE, newy + BIRD_SIZE])\n",
    "#save and show\n",
    "ani = FuncAnimation(fig, update, frames=ts[:200][::2], interval=20)\n",
    "ani.save('rocketmoving.mp4')"
   ]
  },
  {
   "cell_type": "markdown",
   "metadata": {},
   "source": [
    "This compiles the animation."
   ]
  },
  {
   "cell_type": "markdown",
   "metadata": {},
   "source": [
    "<video src=\"rocketmoving.mp4\" controls>"
   ]
  },
  {
   "cell_type": "markdown",
   "metadata": {},
   "source": [
    "INSERT THE REST OF THE MODELS EACH WITH MINI EXPLINATION"
   ]
  },
  {
   "cell_type": "markdown",
   "metadata": {},
   "source": [
    "# Results/Analysis"
   ]
  },
  {
   "cell_type": "markdown",
   "metadata": {},
   "source": [
    "Brief summary of the results"
   ]
  },
  {
   "cell_type": "markdown",
   "metadata": {},
   "source": [
    "# Ethical Considerations"
   ]
  },
  {
   "cell_type": "markdown",
   "metadata": {},
   "source": [
    "Breif summary of ethics"
   ]
  },
  {
   "cell_type": "markdown",
   "metadata": {},
   "source": [
    "# Conclusion"
   ]
  },
  {
   "cell_type": "markdown",
   "metadata": {},
   "source": [
    "Wrap up everything"
   ]
  },
  {
   "cell_type": "markdown",
   "metadata": {},
   "source": [
    "# References"
   ]
  },
  {
   "cell_type": "markdown",
   "metadata": {},
   "source": [
    "References"
   ]
  }
 ],
 "metadata": {
  "kernelspec": {
   "display_name": "Python 3.10.13 ('acme')",
   "language": "python",
   "name": "python3"
  },
  "language_info": {
   "codemirror_mode": {
    "name": "ipython",
    "version": 3
   },
   "file_extension": ".py",
   "mimetype": "text/x-python",
   "name": "python",
   "nbconvert_exporter": "python",
   "pygments_lexer": "ipython3",
   "version": "3.10.13"
  },
  "vscode": {
   "interpreter": {
    "hash": "f9667e94c5242b6e179d4931e51f0ea8382a201d07ce0883b2e989376c502410"
   }
  }
 },
 "nbformat": 4,
 "nbformat_minor": 2
}
