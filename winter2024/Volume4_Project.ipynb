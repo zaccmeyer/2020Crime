{
 "cells": [
  {
   "cell_type": "markdown",
   "metadata": {},
   "source": [
    "# Houston, We Have an Optimization Problem\n",
    "J. BENNETT, M. DAVIS, Z. MEYER, M. SHIELDS, L. TOLMAN\n",
    "\n",
    "Animations also found at: https://www.qrcreator.com/p/3E421549/"
   ]
  },
  {
   "cell_type": "markdown",
   "metadata": {},
   "source": [
    "# Abstract"
   ]
  },
  {
   "cell_type": "markdown",
   "metadata": {},
   "source": [
    "In this project we attempt to solve an intricate optimal control problem. We want to understand the optimal path (in a two-dimensional world) from a spaceship back to the international space station in a given amount of time. In this scenario, \"optimal\" means minimizing fuel consumption, which can be accomplished by minimizing acceleration. We also make this problem more complex by adding in asteroids that the spaceship must avoid. This traditionally would require inequality constraints, but we will utilize soft constraints instead. We run our solution first without asteroids and then make the problem more complex. We also animate our results to better understand and visualize the optimal path."
   ]
  },
  {
   "cell_type": "markdown",
   "metadata": {},
   "source": [
    "# Introduction"
   ]
  },
  {
   "cell_type": "markdown",
   "metadata": {},
   "source": [
    "Space travel has long fascinated humanity. In recent years, more and more space travel is occurring. Traveling in space presents many different and unique challenges. In our project, we attempt to better understand optimal paths for traveling in space. While we do simplify the problem in many ways (making it two dimensional, ignoring gravity, etc.) we still can learn a lot from optimal paths in our problem. We set up a problem where our spaceship is located at the origin in a two-dimensional world. We then try and find the optimal path back to the space station placed at $(1,1)$. In our most simplified model, we do not have any asteroids in the way. In space where there is no air resistance, once you are traveling a certain velocity you continue to travel at that velocity. This means we can minimize gas consumption by minimizing the acceleration in the $x$ and $y$ direction. This will give us our optimal path. In our first model, with no asteroids in the way, this should result in a straight path back to the space station.\n",
    "\n",
    "After getting this model to work, we complicate our model by adding asteroids. To avoid an asteroid, we could use inequality constraints with KKT conditions. However, due to the complexities of KKT conditions in optimal control, we can also handle this constraint as a soft constraint. By constructing the constraint as just part of our cost functional, we keep a solution similar to that which would have been derived through KKT while remaining numerically stable $^{[1]}$. We took the latter approach of adding the constraint into the cost functional. This essentially adds a cost to our functional when the spaceship is too close to the asteroid. We want this cost to vanish quickly when the spaceship is away from the asteroid, so it does not take a very suboptimal path. We also do not want this cost to vanish so quickly that the spaceship gets arbitrarily close to the asteroid. By adding this constraint to our cost functional, when we minimize our cost functional, we will minimize gas consumption and avoid the asteroids. After our first model, we will add an asteroid and find the optimal path. Then we will continue to add asteroids to see how our path changes. Then, we will make the asteroids move instead of being stationary. In our final attempt we will make the problem three dimension. \n",
    "\n",
    "In all of our models with stationary asteroids and in a two dimensional world, we use the following cost functional and state space.\n"
   ]
  },
  {
   "cell_type": "markdown",
   "metadata": {},
   "source": [
    "$$J[u] = \\int_0^{t_f} \\left [\\frac{1}{2}u_{x}(t)^2 + \\frac{1}{2}u_{y}(t)^2 + \\sum_{i = 1}^n \\frac{W_i}{\\left (\\frac{\\left(x(t) - c_x\\right)^2}{r_i} + \\frac{\\left(y(t) - c_y\\right)^2}{r_i} \\right)^{20} + 1}\\right ] dt$$"
   ]
  },
  {
   "cell_type": "markdown",
   "metadata": {},
   "source": [
    "$$ S = \\begin{bmatrix}  x &  y & \\dot x & \\dot y  \\end{bmatrix}  ^T $$"
   ]
  },
  {
   "cell_type": "markdown",
   "metadata": {},
   "source": [
    "$$ \\dot S = \\begin{bmatrix} \\dot x & \\dot y & u_x & u_y  \\end{bmatrix}  ^T $$"
   ]
  },
  {
   "cell_type": "markdown",
   "metadata": {},
   "source": [
    "We use the cost functional defined above. In this cost functional $u_x$ and $u_y$ represent acceleration in the $x$ and $y$ direction. In the summation, $n$ represent the number of asteroids. So, if we do not have any asteroids, the summation does not exist. In the summation part of the cost functional, $W_i$ is the weight of the ith asteroid (the cost of getting too close or hitting the asteroid) and $c_{x_i}$, $c_{y_i}$, and $r_i$ define the center and radius of the ith asteroid. With our cost functional and state space defined we can use Pontryagin’s Maximum Principle (PMP) to find our costate evolution equations. "
   ]
  },
  {
   "cell_type": "markdown",
   "metadata": {},
   "source": [
    "$$ P = \\begin{bmatrix}  P_0 &  P_1 & P_2 & P_3  \\end{bmatrix}  ^T $$"
   ]
  },
  {
   "cell_type": "markdown",
   "metadata": {},
   "source": [
    "$$ \\dot P = \\begin{bmatrix}  C_x &  C_y & -P_0 & -P_1  \\end{bmatrix}  ^T$$"
   ]
  },
  {
   "cell_type": "markdown",
   "metadata": {},
   "source": [
    "$C_x$ and $C_y$ are the derivative of the cost of the asteroid with respect $x$ and $y$. Because, according to PMP, $\\dot P_i$ = $-\\frac{DH}{Dx_i}$ where $x_i$ is an element of the state space. Then, $C_x$ and $C_y$ are defined as follows:\n",
    "\n",
    "\n",
    "$$ \\begin{align*}\n",
    "\\dot P_0 = C_x = \\frac{-DH}{Dx} = \\sum_{i=1}^n\\frac{-40W_i(x - c_{x_i})\\left(\\frac{(x - c_{x_i})^2}{r_i} + \\frac{(y - c_{y_i})^2}{r_i}\\right)^{19}}{r_i\\left(\\left(\\frac{(x - c_{x_i})^2}{r_i} + \\frac{(y - c_{y_i})^2}{r_i}\\right)^{20} + 1\\right)^2}\n",
    "   \\end{align*}$$\n",
    "   \n",
    "and \n",
    "\n",
    "$$ \\begin{align*}\n",
    "\\dot P_1 = C_y = \\frac{-DH}{Dy} = \\sum_{i=1}^n\\frac{-40W_i(y - c_{y_i})\\left(\\frac{(x - c_{x_i})^2}{r_i} + \\frac{(y - c_{y_i})^2}{r_i}\\right)^{19}}{r_i\\left(\\left(\\frac{(x - c_{x_i})^2}{r_i} + \\frac{(y - c_{y_i})^2}{r_i}\\right)^{20} + 1\\right)^2}\n",
    "   \\end{align*}$$"
   ]
  },
  {
   "cell_type": "markdown",
   "metadata": {},
   "source": [
    "Now we have everything we need to solve our optimization problem besides our boundary conditions. Based on the setup of our problem we use the following boundary conditions."
   ]
  },
  {
   "cell_type": "markdown",
   "metadata": {},
   "source": [
    "$$ \\begin{align*}\n",
    "        x(0) &= 0 & x(t_f) &= 1\\\\\n",
    "        y(0) &= 0 & y(t_f) &= 1\\\\\n",
    "        \\dot x(0) &= v_x & \\dot x(t_f) &= 0\\\\\n",
    "        \\dot y(0) &= v_y & \\dot y(t_f) &= 0\\\\\n",
    "    \\end{align*} $$"
   ]
  },
  {
   "cell_type": "markdown",
   "metadata": {},
   "source": [
    "This ensures that our spaceship is starting at the origin and travels to the space station. We are also assuming that our spaceship could have been moving with initial velocities of $v_x$ and $v_y$ in the $x$ and $y$ direction before we begin our optimization problem. We also want our spaceship to stop moving once it arrives at the space station.\n"
   ]
  },
  {
   "cell_type": "markdown",
   "metadata": {},
   "source": [
    "This gives us everything we need to solve for our optimal path. We will showcase several different situations and amounts of asteroids in the following models. When we adjust the asteroids so that they are moving, we change the cost functional to the following form:"
   ]
  },
  {
   "cell_type": "markdown",
   "metadata": {},
   "source": [
    "$$J[u] = \\int_0^{t_f} \\left [\\frac{1}{2}u_{x}(t)^2 + \\frac{1}{2}u_{y}(t)^2 + \\sum_{i = 1}^n \\frac{W_i}{\\left (\\frac{\\left(x(t) - c_x(t)\\right)^2}{r_i} + \\frac{\\left(y(t) - c_y(t)\\right)^2}{r_i} \\right)^{20} + 1}\\right ] dt$$"
   ]
  },
  {
   "cell_type": "markdown",
   "metadata": {},
   "source": [
    "The only difference in this cost functional is that now the asteroids center is a function of time. "
   ]
  },
  {
   "cell_type": "markdown",
   "metadata": {},
   "source": [
    "For our last model in three dimensions we had to adjust our set up. We needed to increase the dimensionality of our model, including the states and costates, from 8 to 12.\n",
    "\n",
    "The cost functional and state space are now the following:"
   ]
  },
  {
   "cell_type": "markdown",
   "metadata": {},
   "source": [
    "$$J[u] = \\int_0^{t_f} \\left [\\frac{1}{2}u_{x}(t)^2 + \\frac{1}{2}u_{y}(t)^2 + \\frac{1}{2}u_{z}(t)^2+ \\sum_{i = 1}^n \\frac{W_i}{\\left (\\frac{\\left(x(t) - c_x\\right)^2}{r_i} + \\frac{\\left(y(t) - c_y\\right)^2}{r_i} + \\frac{\\left(z(t) - c_z\\right)^2}{r_i}\\right)^{20} + 1}\\right ] dt$$"
   ]
  },
  {
   "cell_type": "markdown",
   "metadata": {},
   "source": [
    "$$ S = \\begin{bmatrix}  x &  y & z & \\dot x & \\dot y & \\dot z \\end{bmatrix}  ^T $$"
   ]
  },
  {
   "cell_type": "markdown",
   "metadata": {},
   "source": [
    "$$ \\dot S = \\begin{bmatrix} \\dot x & \\dot y & \\dot z & u_x & u_y & u_z \\end{bmatrix}  ^T $$"
   ]
  },
  {
   "cell_type": "markdown",
   "metadata": {},
   "source": [
    "The acceleration in the z direction can now be defined as $u_z$. The z position of the center of the asteroid is $c_z$. With our updated state space and cost functional, we can now use PMP to derive the evolution equations of our costate from $H = p \\cdot S - L$. They are defined below:"
   ]
  },
  {
   "cell_type": "markdown",
   "metadata": {},
   "source": [
    "$$ P = \\begin{bmatrix}  P_0 &  P_1 & P_2 & P_3 & P_4 & P_5  \\end{bmatrix}  ^T $$"
   ]
  },
  {
   "cell_type": "markdown",
   "metadata": {},
   "source": [
    "$$ \\dot P = \\begin{bmatrix}  C_x &  C_y & C_z & -P_0 & -P_1 & -P_2  \\end{bmatrix}  ^T$$"
   ]
  },
  {
   "cell_type": "markdown",
   "metadata": {},
   "source": [
    "$C_x$, $C_y$ and $C_z$ are similar to the two dimensional case. \n",
    "\n",
    "$$ \\begin{align*}\n",
    "\\dot P_0 = C_x = \\frac{-DH}{Dx} = \\sum_{i=1}^n\\frac{-40W_i(x - c_{x_i})\\left(\\frac{(x - c_{x_i})^2}{r_i} + \\frac{(y - c_{y_i})^2}{r_i}\\right)^{19}}{r_i\\left(\\left(\\frac{(x - c_{x_i})^2}{r_i} + \\frac{(y - c_{y_i})^2}{r_i}\\right)^{20} + 1\\right)^2}\n",
    "   \\end{align*}$$\n",
    "   \n",
    "\n",
    "$$ \\begin{align*}\n",
    "\\dot P_1 = C_y = \\frac{-DH}{Dy} = \\sum_{i=1}^n\\frac{-40W_i(y - c_{y_i})\\left(\\frac{(x - c_{x_i})^2}{r_i} + \\frac{(y - c_{y_i})^2}{r_i} + \\frac{(z - c_{z_i})^2}{r_i}\\right)^{19}}{r_i\\left(\\left(\\frac{(x - c_{x_i})^2}{r_i} + \\frac{(y - c_{y_i})^2}{r_i}+ \\frac{(z - c_{z_i})^2}{r_i}\\right)^{20} + 1\\right)^2}\n",
    "   \\end{align*}$$\n",
    "   \n",
    "$$ \\begin{align*}\n",
    "\\dot P_2 = C_z = \\frac{-DH}{Dz} = \\sum_{i=1}^n\\frac{-40W_i(z - c_{y_i})\\left(\\frac{(x - c_{x_i})^2}{r_i} + \\frac{(y - c_{y_i})^2}{r_i} + \\frac{(z - c_{z_i})^2}{r_i}\\right)^{19}}{r_i\\left(\\left(\\frac{(x - c_{x_i})^2}{r_i} + \\frac{(y - c_{y_i})^2}{r_i}+ \\frac{(z - c_{z_i})^2}{r_i}\\right)^{20} + 1\\right)^2}\n",
    "   \\end{align*}$$"
   ]
  },
  {
   "cell_type": "markdown",
   "metadata": {},
   "source": [
    "Assuming a fixed final time of one, our new boundary conditions are defined as follows:"
   ]
  },
  {
   "cell_type": "markdown",
   "metadata": {},
   "source": [
    "$$ \\begin{align*}\n",
    "        x(0) &= 0 & x(t_f) &= 1\\\\\n",
    "        y(0) &= 0 & y(t_f) &= 1\\\\\n",
    "        z(0) &= 0 & z(t_f) &= 1\\\\\n",
    "        \\dot x(0) &= v_x & \\dot x(t_f) &= 0\\\\\n",
    "        \\dot y(0) &= v_y & \\dot y(t_f) &= 0\\\\\n",
    "        \\dot z(0) &= v_z & \\dot z(t_f) &= 0\\\\\n",
    "    \\end{align*} $$"
   ]
  },
  {
   "cell_type": "markdown",
   "metadata": {},
   "source": [
    "These are the exact same boundary conditions as previously mentioned but accounting for the third dimension."
   ]
  },
  {
   "cell_type": "markdown",
   "metadata": {},
   "source": [
    "# Models"
   ]
  },
  {
   "cell_type": "markdown",
   "metadata": {},
   "source": [
    "Before showing code for each model we will showcase code used in many of the models."
   ]
  },
  {
   "cell_type": "code",
   "execution_count": 1,
   "metadata": {},
   "outputs": [],
   "source": [
    "import numpy as np\n",
    "import matplotlib.pyplot as plt\n",
    "import matplotlib.animation as animation\n",
    "from IPython.display import HTML\n",
    "from matplotlib.animation import FuncAnimation\n",
    "from mpl_toolkits.mplot3d import Axes3D\n",
    "from scipy.integrate import solve_bvp\n",
    "import matplotlib.image as mpimg\n",
    "from scipy.ndimage import rotate"
   ]
  },
  {
   "cell_type": "markdown",
   "metadata": {},
   "source": [
    "We will use the above imports and packages in our models while solving for the optimal path of the spaceship."
   ]
  },
  {
   "cell_type": "code",
   "execution_count": 2,
   "metadata": {},
   "outputs": [],
   "source": [
    "def obstacle(x,y,W1=1,r=(1/5,1/5),c=(1/2,1/2)):\n",
    "    '''\n",
    "    Define an area that will represent an asteroid\n",
    "    \n",
    "    Parameters:\n",
    "        x (float): x position in space\n",
    "        y (float): y position in space\n",
    "        W1 (float): weight of cost\n",
    "        r (tuple): radius in x and y direction\n",
    "        c (tuple): center of the ellipse\n",
    "    '''\n",
    "\n",
    "    ellipse = ((x - c[0])**2/r[0] + (y - c[1])**2/r[1])**20 + 1\n",
    "\n",
    "    return W1 / ellipse\n",
    "\n",
    "def obstacle_dx(x,y,W1=1,r=(1/5,1/5),c=(1/2,1/2)):\n",
    "    '''\n",
    "    x derivative of the asteroid\n",
    "\n",
    "    Parameters:\n",
    "        x (float): x position in space\n",
    "        y (float): y position in space\n",
    "        W (float): weight of cost\n",
    "        r (tuple): radius in x and y direction\n",
    "        c (tuple): center of the ellipse\n",
    "    '''\n",
    "\n",
    "    circle = (x - c[0])**2/r[0] + (y - c[1])**2/r[1]\n",
    "    numer = -40* W1 * (x-c[0])*(circle)**19\n",
    "    denom = r[0]*((circle)**20 + 1)**2\n",
    "\n",
    "    return numer / denom\n",
    "\n",
    "def obstacle_dy(x,y,W1=1,r=(1/5,1/5),c=(1/2,1/2)):\n",
    "    '''\n",
    "    y derivative of the asteroid\n",
    "\n",
    "    Parameters:\n",
    "        x (float): x position in space\n",
    "        y (float): y position in space\n",
    "        W1 (float): weight of cost\n",
    "        r (tuple): radius in x and y direction\n",
    "        c (tuple): center of the ellipse\n",
    "    '''\n",
    "\n",
    "    circle = (x - c[0])**2/r[0] + (y - c[1])**2/r[1]\n",
    "    numer = -40 * W1 * (y-c[1])*(circle)**19\n",
    "    denom = r[1]*((circle)**20 + 1)**2\n",
    "    \n",
    "    return numer / denom"
   ]
  },
  {
   "cell_type": "markdown",
   "metadata": {},
   "source": [
    "The functions above will be used for models 1-7 to define our stationary asteroid obstacles."
   ]
  },
  {
   "cell_type": "code",
   "execution_count": 3,
   "metadata": {},
   "outputs": [],
   "source": [
    "def new_obstacle(x,y,t,xspeed,yspeed,W1=1,r=(1/5,1/5),c=(1/2,1/2)):\n",
    "    '''\n",
    "    Define an area that will represent an asteroid with a moving center\n",
    "    \n",
    "    Parameters:\n",
    "        x (float): x position in space\n",
    "        y (float): y position in space\n",
    "        W1 (float): weight of cost\n",
    "        r (tuple): radius in x and y direction\n",
    "        c (tuple): center of the ellipse\n",
    "    '''\n",
    "    c = (xspeed*t+c[0],yspeed*t+c[1])\n",
    "    ellipse = ((x - c[0])**2/r[0] + (y - c[1])**2/r[1])**2 + 1\n",
    "\n",
    "    return W1 / ellipse\n",
    "\n",
    "def new_obstaclexy(x,y,t,xspeed,yspeed,W1=1,r=(1/5,1/5),c=(1/2,1/2)):\n",
    "    '''\n",
    "    Extract the x and y values for the new center of the moving asteroid\n",
    "    \n",
    "    Parameters:\n",
    "        x (float): x position in space\n",
    "        y (float): y position in space\n",
    "        W1 (float): weight of cost\n",
    "        r (tuple): radius in x and y direction\n",
    "        c (tuple): center of the ellipse\n",
    "    '''\n",
    "    c = (xspeed*t+c[0],yspeed*t+c[1])\n",
    "\n",
    "    return c\n",
    "\n",
    "def new_obstacle_dx(x,y,t,xspeed,yspeed,W1=1,r=(1/5,1/5),c=(1/2,1/2)):\n",
    "    '''\n",
    "    x derivative of the asteroid with a moving center\n",
    "\n",
    "    Parameters:\n",
    "        x (float): x position in space\n",
    "        y (float): y position in space\n",
    "        W (float): weight of cost\n",
    "        r (tuple): radius in x and y direction\n",
    "        c (tuple): center of the ellipse\n",
    "    '''\n",
    "    c = (xspeed*t+c[0],yspeed*t+c[1])\n",
    "    circle = (x - c[0])**2/r[0] + (y - c[1])**2/r[1]\n",
    "    numer = -40* W1 * (x-c[0])*(circle)**19\n",
    "    denom = r[0]*((circle)**20 + 1)**2\n",
    "\n",
    "    return numer / denom\n",
    "\n",
    "def new_obstacle_dy(x,y,t,xspeed,yspeed, W1=1,r=(1/5,1/5),c=(1/2,1/2)):\n",
    "    '''\n",
    "    y derivative of the asteroid with a moving center\n",
    "\n",
    "    Parameters:\n",
    "        x (float): x position in space\n",
    "        y (float): y position in space\n",
    "        W1 (float): weight of cost\n",
    "        r (tuple): radius in x and y direction\n",
    "        c (tuple): center of the ellipse\n",
    "    '''\n",
    "    c = (xspeed*t+c[0],yspeed*t+c[1])\n",
    "    circle = (x - c[0])**2/r[0] + (y - c[1])**2/r[1]\n",
    "    numer = -40 * W1 * (y-c[1])*(circle)**19\n",
    "    denom = r[1]*((circle)**20 + 1)**2\n",
    "\n",
    "    return numer / denom"
   ]
  },
  {
   "cell_type": "markdown",
   "metadata": {},
   "source": [
    "The functions above will be used for model 8 to define our moving asteroid obstacles."
   ]
  },
  {
   "cell_type": "code",
   "execution_count": 4,
   "metadata": {},
   "outputs": [],
   "source": [
    "# Read in rocket image\n",
    "filepath = \"Untitled_Artwork.png\"\n",
    "img = mpimg.imread(filepath)\n",
    "\n",
    "# Rotate rocket image based on velocity\n",
    "def rotate_rocket(xv,yv):\n",
    "    angle = np.degrees(np.arctan2(-xv,yv))\n",
    "    rotated_img = rotate(img, angle, reshape=False)\n",
    "    rotated_img = np.clip(rotated_img, 0, 1)\n",
    "    return rotated_img"
   ]
  },
  {
   "cell_type": "markdown",
   "metadata": {},
   "source": [
    "The above function and code will be used in our animations to import an image of a rocket. The rocket will also rotate as it turns to make the animation look more realistic."
   ]
  },
  {
   "cell_type": "markdown",
   "metadata": {},
   "source": [
    "Note to the reader: The following animations take a considerable amount of time to generate, so we suggest only running the first cell of each model to generate a plot of the optimal path. The animations themselves can take several minutes to create each frame in high enough quality. Feel free to run the cells that plot the path and change the parameters as desired."
   ]
  },
  {
   "cell_type": "markdown",
   "metadata": {},
   "source": [
    "### Model 1"
   ]
  },
  {
   "cell_type": "code",
   "execution_count": 5,
   "metadata": {},
   "outputs": [
    {
     "data": {
      "image/png": "[encoded data removed]",
      "text/plain": [
       "<Figure size 300x300 with 1 Axes>"
      ]
     },
     "metadata": {},
     "output_type": "display_data"
    }
   ],
   "source": [
    "#set initial conditions\n",
    "t0 = 0\n",
    "tf = 1\n",
    "\n",
    "def ode(t, y_val): #define the ode system\n",
    "    x, y, xp, yp, p0, p1, p2, p3 = y_val\n",
    "    zeros = np.zeros_like(x)\n",
    "\n",
    "    return np.array([xp, yp, p2, p3, zeros, zeros, -p0, -p1])\n",
    "\n",
    "def bc(ya,yb):\n",
    "# ya are the initial values\n",
    "# yb are the final values\n",
    "    return np.array([ya[0],ya[1],ya[2],ya[3],yb[0]-1,yb[1]-1,yb[2],yb[3]])\n",
    "\n",
    "#set the intial conditions and yo\n",
    "t_steps = 200\n",
    "t = np.linspace(t0,tf,t_steps)\n",
    "x = np.linspace(0,1,t_steps)\n",
    "y0 = np.ones((8,t_steps))\n",
    "\n",
    "# Solve the system.\n",
    "sol = solve_bvp(ode, bc, t, y0)\n",
    "\n",
    "#plot the solutions and label everything\n",
    "fig = plt.figure()\n",
    "fig.set_facecolor('#000015')\n",
    "fig.set_size_inches(3,3)\n",
    "ax = fig.add_subplot(111)\n",
    "\n",
    "#set limits\n",
    "ax.set_xlim([-.5,1.5])\n",
    "ax.set_ylim([-.5,1.5])\n",
    "ax.set_facecolor('#000015')\n",
    "\n",
    "#plot stars\n",
    "starx=np.random.uniform(-1,2,size=100)\n",
    "stary=np.random.uniform(-1,2,size= 100)\n",
    "sizes=np.random.choice([.5,1,2,3,3.5], size=100)\n",
    "ax.scatter(starx, stary, s=sizes, color='white')\n",
    "\n",
    "#plot the space stations\n",
    "space_station = mpimg.imread(\"space-station.png\")\n",
    "ax.imshow(space_station, extent=[.9,1.1,.9,1.1])\n",
    "\n",
    "#set the dimensions for the rocket\n",
    "ROCKET_SIZE = .14\n",
    "xmin, xmax = sol.y[0][0]-ROCKET_SIZE, sol.y[0][0]+ROCKET_SIZE\n",
    "ymin, ymax = sol.y[1][0]-ROCKET_SIZE, sol.y[1][0]+ROCKET_SIZE\n",
    "img = mpimg.imread(filepath)\n",
    "\n",
    "# Plot initial position of the rocket\n",
    "ax.imshow(img, extent=[xmin,xmax,ymin,ymax], aspect='auto', zorder=2)\n",
    "\n",
    "ax.plot(sol.y[0], sol.y[1],'darkgray')\n",
    "ax.axis('off')\n",
    "title_obj = plt.title('No Asteroids')\n",
    "plt.setp(title_obj, color='w')\n",
    "plt.show()"
   ]
  },
  {
   "cell_type": "markdown",
   "metadata": {},
   "source": [
    "This shows the solution to the boundary problem."
   ]
  },
  {
   "cell_type": "code",
   "execution_count": 6,
   "metadata": {},
   "outputs": [],
   "source": [
    "# set the size of the rocket\n",
    "ROCKET_SIZE = .14\n",
    "\n",
    "plt.ioff()\n",
    "\n",
    "#get data\n",
    "path_length=len(sol.y[1])\n",
    "ts = range(path_length+50)\n",
    "fig = plt.figure()\n",
    "fig.set_facecolor('#000015')\n",
    "fig.set_size_inches(3, 3)\n",
    "ax = fig.add_subplot(111)\n",
    "\n",
    "#set limits\n",
    "ax.set_xlim([-.5,1.5])\n",
    "ax.set_ylim([-.5,1.5])\n",
    "ax.set_facecolor('#000015')\n",
    "\n",
    "path=np.vstack((sol.y[0], sol.y[1])).T\n",
    "rocketpath, = ax.plot([], [],'w', alpha=0.4)\n",
    "rocket, = ax.plot([], [], color=\"#5FC2D9\", label='rocket', marker='^', markersize=15)\n",
    "\n",
    "#plot stars in the background\n",
    "starx=np.random.uniform(-1,2,size=100)\n",
    "stary=np.random.uniform(-1,2,size= 100)\n",
    "sizes=np.random.choice([.5,1,2,3,3.5], size=100)\n",
    "ax.scatter(starx, stary, s=sizes, color='white')\n",
    "\n",
    "#read in the image of the space station and place it\n",
    "space_station = mpimg.imread(\"space-station.png\")\n",
    "ax.imshow(space_station, extent=[.9,1.1,.9,1.1])\n",
    "\n",
    "#set the locations for the rocet\n",
    "xmin, xmax = sol.y[0][0]-ROCKET_SIZE, sol.y[0][0]+ROCKET_SIZE\n",
    "ymin, ymax = sol.y[1][0]-ROCKET_SIZE, sol.y[1][0]+ROCKET_SIZE\n",
    "img = mpimg.imread(filepath)\n",
    "\n",
    "# plot the trajectory\n",
    "line, = plt.gca().plot([], [], \"--\", linewidth=3,)\n",
    "\n",
    "# Plot initial position of the rocket\n",
    "rocket = plt.imshow(img, extent=[xmin,xmax,ymin,ymax], aspect='auto', zorder=2)\n",
    "\n",
    "# ax.legend()\n",
    "def update(t):\n",
    "    if t<50:\n",
    "        s=0\n",
    "        p=t\n",
    "    elif t>path_length-1:\n",
    "        p=path_length-1\n",
    "        s=t-50\n",
    "    else:\n",
    "        s=t-50\n",
    "        p=t\n",
    "\n",
    "    #update path\n",
    "    rocketpath.set_data(path[s:p,0],path[s:p,1])\n",
    "    \n",
    "    #update rocket\n",
    "    rocket.set_data(rotate_rocket(sol.y[2][t],sol.y[3][t]))\n",
    "    rocket.set_extent([sol.y[0][t] - ROCKET_SIZE, sol.y[0][t] + ROCKET_SIZE, sol.y[1][t] - ROCKET_SIZE, sol.y[1][t] + ROCKET_SIZE])\n",
    "    \n",
    "#save and show\n",
    "ani = FuncAnimation(fig, update, frames=ts[:200][::10], interval=20)\n",
    "ani.save('simple_example.mp4')\n"
   ]
  },
  {
   "cell_type": "markdown",
   "metadata": {},
   "source": [
    "In order to check the effectiveness of our set up, we ran an animation with no asteroids. As expected, we see that the rocket flies in a straight path (which is clearly optimal if there are no obstacles to avoid). The rocket speeds up, before coming to a stop at the space station. Since it works in this simple case, we were now able to add asteroids blocking the rocket’s path."
   ]
  },
  {
   "cell_type": "markdown",
   "metadata": {},
   "source": [
    "\n",
    "<video src=\"simple_example.mp4\" controls>"
   ]
  },
  {
   "cell_type": "markdown",
   "metadata": {},
   "source": [
    "### Model 2"
   ]
  },
  {
   "cell_type": "code",
   "execution_count": 51,
   "metadata": {},
   "outputs": [
    {
     "data": {
      "image/png": "[encoded data removed]",
      "text/plain": [
       "<Figure size 300x300 with 1 Axes>"
      ]
     },
     "metadata": {},
     "output_type": "display_data"
    }
   ],
   "source": [
    "#set initial conditions\n",
    "t0 = 0\n",
    "tf = 1\n",
    "W = 10\n",
    "r = (.1,.1)\n",
    "\n",
    "def ode(t, y_val): #define the ode system\n",
    "    x, y, xp, yp, p0, p1, p2, p3 = y_val\n",
    "    new_p0 = obstacle_dx(x,y,W,r) #find the new p0 and p1\n",
    "    new_p1 =  obstacle_dy(x,y,W,r)\n",
    "    return np.array([xp, yp, p2, p3, new_p0,new_p1, -p0, -p1])\n",
    "\n",
    "def bc(ya,yb):\n",
    "    # ya are the initial values\n",
    "    # yb are the final values\n",
    "    return np.array([ya[0],ya[1],ya[2],ya[3]-3,yb[0]-1,yb[1]-1,yb[2],yb[3]])\n",
    "\n",
    "\n",
    "t_steps = 200 #set the time steps and linspaces\n",
    "t = np.linspace(t0,tf,t_steps)\n",
    "x = np.linspace(0,1,t_steps)\n",
    "y = np.linspace(0,1,t_steps)\n",
    "X,Y = np.meshgrid(x,y)\n",
    "Z = obstacle(X,Y,W,r) #find Z \n",
    "#set the initial guess\n",
    "y0 = np.ones((8,t_steps))*3\n",
    "# Solve the system.\n",
    "sol = solve_bvp(ode, bc, t, y0, max_nodes=30000)\n",
    "\n",
    "#plot the solutions and label everything\n",
    "fig = plt.figure()\n",
    "fig.set_facecolor('#000015')\n",
    "fig.set_size_inches(3,3)\n",
    "ax = fig.add_subplot(111)\n",
    "\n",
    "#set limits\n",
    "ax.set_xlim([-.5,1.5])\n",
    "ax.set_ylim([-.5,1.5])\n",
    "ax.set_facecolor('#000015')\n",
    "\n",
    "#plot stars\n",
    "starx=np.random.uniform(-1,2,size=100)\n",
    "stary=np.random.uniform(-1,2,size= 100)\n",
    "sizes=np.random.choice([.5,1,2,3,3.5], size=100)\n",
    "ax.scatter(starx, stary, s=sizes, color='white')\n",
    "\n",
    "#asteroid dots\n",
    "asteroid1 = mpimg.imread(\"meteoroid.png\")\n",
    "c = [1/2,1/2]\n",
    "r = .2\n",
    "ax.imshow(asteroid1, extent=[c[0]-r, c[0]+r, c[1]-r, c[1]+r])\n",
    "\n",
    "#plot the space stations\n",
    "space_station = mpimg.imread(\"space-station.png\")\n",
    "ax.imshow(space_station, extent=[.9,1.1,.9,1.1])\n",
    "\n",
    "#set the dimensions for the rocket\n",
    "ROCKET_SIZE = .14\n",
    "xmin, xmax = sol.y[0][0]-ROCKET_SIZE, sol.y[0][0]+ROCKET_SIZE\n",
    "ymin, ymax = sol.y[1][0]-ROCKET_SIZE, sol.y[1][0]+ROCKET_SIZE\n",
    "img = mpimg.imread(filepath)\n",
    "\n",
    "# Plot initial position of the rocket\n",
    "ax.imshow(img, extent=[xmin,xmax,ymin,ymax], aspect='auto', zorder=2)\n",
    "\n",
    "ax.plot(sol.y[0], sol.y[1],'darkgray')\n",
    "ax.axis('off')\n",
    "title_obj = plt.title('1 Asteroid')\n",
    "plt.setp(title_obj, color='w')\n",
    "plt.show()"
   ]
  },
  {
   "cell_type": "markdown",
   "metadata": {},
   "source": [
    "This finds the solution to the boundary problem."
   ]
  },
  {
   "cell_type": "code",
   "execution_count": 8,
   "metadata": {},
   "outputs": [],
   "source": [
    "# plot the rocket\n",
    "ROCKET_SIZE = .14\n",
    "\n",
    "plt.ioff()\n",
    "\n",
    "#get data\n",
    "path_length=len(sol.y[1])\n",
    "ts = range(path_length+50)\n",
    "fig = plt.figure()\n",
    "fig.set_facecolor('#000015')\n",
    "fig.set_size_inches(3, 3)\n",
    "ax = fig.add_subplot(111)\n",
    "\n",
    "#set limits\n",
    "ax.set_xlim([-.5,1.5])\n",
    "ax.set_ylim([-.5,1.5])\n",
    "ax.set_facecolor('#000015')\n",
    "\n",
    "#get path\n",
    "path=np.vstack((sol.y[0], sol.y[1])).T\n",
    "rocketpath, = ax.plot([], [],'w', alpha=0.4)\n",
    "\n",
    "#plot rocket\n",
    "rocket, = ax.plot([], [], color=\"#5FC2D9\", label='rocket', marker='^', markersize=15)\n",
    "\n",
    "#plot stars\n",
    "starx=np.random.uniform(-1,2,size=100)\n",
    "stary=np.random.uniform(-1,2,size= 100)\n",
    "sizes=np.random.choice([.5,1,2,3,3.5], size=100)\n",
    "ax.scatter(starx, stary, s=sizes, color='white')\n",
    "\n",
    "#asteroid dots\n",
    "asteroid1 = mpimg.imread(\"meteoroid.png\")\n",
    "c = [1/2,1/2]\n",
    "r = .2\n",
    "ax.imshow(asteroid1, extent=[c[0]-r, c[0]+r, c[1]-r, c[1]+r])\n",
    "\n",
    "#read in the space station\n",
    "space_station = mpimg.imread(\"space-station.png\")\n",
    "ax.imshow(space_station, extent=[.9,1.1,.9,1.1])\n",
    "\n",
    "#set the location of the rocket\n",
    "xmin, xmax = sol.y[0][0]-ROCKET_SIZE, sol.y[0][0]+ROCKET_SIZE\n",
    "ymin, ymax = sol.y[1][0]-ROCKET_SIZE, sol.y[1][0]+ROCKET_SIZE\n",
    "img = mpimg.imread(filepath)\n",
    "\n",
    "# plot the trajectory\n",
    "line, = plt.gca().plot([], [], \"--\", linewidth=3,)\n",
    "\n",
    "# Plot initial position of the rocket\n",
    "rocket = plt.imshow(img, extent=[xmin,xmax,ymin,ymax], aspect='auto', zorder=2)\n",
    "\n",
    "# ax.legend()\n",
    "def update(t):\n",
    "    if t<50:\n",
    "        s=0\n",
    "        p=t\n",
    "    elif t>path_length-1:\n",
    "        p=path_length-1\n",
    "        s=t-50\n",
    "    else:\n",
    "        s=t-50\n",
    "        p=t\n",
    "\n",
    "    #update path\n",
    "    rocketpath.set_data(path[s:p,0],path[s:p,1])\n",
    "\n",
    "    #update rocket\n",
    "    rocket.set_data(rotate_rocket(sol.y[2][t],sol.y[3][t]))\n",
    "    rocket.set_extent([sol.y[0][t] - ROCKET_SIZE, sol.y[0][t] + ROCKET_SIZE, sol.y[1][t] - ROCKET_SIZE, sol.y[1][t] + ROCKET_SIZE])\n",
    "\n",
    "#save and show\n",
    "ani = FuncAnimation(fig, update, frames=ts[:950][::10], interval=20)\n",
    "ani.save('rocket1.mp4')"
   ]
  },
  {
   "cell_type": "markdown",
   "metadata": {},
   "source": [
    "For our second attempt, we demonstrate the case of a single asteroid lying within the straight-line path to the space station. The rocket successfully avoids the obstacle and slows to a stop at the space station."
   ]
  },
  {
   "cell_type": "markdown",
   "metadata": {},
   "source": [
    "<video src=\"rocket1.mp4\" controls>"
   ]
  },
  {
   "cell_type": "markdown",
   "metadata": {},
   "source": [
    "### Model 3"
   ]
  },
  {
   "cell_type": "code",
   "execution_count": 52,
   "metadata": {},
   "outputs": [
    {
     "data": {
      "image/png": "[encoded data removed]",
      "text/plain": [
       "<Figure size 300x300 with 1 Axes>"
      ]
     },
     "metadata": {},
     "output_type": "display_data"
    }
   ],
   "source": [
    "#set the initial conditions\n",
    "t0 = 0\n",
    "tf = 1\n",
    "W = 15000\n",
    "r = (.007,.007)\n",
    "\n",
    "#notice we have multiple asteroids\n",
    "c2 = (.6,.9)\n",
    "c3 = (.4,.3)\n",
    "c4 = (.5,.6)\n",
    "\n",
    "def ode(t, y_val): #define the ode system\n",
    "    x, y, xp, yp, p0, p1, p2, p3 = y_val\n",
    "    #get the new p0 and p1\n",
    "    new_p0 = obstacle_dx(x,y,W,r,c4) + obstacle_dx(x,y,W,r,c2) + obstacle_dx(x,y,W,r,c3)\n",
    "    new_p1 =  obstacle_dy(x,y,W,r,c4) + obstacle_dy(x,y,W,r,c2) + obstacle_dy(x,y,W,r,c3)\n",
    "    return np.array([xp, yp, p2, p3, new_p0, new_p1, -p0, -p1])\n",
    "\n",
    "def bc(ya,yb):\n",
    "    # ya are the initial values\n",
    "    # yb are the final values\n",
    "    return np.array([ya[0],ya[1],ya[2],ya[3]-2,yb[0]-1,yb[1]-1,yb[2],yb[3]])\n",
    "\n",
    "\n",
    "t_steps = 200 #set the time steps and linspaces\n",
    "t = np.linspace(t0,tf,t_steps)\n",
    "x = np.linspace(0,1,t_steps)\n",
    "y = np.linspace(0,1,t_steps)\n",
    "X,Y = np.meshgrid(x,y)\n",
    "#find the obstacles\n",
    "Z2 = obstacle(X,Y,W,r,c2)\n",
    "Z3 = obstacle(X,Y,W,r,c3)\n",
    "Z4 = obstacle(X,Y,W,r,c4)\n",
    "# set the initial guess.\n",
    "y0 = np.ones((8,t_steps))*3\n",
    "# Solve the system.\n",
    "sol = solve_bvp(ode, bc, t, y0,max_nodes=30000)\n",
    "\n",
    "#plot the solutions and label everything\n",
    "fig = plt.figure()\n",
    "fig.set_facecolor('#000015')\n",
    "fig.set_size_inches(3,3)\n",
    "ax = fig.add_subplot(111)\n",
    "\n",
    "#set limits\n",
    "ax.set_xlim([-.5,1.5])\n",
    "ax.set_ylim([-.5,1.5])\n",
    "ax.set_facecolor('#000015')\n",
    "\n",
    "#plot stars\n",
    "starx=np.random.uniform(-1,2,size=100)\n",
    "stary=np.random.uniform(-1,2,size= 100)\n",
    "sizes=np.random.choice([.5,1,2,3,3.5], size=100)\n",
    "ax.scatter(starx, stary, s=sizes, color='white')\n",
    "\n",
    "#asteroid dots\n",
    "asteroid1 = mpimg.imread(\"meteoroid.png\")\n",
    "r = .07\n",
    "ax.imshow(asteroid1, extent=[c4[0]-r, c4[0]+r, c4[1]-r, c4[1]+r])\n",
    "r = .07\n",
    "ax.imshow(asteroid1, extent=[c2[0]-r, c2[0]+r, c2[1]-r, c2[1]+r])\n",
    "r = .07\n",
    "ax.imshow(asteroid1, extent=[c3[0]-r, c3[0]+r, c3[1]-r, c3[1]+r])\n",
    "\n",
    "#plot the space stations\n",
    "space_station = mpimg.imread(\"space-station.png\")\n",
    "ax.imshow(space_station, extent=[.9,1.1,.9,1.1])\n",
    "\n",
    "#set the dimensions for the rocket\n",
    "ROCKET_SIZE = .14\n",
    "xmin, xmax = sol.y[0][0]-ROCKET_SIZE, sol.y[0][0]+ROCKET_SIZE\n",
    "ymin, ymax = sol.y[1][0]-ROCKET_SIZE, sol.y[1][0]+ROCKET_SIZE\n",
    "img = mpimg.imread(filepath)\n",
    "\n",
    "# Plot initial position of the rocket\n",
    "ax.imshow(img, extent=[xmin,xmax,ymin,ymax], aspect='auto', zorder=2)\n",
    "\n",
    "ax.plot(sol.y[0], sol.y[1],'darkgray')\n",
    "ax.axis('off')\n",
    "title_obj = plt.title('3 Asteroids')\n",
    "plt.setp(title_obj, color='w')\n",
    "plt.show()"
   ]
  },
  {
   "cell_type": "markdown",
   "metadata": {},
   "source": [
    "This finds the solution to the boundary problem."
   ]
  },
  {
   "cell_type": "code",
   "execution_count": 10,
   "metadata": {},
   "outputs": [],
   "source": [
    "mypath = sol.y\n",
    "plt.ioff()\n",
    "\n",
    "#get data\n",
    "path_length=len(mypath[1])\n",
    "tail_length=50\n",
    "ts = range(path_length+50)\n",
    "fig = plt.figure()\n",
    "fig.set_facecolor('#000015')\n",
    "fig.set_size_inches(3, 3)\n",
    "ax = fig.add_subplot(111)\n",
    "\n",
    "#set limits\n",
    "ax.set_xlim([-.5,1.5])\n",
    "ax.set_ylim([-.5,1.5])\n",
    "ax.set_facecolor('#000015')\n",
    "\n",
    "#get path\n",
    "path=np.vstack((mypath[0], mypath[1])).T\n",
    "rocketpath, = ax.plot([], [],'w', alpha=0.4)\n",
    "\n",
    "#plot rocket\n",
    "rocket, = ax.plot([], [], color=\"#5FC2D9\", label='rocket', marker='^', markersize=15)\n",
    "\n",
    "#plot stars\n",
    "starx=np.random.uniform(-1,2,size=100)\n",
    "stary=np.random.uniform(-1,2,size= 100)\n",
    "sizes=np.random.choice([.5,1,2,3,3.5], size=100)\n",
    "ax.scatter(starx, stary, s=sizes, color='white')\n",
    "\n",
    "#asteroid dots\n",
    "asteroid1 = mpimg.imread(\"meteoroid.png\")\n",
    "r = .07\n",
    "ax.imshow(asteroid1, extent=[c4[0]-r, c4[0]+r, c4[1]-r, c4[1]+r])\n",
    "r = .07\n",
    "ax.imshow(asteroid1, extent=[c2[0]-r, c2[0]+r, c2[1]-r, c2[1]+r])\n",
    "r = .07\n",
    "ax.imshow(asteroid1, extent=[c3[0]-r, c3[0]+r, c3[1]-r, c3[1]+r])\n",
    "\n",
    "#read in the space stations\n",
    "space_station = mpimg.imread(\"space-station.png\")\n",
    "ax.imshow(space_station, extent=[.9,1.1,.9,1.1])\n",
    "\n",
    "#set the locaiton of the rocket\n",
    "xmin, xmax = sol.y[0][0]-ROCKET_SIZE, sol.y[0][0]+ROCKET_SIZE\n",
    "ymin, ymax = sol.y[1][0]-ROCKET_SIZE, sol.y[1][0]+ROCKET_SIZE\n",
    "img = mpimg.imread(filepath)\n",
    "\n",
    "# plot the trajectory\n",
    "line, = plt.gca().plot([], [], \"--\", linewidth=3,)\n",
    "\n",
    "# Plot initial position of the rocket\n",
    "rocket = plt.imshow(img, extent=[xmin,xmax,ymin,ymax], aspect='auto', zorder=2)\n",
    "\n",
    "def update(t):\n",
    "    if t<tail_length:\n",
    "        s=0\n",
    "        p=t\n",
    "    elif t>path_length-1:\n",
    "        p=path_length-1\n",
    "        s=t-tail_length\n",
    "    else:\n",
    "        s=t-tail_length\n",
    "        p=t\n",
    "\n",
    "    #update path\n",
    "    rocketpath.set_data(path[s:p,0],path[s:p,1])\n",
    "    \n",
    "    #update rocket \n",
    "    rocket.set_data(rotate_rocket(sol.y[2][t],sol.y[3][t]))\n",
    "    rocket.set_extent([sol.y[0][t] - ROCKET_SIZE, sol.y[0][t] + ROCKET_SIZE, sol.y[1][t] - ROCKET_SIZE, sol.y[1][t] + ROCKET_SIZE])\n",
    "\n",
    "#save and show\n",
    "ani = FuncAnimation(fig, update, frames=ts[:2450][::10], interval=10)\n",
    "ani.save('rocket_3asteroids.mp4')"
   ]
  },
  {
   "cell_type": "markdown",
   "metadata": {},
   "source": [
    "In this model, we have three smaller asteroids to be avoided. It was curious to see if the rocket would weave through the obstacles or avoid them altogether. For this case, we see it is optimal for the path to carefully go around the first asteriod, then make a relatively straight shot to its target."
   ]
  },
  {
   "cell_type": "markdown",
   "metadata": {},
   "source": [
    "<video src=\"rocket_3asteroids.mp4\" controls>"
   ]
  },
  {
   "cell_type": "markdown",
   "metadata": {},
   "source": [
    "### Model 4"
   ]
  },
  {
   "cell_type": "code",
   "execution_count": 53,
   "metadata": {},
   "outputs": [
    {
     "data": {
      "image/png": "[encoded data removed]",
      "text/plain": [
       "<Figure size 300x300 with 1 Axes>"
      ]
     },
     "metadata": {},
     "output_type": "display_data"
    }
   ],
   "source": [
    "#set initial conditions and asteroid details\n",
    "t0 = 0\n",
    "tf = 1\n",
    "W = 100000\n",
    "r = (.007,.007)\n",
    "c1 = (.2,.2)\n",
    "c2 = (.6,.9)\n",
    "c3 = (.3,.8)\n",
    "c4 = (.5,.7)\n",
    "\n",
    "def ode(t, y_val): #define the ode system\n",
    "    x, y, xp, yp, p0, p1, p2, p3 = y_val\n",
    "    #set the new p0 and p1\n",
    "    new_p0 = obstacle_dx(x,y,W,r,c1) + obstacle_dx(x,y,W,r,c2) + obstacle_dx(x,y,W,r,c3) + obstacle_dx(x,y,W,r,c4)\n",
    "    new_p1 =  obstacle_dy(x,y,W,r,c1) + obstacle_dy(x,y,W,r,c2) + obstacle_dy(x,y,W,r,c3) + obstacle_dy(x,y,W,r,c4)\n",
    "    return np.array([xp, yp, p2, p3, new_p0,new_p1, -p0, -p1])\n",
    "\n",
    "def bc(ya,yb):\n",
    "# ya are the initial values\n",
    "# yb are the final values\n",
    "    return np.array([ya[0],ya[1],ya[2],ya[3]-2,yb[0]-1,yb[1]-1,yb[2],yb[3]])\n",
    "\n",
    "\n",
    "t_steps = 200 #set the time steps and linspaces\n",
    "t = np.linspace(t0,tf,t_steps)\n",
    "x = np.linspace(0,1,t_steps)\n",
    "y = np.linspace(0,1,t_steps)\n",
    "X,Y = np.meshgrid(x,y)\n",
    "\n",
    "#set the asteroids\n",
    "Z1 = obstacle(X,Y,W,r,c1)\n",
    "Z2 = obstacle(X,Y,W,r,c2) \n",
    "Z3 = obstacle(X,Y,W,r,c3)\n",
    "Z4 = obstacle(X,Y,W,r,c4)\n",
    "\n",
    "#set the initial guess\n",
    "y0 = np.ones((8,t_steps))*3\n",
    "\n",
    "# Solve the system.\n",
    "sol = solve_bvp(ode, bc, t, y0,max_nodes=30000)\n",
    "\n",
    "#plot the solutions and label everything\n",
    "fig = plt.figure()\n",
    "fig.set_facecolor('#000015')\n",
    "fig.set_size_inches(3,3)\n",
    "ax = fig.add_subplot(111)\n",
    "\n",
    "#set limits\n",
    "ax.set_xlim([-.5,1.5])\n",
    "ax.set_ylim([-.5,1.5])\n",
    "ax.set_facecolor('#000015')\n",
    "\n",
    "#plot stars\n",
    "starx=np.random.uniform(-1,2,size=100)\n",
    "stary=np.random.uniform(-1,2,size= 100)\n",
    "sizes=np.random.choice([.5,1,2,3,3.5], size=100)\n",
    "ax.scatter(starx, stary, s=sizes, color='white')\n",
    "\n",
    "#asteroid dots\n",
    "asteroid1 = mpimg.imread(\"meteoroid.png\")\n",
    "c = [.2,.2]\n",
    "r = .07\n",
    "ax.imshow(asteroid1, extent=[c[0]-r, c[0]+r, c[1]-r, c[1]+r])\n",
    "c = [.6,.9]\n",
    "r = .07\n",
    "ax.imshow(asteroid1, extent=[c[0]-r, c[0]+r, c[1]-r, c[1]+r])\n",
    "c = [.3,.8]\n",
    "r = .07\n",
    "ax.imshow(asteroid1, extent=[c[0]-r, c[0]+r, c[1]-r, c[1]+r])\n",
    "c = [.5,.7]\n",
    "r = .07\n",
    "ax.imshow(asteroid1, extent=[c[0]-r, c[0]+r, c[1]-r, c[1]+r])\n",
    "\n",
    "#plot the space stations\n",
    "space_station = mpimg.imread(\"space-station.png\")\n",
    "ax.imshow(space_station, extent=[.9,1.1,.9,1.1])\n",
    "\n",
    "#set the dimensions for the rocket\n",
    "ROCKET_SIZE = .14\n",
    "xmin, xmax = sol.y[0][0]-ROCKET_SIZE, sol.y[0][0]+ROCKET_SIZE\n",
    "ymin, ymax = sol.y[1][0]-ROCKET_SIZE, sol.y[1][0]+ROCKET_SIZE\n",
    "img = mpimg.imread(filepath)\n",
    "\n",
    "# Plot initial position of the rocket\n",
    "ax.imshow(img, extent=[xmin,xmax,ymin,ymax], aspect='auto', zorder=2)\n",
    "\n",
    "ax.plot(sol.y[0], sol.y[1],'darkgray')\n",
    "ax.axis('off')\n",
    "title_obj = plt.title('4 Asteroids')\n",
    "plt.setp(title_obj, color='w')\n",
    "plt.show()\n"
   ]
  },
  {
   "cell_type": "markdown",
   "metadata": {},
   "source": [
    "This finds the solution to the boundary problem."
   ]
  },
  {
   "cell_type": "code",
   "execution_count": null,
   "metadata": {},
   "outputs": [],
   "source": [
    "plt.ioff()\n",
    "\n",
    "#get data\n",
    "path_length=len(sol.y[1])\n",
    "tail_length=50\n",
    "ts = range(path_length+50)\n",
    "fig = plt.figure()\n",
    "fig.set_facecolor('#000015')\n",
    "fig.set_size_inches(3, 3)\n",
    "ax = fig.add_subplot(111)\n",
    "\n",
    "#set limits\n",
    "ax.set_xlim([-.5,1.5])\n",
    "ax.set_ylim([-.5,1.5])\n",
    "ax.set_facecolor('#000015')\n",
    "\n",
    "#get path\n",
    "path=np.vstack((sol.y[0], sol.y[1])).T\n",
    "rocketpath, = ax.plot([], [],'w', alpha=0.4)\n",
    "\n",
    "#plot rocket\n",
    "rocket, = ax.plot([], [], color=\"#5FC2D9\", label='rocket', marker='^', markersize=15)\n",
    "# ax.legend(prop={'family': 'Arial'})\n",
    "\n",
    "#plot stars\n",
    "starx=np.random.uniform(-1,2,size=100)\n",
    "stary=np.random.uniform(-1,2,size= 100)\n",
    "sizes=np.random.choice([.5,1,2,3,3.5], size=100)\n",
    "ax.scatter(starx, stary, s=sizes, color='white')\n",
    "\n",
    "#asteroid dots\n",
    "asteroid1 = mpimg.imread(\"meteoroid.png\")\n",
    "c = [.2,.2]\n",
    "r = .07\n",
    "ax.imshow(asteroid1, extent=[c[0]-r, c[0]+r, c[1]-r, c[1]+r])\n",
    "c = [.6,.9]\n",
    "r = .07\n",
    "ax.imshow(asteroid1, extent=[c[0]-r, c[0]+r, c[1]-r, c[1]+r])\n",
    "c = [.3,.8]\n",
    "r = .07\n",
    "ax.imshow(asteroid1, extent=[c[0]-r, c[0]+r, c[1]-r, c[1]+r])\n",
    "c = [.5,.7]\n",
    "r = .07\n",
    "ax.imshow(asteroid1, extent=[c[0]-r, c[0]+r, c[1]-r, c[1]+r])\n",
    "\n",
    "#plot the space stations\n",
    "ax.imshow(space_station, extent=[.9,1.1,.9,1.1])\n",
    "\n",
    "#set dimensions for the rocket\n",
    "xmin, xmax = sol.y[0][0]-ROCKET_SIZE, sol.y[0][0]+ROCKET_SIZE\n",
    "ymin, ymax = sol.y[1][0]-ROCKET_SIZE, sol.y[1][0]+ROCKET_SIZE\n",
    "img = mpimg.imread(filepath)\n",
    "\n",
    "# plot the trajectory\n",
    "line, = plt.gca().plot([], [], \"--\", linewidth=3,)\n",
    "\n",
    "# Plot initial position of the rocket\n",
    "rocket = plt.imshow(img, extent=[xmin,xmax,ymin,ymax], aspect='auto', zorder=2)\n",
    "\n",
    "def update(t):\n",
    "    if t<tail_length:\n",
    "        s=0\n",
    "        p=t\n",
    "    elif t>path_length-1:\n",
    "        p=path_length-1\n",
    "        s=t-tail_length\n",
    "    else:\n",
    "        s=t-tail_length\n",
    "        p=t\n",
    "\n",
    "    #update path\n",
    "    rocketpath.set_data(path[s:p,0],path[s:p,1])\n",
    "    \n",
    "    #update rocket\n",
    "    rocket.set_data(rotate_rocket(sol.y[2][t],sol.y[3][t]))\n",
    "    rocket.set_extent([sol.y[0][t] - ROCKET_SIZE, sol.y[0][t] + ROCKET_SIZE, sol.y[1][t] - ROCKET_SIZE, sol.y[1][t] + ROCKET_SIZE])\n",
    "\n",
    "#save and show\n",
    "ani = FuncAnimation(fig, update, frames=ts[:1050][::10], interval=20)\n",
    "ani.save('rocket_4asteroids.mp4')"
   ]
  },
  {
   "cell_type": "markdown",
   "metadata": {},
   "source": [
    "This case added a fourth asteroid and placed them in slightly different locations. Like the three asteroid example, the rocket slows down considerably, taking great care to not hit the first asteroid. Once that obstacle is cleared, it speeds up before stopping at the space station."
   ]
  },
  {
   "cell_type": "markdown",
   "metadata": {},
   "source": [
    "<video src=\"rocket_4asteroids.mp4\" controls>"
   ]
  },
  {
   "cell_type": "markdown",
   "metadata": {},
   "source": [
    "### Model 5"
   ]
  },
  {
   "cell_type": "code",
   "execution_count": 54,
   "metadata": {},
   "outputs": [
    {
     "data": {
      "image/png": "[encoded data removed]",
      "text/plain": [
       "<Figure size 300x300 with 1 Axes>"
      ]
     },
     "metadata": {},
     "output_type": "display_data"
    }
   ],
   "source": [
    "#set the initial conditions\n",
    "t0 = 0\n",
    "tf = 1\n",
    "W = 10000\n",
    "r = (.007,.007)\n",
    "c1 = (.4,.15)\n",
    "c2 = (.6,.8)\n",
    "c3 = (.9,.3)\n",
    "c4 = (.5,.52)\n",
    "c5 = (.2,.6)\n",
    "\n",
    "def ode(t, y_val): #define the ode system\n",
    "    x, y, xp, yp, p0, p1, p2, p3 = y_val\n",
    "    #find the new p0 and p1\n",
    "    new_p0 = obstacle_dx(x,y,W,r,c4) + obstacle_dx(x,y,W,r,c2) + obstacle_dx(x,y,W,r,c3) + obstacle_dx(x,y,W,r,c1) + obstacle_dx(x,y,W,r,c5)\n",
    "    new_p1 =  obstacle_dy(x,y,W,r,c4) + obstacle_dy(x,y,W,r,c2) + obstacle_dy(x,y,W,r,c3) + obstacle_dy(x,y,W,r,c1) + obstacle_dy(x,y,W,r,c5)\n",
    "    return np.array([xp, yp, p2, p3, new_p0, new_p1, -p0, -p1])\n",
    "\n",
    "def bc(ya,yb):\n",
    "    # ya are the initial values\n",
    "    # yb are the final values\n",
    "    return np.array([ya[0],ya[1],ya[2],ya[3]-2,yb[0]-1,yb[1]-1,yb[2],yb[3]])\n",
    "\n",
    "\n",
    "t_steps = 200 #set the time steps and linspaces\n",
    "t = np.linspace(t0,tf,t_steps)\n",
    "x = np.linspace(0,1,t_steps)\n",
    "y = np.linspace(0,1,t_steps)\n",
    "X,Y = np.meshgrid(x,y)\n",
    "\n",
    "#get all the asteroids\n",
    "Z1 = obstacle(X,Y,W,r,c1) \n",
    "Z2 = obstacle(X,Y,W,r,c2) \n",
    "Z3 = obstacle(X,Y,W,r,c3)\n",
    "Z4 = obstacle(X,Y,W,r,c4)\n",
    "Z5 = obstacle(X,Y,W,r,c5)\n",
    "\n",
    "#set initial guess\n",
    "y0 = np.ones((8,t_steps))*3\n",
    "\n",
    "# Solve the system.\n",
    "sol = solve_bvp(ode, bc, t, y0,max_nodes=30000)\n",
    "\n",
    "#plot the solutions and label everything\n",
    "fig = plt.figure()\n",
    "fig.set_facecolor('#000015')\n",
    "fig.set_size_inches(3,3)\n",
    "ax = fig.add_subplot(111)\n",
    "\n",
    "#set limits\n",
    "ax.set_xlim([-.5,1.5])\n",
    "ax.set_ylim([-.5,1.5])\n",
    "ax.set_facecolor('#000015')\n",
    "\n",
    "#plot stars\n",
    "starx=np.random.uniform(-1,2,size=100)\n",
    "stary=np.random.uniform(-1,2,size= 100)\n",
    "sizes=np.random.choice([.5,1,2,3,3.5], size=100)\n",
    "ax.scatter(starx, stary, s=sizes, color='white')\n",
    "\n",
    "#asteroid dots\n",
    "asteroid1 = mpimg.imread(\"meteoroid.png\")\n",
    "r = .07\n",
    "ax.imshow(asteroid1, extent=[c1[0]-r, c1[0]+r, c1[1]-r, c1[1]+r])\n",
    "ax.imshow(asteroid1, extent=[c2[0]-r, c2[0]+r, c2[1]-r, c2[1]+r])\n",
    "ax.imshow(asteroid1, extent=[c3[0]-r, c3[0]+r, c3[1]-r, c3[1]+r])\n",
    "ax.imshow(asteroid1, extent=[c4[0]-r, c4[0]+r, c4[1]-r, c4[1]+r])\n",
    "ax.imshow(asteroid1, extent=[c5[0]-r, c5[0]+r, c5[1]-r, c5[1]+r])\n",
    "\n",
    "#plot the space stations\n",
    "space_station = mpimg.imread(\"space-station.png\")\n",
    "ax.imshow(space_station, extent=[.9,1.1,.9,1.1])\n",
    "\n",
    "#set the dimensions for the rocket\n",
    "ROCKET_SIZE = .14\n",
    "xmin, xmax = sol.y[0][0]-ROCKET_SIZE, sol.y[0][0]+ROCKET_SIZE\n",
    "ymin, ymax = sol.y[1][0]-ROCKET_SIZE, sol.y[1][0]+ROCKET_SIZE\n",
    "img = mpimg.imread(filepath)\n",
    "\n",
    "# Plot initial position of the rocket\n",
    "ax.imshow(img, extent=[xmin,xmax,ymin,ymax], aspect='auto', zorder=2)\n",
    "\n",
    "ax.plot(sol.y[0], sol.y[1],'darkgray')\n",
    "ax.axis('off')\n",
    "title_obj = plt.title('5 Asteroids')\n",
    "plt.setp(title_obj, color='w')\n",
    "plt.show()"
   ]
  },
  {
   "cell_type": "markdown",
   "metadata": {},
   "source": [
    "This finds the solution to the boundary problem."
   ]
  },
  {
   "cell_type": "code",
   "execution_count": 14,
   "metadata": {},
   "outputs": [],
   "source": [
    "mypath = sol.y\n",
    "plt.ioff()\n",
    "#get data\n",
    "path_length=len(mypath[1])\n",
    "tail_length=50\n",
    "ts = range(path_length+50)\n",
    "fig = plt.figure()\n",
    "fig.set_facecolor('#000015')\n",
    "fig.set_size_inches(3, 3)\n",
    "ax = fig.add_subplot(111)\n",
    "\n",
    "#set limits\n",
    "ax.set_xlim([-.5,1.5])\n",
    "ax.set_ylim([-.5,1.5])\n",
    "ax.set_facecolor('#000015')\n",
    "\n",
    "#get path\n",
    "path=np.vstack((mypath[0], mypath[1])).T\n",
    "rocketpath, = ax.plot([], [],'w', alpha=0.4)\n",
    "\n",
    "#plot rocket\n",
    "rocket, = ax.plot([], [], color=\"#5FC2D9\", label='rocket', marker='^', markersize=15)\n",
    "\n",
    "#plot stars\n",
    "starx=np.random.uniform(-1,2,size=100)\n",
    "stary=np.random.uniform(-1,2,size= 100)\n",
    "sizes=np.random.choice([.5,1,2,3,3.5], size=100)\n",
    "ax.scatter(starx, stary, s=sizes, color='white')\n",
    "\n",
    "#asteroid dots\n",
    "asteroid1 = mpimg.imread(\"meteoroid.png\")\n",
    "r = .07\n",
    "ax.imshow(asteroid1, extent=[c1[0]-r, c1[0]+r, c1[1]-r, c1[1]+r])\n",
    "ax.imshow(asteroid1, extent=[c2[0]-r, c2[0]+r, c2[1]-r, c2[1]+r])\n",
    "ax.imshow(asteroid1, extent=[c3[0]-r, c3[0]+r, c3[1]-r, c3[1]+r])\n",
    "ax.imshow(asteroid1, extent=[c4[0]-r, c4[0]+r, c4[1]-r, c4[1]+r])\n",
    "ax.imshow(asteroid1, extent=[c5[0]-r, c5[0]+r, c5[1]-r, c5[1]+r])\n",
    "\n",
    "#show space stations\n",
    "space_station = mpimg.imread(\"space-station.png\")\n",
    "ax.imshow(space_station, extent=[.9,1.1,.9,1.1])\n",
    "\n",
    "#set dimesnios for the rocket\n",
    "xmin, xmax = sol.y[0][0]-ROCKET_SIZE, sol.y[0][0]+ROCKET_SIZE\n",
    "ymin, ymax = sol.y[1][0]-ROCKET_SIZE, sol.y[1][0]+ROCKET_SIZE\n",
    "img = mpimg.imread(filepath)\n",
    "\n",
    "# plot the trajectory\n",
    "line, = plt.gca().plot([], [], \"--\", linewidth=3,)\n",
    "\n",
    "# Plot initial position of the rocket\n",
    "rocket = plt.imshow(img, extent=[xmin,xmax,ymin,ymax], aspect='auto', zorder=2)\n",
    "\n",
    "def update(t):\n",
    "    if t<tail_length:\n",
    "        s=0\n",
    "        p=t\n",
    "    elif t>path_length-1:\n",
    "        p=path_length-1\n",
    "        s=t-tail_length\n",
    "    else:\n",
    "        s=t-tail_length\n",
    "        p=t\n",
    "\n",
    "    #update path\n",
    "    rocketpath.set_data(path[s:p,0],path[s:p,1])\n",
    "\n",
    "    #update rocket\n",
    "    rocket.set_data(rotate_rocket(sol.y[2][t],sol.y[3][t]))\n",
    "    rocket.set_extent([sol.y[0][t] - ROCKET_SIZE, sol.y[0][t] + ROCKET_SIZE, sol.y[1][t] - ROCKET_SIZE, sol.y[1][t] + ROCKET_SIZE])\n",
    "\n",
    "#save and show\n",
    "ani = FuncAnimation(fig, update, frames=ts[:1020][::10], interval=10)\n",
    "ani.save('rocket_5asteroids.mp4')"
   ]
  },
  {
   "cell_type": "markdown",
   "metadata": {},
   "source": [
    "Adding a fifth asteroid gave us an interesting optimal path. Rather than taking a wide arc around the asteroid field, we see the rocket carefully weaves between asteroids. Since most of the control is focused on not hitting the asteroids, we see it moves relatively slowly as it maneuvers around the obstacles."
   ]
  },
  {
   "cell_type": "markdown",
   "metadata": {},
   "source": [
    "<video src=\"rocket_5asteroids.mp4\" controls>"
   ]
  },
  {
   "cell_type": "markdown",
   "metadata": {},
   "source": [
    "We now examine the same model with poorly chosen weights."
   ]
  },
  {
   "cell_type": "code",
   "execution_count": 55,
   "metadata": {},
   "outputs": [
    {
     "data": {
      "image/png": "[encoded data removed]",
      "text/plain": [
       "<Figure size 300x300 with 1 Axes>"
      ]
     },
     "metadata": {},
     "output_type": "display_data"
    }
   ],
   "source": [
    "# set initial conditions\n",
    "t0 = 0\n",
    "tf = 1\n",
    "W = 550\n",
    "r = (.007,.007)\n",
    "c1 = (.2,.8)\n",
    "c2 = (.2,.2)\n",
    "c3 = (.8,.8)\n",
    "c4 = (.8,.2)\n",
    "c5 = (.4,.6)\n",
    "\n",
    "def ode(t, y_val): #define the ode system\n",
    "    x, y, xp, yp, p0, p1, p2, p3 = y_val\n",
    "    #find the new p0 and p1\n",
    "    new_p0 = obstacle_dx(x,y,W,r,c4) + obstacle_dx(x,y,W,r,c2) + obstacle_dx(x,y,W,r,c3) + obstacle_dx(x,y,W,r,c1) + obstacle_dx(x,y,W,r,c5)\n",
    "    new_p1 =  obstacle_dy(x,y,W,r,c4) + obstacle_dy(x,y,W,r,c2) + obstacle_dy(x,y,W,r,c3) + obstacle_dy(x,y,W,r,c1) + obstacle_dy(x,y,W,r,c5)\n",
    "    return np.array([xp, yp, p2, p3, new_p0, new_p1, -p0, -p1])\n",
    "\n",
    "def bc(ya,yb):\n",
    "# ya are the initial values\n",
    "# yb are the final values\n",
    "    return np.array([ya[0],ya[1],ya[2],ya[3]-2,yb[0]-1,yb[1]-1,yb[2],yb[3]])\n",
    "\n",
    "\n",
    "t_steps = 200 #set the time steps and linspaces\n",
    "t = np.linspace(t0,tf,t_steps)\n",
    "x = np.linspace(0,1,t_steps)\n",
    "y = np.linspace(0,1,t_steps)\n",
    "X,Y = np.meshgrid(x,y)\n",
    "\n",
    "#find the obstacles\n",
    "Z1 = obstacle(X,Y,W,r,c1) \n",
    "Z2 = obstacle(X,Y,W,r,c2) \n",
    "Z3 = obstacle(X,Y,W,r,c3)\n",
    "Z4 = obstacle(X,Y,W,r,c4)\n",
    "Z5 = obstacle(X,Y,W,r,c5)\n",
    "\n",
    "#set the initial guess\n",
    "y0 = np.ones((8,t_steps))*1\n",
    "\n",
    "# Solve the system.\n",
    "sol = solve_bvp(ode, bc, t, y0,max_nodes=30000)\n",
    "\n",
    "#plot the solutions and label everything\n",
    "fig = plt.figure()\n",
    "fig.set_facecolor('#000015')\n",
    "fig.set_size_inches(3,3)\n",
    "ax = fig.add_subplot(111)\n",
    "\n",
    "#set limits\n",
    "ax.set_xlim([-.5,1.5])\n",
    "ax.set_ylim([-.5,1.5])\n",
    "ax.set_facecolor('#000015')\n",
    "\n",
    "#plot stars\n",
    "starx=np.random.uniform(-1,2,size=100)\n",
    "stary=np.random.uniform(-1,2,size= 100)\n",
    "sizes=np.random.choice([.5,1,2,3,3.5], size=100)\n",
    "ax.scatter(starx, stary, s=sizes, color='white')\n",
    "\n",
    "#asteroid dots\n",
    "asteroid1 = mpimg.imread(\"meteoroid.png\")\n",
    "r = .07\n",
    "ax.imshow(asteroid1, extent=[c1[0]-r, c1[0]+r, c1[1]-r, c1[1]+r])\n",
    "ax.imshow(asteroid1, extent=[c2[0]-r, c2[0]+r, c2[1]-r, c2[1]+r])\n",
    "ax.imshow(asteroid1, extent=[c3[0]-r, c3[0]+r, c3[1]-r, c3[1]+r])\n",
    "ax.imshow(asteroid1, extent=[c4[0]-r, c4[0]+r, c4[1]-r, c4[1]+r])\n",
    "ax.imshow(asteroid1, extent=[c5[0]-r, c5[0]+r, c5[1]-r, c5[1]+r])\n",
    "\n",
    "#plot the space stations\n",
    "space_station = mpimg.imread(\"space-station.png\")\n",
    "ax.imshow(space_station, extent=[.9,1.1,.9,1.1])\n",
    "\n",
    "#set the dimensions for the rocket\n",
    "ROCKET_SIZE = .14\n",
    "xmin, xmax = sol.y[0][0]-ROCKET_SIZE, sol.y[0][0]+ROCKET_SIZE\n",
    "ymin, ymax = sol.y[1][0]-ROCKET_SIZE, sol.y[1][0]+ROCKET_SIZE\n",
    "img = mpimg.imread(filepath)\n",
    "\n",
    "# Plot initial position of the rocket\n",
    "ax.imshow(img, extent=[xmin,xmax,ymin,ymax], aspect='auto', zorder=2)\n",
    "\n",
    "ax.plot(sol.y[0], sol.y[1],'darkgray')\n",
    "ax.axis('off')\n",
    "title_obj = plt.title('Poor Choice of Weights')\n",
    "plt.setp(title_obj, color='w')\n",
    "plt.show()"
   ]
  },
  {
   "cell_type": "markdown",
   "metadata": {},
   "source": [
    "This finds the solution to the boundary value problem.\n",
    "\n",
    "In this case, we see the optimal path prioritizes minimizing gas consumption over avoiding the asteroids. The result is a path that goes straight through the middle of two asteroid (a path that is not recommended outside of simulation)."
   ]
  },
  {
   "cell_type": "code",
   "execution_count": null,
   "metadata": {},
   "outputs": [],
   "source": [
    "mypath = sol.y\n",
    "plt.ioff()\n",
    "\n",
    "#get data\n",
    "path_length=len(mypath[1])\n",
    "tail_length=len(mypath[1]-1)\n",
    "ts = range(path_length+50)\n",
    "fig = plt.figure()\n",
    "fig.set_facecolor('#000015')\n",
    "fig.set_size_inches(3, 3)\n",
    "ax = fig.add_subplot(111)\n",
    "\n",
    "#set limits\n",
    "ax.set_xlim([-.5,1.5])\n",
    "ax.set_ylim([-.5,1.5])\n",
    "ax.set_facecolor('#000015')\n",
    "\n",
    "#get path\n",
    "path=np.vstack((mypath[0], mypath[1])).T\n",
    "rocketpath, = ax.plot([], [],'w', alpha=0.4)\n",
    "\n",
    "#plot rocket\n",
    "rocket, = ax.plot([], [], color=\"#5FC2D9\", label='rocket', marker='^', markersize=15)\n",
    "\n",
    "#plot stars\n",
    "starx=np.random.uniform(-1,2,size=100)\n",
    "stary=np.random.uniform(-1,2,size= 100)\n",
    "sizes=np.random.choice([.5,1,2,3,3.5], size=100)\n",
    "ax.scatter(starx, stary, s=sizes, color='white')\n",
    "\n",
    "#asteroid dots\n",
    "asteroid1 = mpimg.imread(\"meteoroid.png\")\n",
    "r = .07\n",
    "ax.imshow(asteroid1, extent=[c1[0]-r, c1[0]+r, c1[1]-r, c1[1]+r])\n",
    "ax.imshow(asteroid1, extent=[c2[0]-r, c2[0]+r, c2[1]-r, c2[1]+r])\n",
    "ax.imshow(asteroid1, extent=[c3[0]-r, c3[0]+r, c3[1]-r, c3[1]+r])\n",
    "ax.imshow(asteroid1, extent=[c4[0]-r, c4[0]+r, c4[1]-r, c4[1]+r])\n",
    "ax.imshow(asteroid1, extent=[c5[0]-r, c5[0]+r, c5[1]-r, c5[1]+r])\n",
    "\n",
    "#set space station\n",
    "space_station = mpimg.imread(\"space-station.png\")\n",
    "ax.imshow(space_station, extent=[.9,1.1,.9,1.1])\n",
    "\n",
    "#set title\n",
    "ax.set_title(\"Example of Poor Choice of Weights\")\n",
    "ax.set_facecolor('#000015')\n",
    "\n",
    "#set the dimesions of the spaceship\n",
    "xmin, xmax = sol.y[0][0]-ROCKET_SIZE, sol.y[0][0]+ROCKET_SIZE\n",
    "ymin, ymax = sol.y[1][0]-ROCKET_SIZE, sol.y[1][0]+ROCKET_SIZE\n",
    "img = mpimg.imread(filepath)\n",
    "\n",
    "# plot the trajectory\n",
    "line, = plt.gca().plot([], [], \"--\", linewidth=3,)\n",
    "\n",
    "# Plot initial position of the rocket\n",
    "rocket = plt.imshow(img, extent=[xmin,xmax,ymin,ymax], aspect='auto', zorder=2)\n",
    "ax.set_facecolor('#000015')\n",
    "def update(t):\n",
    "    if t<tail_length:\n",
    "        s=0\n",
    "        p=t\n",
    "    elif t>path_length-1:\n",
    "        p=path_length-1\n",
    "        s=t-tail_length\n",
    "    else:\n",
    "        s=t-tail_length\n",
    "        p=t\n",
    "\n",
    "    #update path\n",
    "    rocketpath.set_data(path[s:p,0],path[s:p,1])\n",
    "    \n",
    "    #update rocket\n",
    "    rocket.set_data(rotate_rocket(sol.y[2][t],sol.y[3][t]))\n",
    "    rocket.set_extent([sol.y[0][t] - ROCKET_SIZE, sol.y[0][t] + ROCKET_SIZE, sol.y[1][t] - ROCKET_SIZE, sol.y[1][t] + ROCKET_SIZE])\n",
    "    \n",
    "#save and show\n",
    "ani = FuncAnimation(fig, update, frames=ts[:19000][::100], interval=10)\n",
    "ani.save('worst_example.mp4')"
   ]
  },
  {
   "cell_type": "markdown",
   "metadata": {},
   "source": [
    "This compiles the animation."
   ]
  },
  {
   "cell_type": "markdown",
   "metadata": {},
   "source": [
    "<video src=\"worst_example.mp4\" controls>"
   ]
  },
  {
   "cell_type": "markdown",
   "metadata": {},
   "source": [
    "### Model 6"
   ]
  },
  {
   "cell_type": "code",
   "execution_count": 56,
   "metadata": {},
   "outputs": [
    {
     "data": {
      "image/png": "[encoded data removed]",
      "text/plain": [
       "<Figure size 300x300 with 1 Axes>"
      ]
     },
     "metadata": {},
     "output_type": "display_data"
    }
   ],
   "source": [
    "#set initial conditions\n",
    "t0 = 0\n",
    "tf = 1\n",
    "W = 10000\n",
    "r = (.005,.005)\n",
    "c1 = (.2,.8)\n",
    "c2 = (.2,.15)\n",
    "c3 = (.8,.8)\n",
    "c4 = (.8,.15)\n",
    "c5 = (.4,.6)\n",
    "c6 = (.6,.4)\n",
    "c7 = (.2,.475)\n",
    "c8 = (.8,.475)\n",
    "\n",
    "def ode(t, y_val): #define the ode system\n",
    "    x, y, xp, yp, p0, p1, p2, p3 = y_val\n",
    "    #set the new p0 and p1\n",
    "    new_p0 = obstacle_dx(x,y,W,r,c4) + obstacle_dx(x,y,W,r,c2) + obstacle_dx(x,y,W,r,c3) + obstacle_dx(x,y,W,r,c1) + obstacle_dx(x,y,W,r,c5)+obstacle_dx(x,y,W,r,c6)\n",
    "    new_p1 =  obstacle_dy(x,y,W,r,c4) + obstacle_dy(x,y,W,r,c2) + obstacle_dy(x,y,W,r,c3) + obstacle_dy(x,y,W,r,c1) + obstacle_dy(x,y,W,r,c5)+obstacle_dy(x,y,W,r,c6)\n",
    "    return np.array([xp, yp, p2, p3, new_p0, new_p1, -p0, -p1])\n",
    "\n",
    "def bc(ya,yb):\n",
    "# ya are the initial values\n",
    "# yb are the final values\n",
    "    return np.array([ya[0],ya[1],ya[2],ya[3]-2,yb[0]-1,yb[1]-1,yb[2],yb[3]])\n",
    "\n",
    "\n",
    "t_steps = 200 #set the time steps and linspaces\n",
    "t = np.linspace(t0,tf,t_steps)\n",
    "x = np.linspace(0,1,t_steps)\n",
    "y = np.linspace(0,1,t_steps)\n",
    "X,Y = np.meshgrid(x,y)\n",
    "\n",
    "# set all the asteroids\n",
    "Z1 = obstacle(X,Y,W,r,c1) \n",
    "Z2 = obstacle(X,Y,W,r,c2) \n",
    "Z3 = obstacle(X,Y,W,r,c3)\n",
    "Z4 = obstacle(X,Y,W,r,c4)\n",
    "Z5 = obstacle(X,Y,W,r,c5)\n",
    "Z6 = obstacle(X,Y,W,r,c6)\n",
    "Z7 = obstacle(X,Y,W,r,c7)\n",
    "Z8 = obstacle(X,Y,W,r,c8)\n",
    "\n",
    "#set the initial guess\n",
    "y0 = np.ones((8,t_steps))*1\n",
    "\n",
    "# Solve the system.\n",
    "sol = solve_bvp(ode, bc, t, y0,max_nodes=30000)\n",
    "\n",
    "#plot the solutions and label everything\n",
    "fig = plt.figure()\n",
    "fig.set_facecolor('#000015')\n",
    "fig.set_size_inches(3,3)\n",
    "ax = fig.add_subplot(111)\n",
    "\n",
    "#set limits\n",
    "ax.set_xlim([-.5,1.5])\n",
    "ax.set_ylim([-.5,1.5])\n",
    "ax.set_facecolor('#000015')\n",
    "\n",
    "#plot stars\n",
    "starx=np.random.uniform(-1,2,size=100)\n",
    "stary=np.random.uniform(-1,2,size= 100)\n",
    "sizes=np.random.choice([.5,1,2,3,3.5], size=100)\n",
    "ax.scatter(starx, stary, s=sizes, color='white')\n",
    "\n",
    "#asteroid dots\n",
    "asteroid1 = mpimg.imread(\"meteoroid.png\")\n",
    "r = .07\n",
    "ax.imshow(asteroid1, extent=[c1[0]-r, c1[0]+r, c1[1]-r, c1[1]+r])\n",
    "ax.imshow(asteroid1, extent=[c2[0]-r, c2[0]+r, c2[1]-r, c2[1]+r])\n",
    "ax.imshow(asteroid1, extent=[c3[0]-r, c3[0]+r, c3[1]-r, c3[1]+r])\n",
    "ax.imshow(asteroid1, extent=[c4[0]-r, c4[0]+r, c4[1]-r, c4[1]+r])\n",
    "ax.imshow(asteroid1, extent=[c5[0]-r, c5[0]+r, c5[1]-r, c5[1]+r])\n",
    "ax.imshow(asteroid1, extent=[c6[0]-r, c6[0]+r, c6[1]-r, c6[1]+r])\n",
    "ax.imshow(asteroid1, extent=[c7[0]-r, c7[0]+r, c7[1]-r, c7[1]+r])\n",
    "ax.imshow(asteroid1, extent=[c8[0]-r, c8[0]+r, c8[1]-r, c8[1]+r])\n",
    "\n",
    "#plot the space stations\n",
    "space_station = mpimg.imread(\"space-station.png\")\n",
    "ax.imshow(space_station, extent=[.9,1.1,.9,1.1])\n",
    "\n",
    "#set the dimensions for the rocket\n",
    "ROCKET_SIZE = .14\n",
    "xmin, xmax = sol.y[0][0]-ROCKET_SIZE, sol.y[0][0]+ROCKET_SIZE\n",
    "ymin, ymax = sol.y[1][0]-ROCKET_SIZE, sol.y[1][0]+ROCKET_SIZE\n",
    "img = mpimg.imread(filepath)\n",
    "\n",
    "# Plot initial position of the rocket\n",
    "ax.imshow(img, extent=[xmin,xmax,ymin,ymax], aspect='auto', zorder=2)\n",
    "\n",
    "ax.plot(sol.y[0], sol.y[1],'darkgray')\n",
    "ax.axis('off')\n",
    "title_obj = plt.title('8 Asteroids')\n",
    "plt.setp(title_obj, color='w')\n",
    "plt.show()"
   ]
  },
  {
   "cell_type": "markdown",
   "metadata": {},
   "source": [
    "This finds the solution to the boundary problem."
   ]
  },
  {
   "cell_type": "code",
   "execution_count": 16,
   "metadata": {},
   "outputs": [],
   "source": [
    "mypath = sol.y\n",
    "plt.ioff()\n",
    "\n",
    "#get data\n",
    "path_length=len(mypath[1])\n",
    "tail_length=50\n",
    "ts = range(path_length+50)\n",
    "fig = plt.figure()\n",
    "fig.set_facecolor('#000015')\n",
    "fig.set_size_inches(3, 3)\n",
    "ax = fig.add_subplot(111)\n",
    "\n",
    "#set limits\n",
    "ax.set_xlim([-.5,1.5])\n",
    "ax.set_ylim([-.5,1.5])\n",
    "ax.set_facecolor('#000015')\n",
    "\n",
    "#get path\n",
    "path=np.vstack((mypath[0], mypath[1])).T\n",
    "rocketpath, = ax.plot([], [],'w', alpha=0.4)\n",
    "\n",
    "#plot rocket\n",
    "rocket, = ax.plot([], [], color=\"#5FC2D9\", label='rocket', marker='^', markersize=15)\n",
    "# ax.legend(prop={'family': 'Arial'})\n",
    "\n",
    "#plot stars\n",
    "starx=np.random.uniform(-1,2,size=100)\n",
    "stary=np.random.uniform(-1,2,size= 100)\n",
    "sizes=np.random.choice([.5,1,2,3,3.5], size=100)\n",
    "ax.scatter(starx, stary, s=sizes, color='white')\n",
    "\n",
    "#asteroid dots\n",
    "asteroid1 = mpimg.imread(\"meteoroid.png\")\n",
    "r = .07\n",
    "ax.imshow(asteroid1, extent=[c1[0]-r, c1[0]+r, c1[1]-r, c1[1]+r])\n",
    "ax.imshow(asteroid1, extent=[c2[0]-r, c2[0]+r, c2[1]-r, c2[1]+r])\n",
    "ax.imshow(asteroid1, extent=[c3[0]-r, c3[0]+r, c3[1]-r, c3[1]+r])\n",
    "ax.imshow(asteroid1, extent=[c4[0]-r, c4[0]+r, c4[1]-r, c4[1]+r])\n",
    "ax.imshow(asteroid1, extent=[c5[0]-r, c5[0]+r, c5[1]-r, c5[1]+r])\n",
    "ax.imshow(asteroid1, extent=[c6[0]-r, c6[0]+r, c6[1]-r, c6[1]+r])\n",
    "ax.imshow(asteroid1, extent=[c7[0]-r, c7[0]+r, c7[1]-r, c7[1]+r])\n",
    "ax.imshow(asteroid1, extent=[c8[0]-r, c8[0]+r, c8[1]-r, c8[1]+r])\n",
    "\n",
    "#set space station\n",
    "space_station = mpimg.imread(\"space-station.png\")\n",
    "ax.imshow(space_station, extent=[.9,1.1,.9,1.1])\n",
    "\n",
    "#set dimensions of the rocket\n",
    "xmin, xmax = sol.y[0][0]-ROCKET_SIZE, sol.y[0][0]+ROCKET_SIZE\n",
    "ymin, ymax = sol.y[1][0]-ROCKET_SIZE, sol.y[1][0]+ROCKET_SIZE\n",
    "img = mpimg.imread(filepath)\n",
    "\n",
    "# plot the trajectory\n",
    "line, = plt.gca().plot([], [], \"--\", linewidth=3,)\n",
    "\n",
    "# Plot initial position of the rocket\n",
    "rocket = plt.imshow(img, extent=[xmin,xmax,ymin,ymax], aspect='auto', zorder=2)\n",
    "\n",
    "def update(t):\n",
    "    if t<tail_length:\n",
    "        s=0\n",
    "        p=t\n",
    "    elif t>path_length-1:\n",
    "        p=path_length-1\n",
    "        s=t-tail_length\n",
    "    else:\n",
    "        s=t-tail_length\n",
    "        p=t\n",
    "    #update path\n",
    "    rocketpath.set_data(path[s:p,0],path[s:p,1])\n",
    "    #update rocket\n",
    "    rocket.set_data(rotate_rocket(sol.y[2][t],sol.y[3][t]))\n",
    "    rocket.set_extent([sol.y[0][t] - ROCKET_SIZE, sol.y[0][t] + ROCKET_SIZE, sol.y[1][t] - ROCKET_SIZE, sol.y[1][t] + ROCKET_SIZE])\n",
    "\n",
    "#save and show\n",
    "ani = FuncAnimation(fig, update, frames=ts[:1320][::10], interval=10)\n",
    "ani.save('many_asteroids.mp4')"
   ]
  },
  {
   "cell_type": "markdown",
   "metadata": {},
   "source": [
    "Our next case extends the five asteroid example by creating a very narrow path through the obstalces. With eight asteroids, the rocket carefully navigates through a successful path. It is successful in doing so and then returns to the space station. "
   ]
  },
  {
   "cell_type": "markdown",
   "metadata": {},
   "source": [
    "<video src=\"many_asteroids.mp4\" controls>"
   ]
  },
  {
   "cell_type": "markdown",
   "metadata": {},
   "source": [
    "### Model 8"
   ]
  },
  {
   "cell_type": "markdown",
   "metadata": {},
   "source": [
    "We will now showcase a model with a moving asteroid."
   ]
  },
  {
   "cell_type": "code",
   "execution_count": 57,
   "metadata": {},
   "outputs": [
    {
     "data": {
      "image/png": "[encoded data removed]",
      "text/plain": [
       "<Figure size 300x300 with 1 Axes>"
      ]
     },
     "metadata": {},
     "output_type": "display_data"
    }
   ],
   "source": [
    "#initialize everything\n",
    "t0 = 0\n",
    "tf = 1\n",
    "W = 10\n",
    "r = (.005,.005)\n",
    "\n",
    "def ode(t, y_val): #define the ode system\n",
    "    x, y, xp, yp, p0, p1, p2, p3 = y_val\n",
    "    #set the new p0 and p1\n",
    "    new_p0 = new_obstacle_dx(x,y,t,-.01,-.01,W,r)\n",
    "    new_p1 =  new_obstacle_dy(x,y,t,-.01,-.01,W,r)\n",
    "    return np.array([xp, yp, p2, p3, new_p0,new_p1, -p0, -p1])\n",
    "\n",
    "def bc(ya,yb):\n",
    "    # ya are the initial values\n",
    "    # yb are the final values\n",
    "    return np.array([ya[0],ya[1],ya[2],ya[3]-3,yb[0]-1,yb[1]-1,yb[2],yb[3]])\n",
    "\n",
    "\n",
    "t_steps = 200 #set the time steps and linspaces\n",
    "t = np.linspace(t0,tf,t_steps)\n",
    "x = np.linspace(0,1,t_steps)\n",
    "y = np.linspace(0,1,t_steps)\n",
    "X,Y = np.meshgrid(x,y)\n",
    "\n",
    "#find the asteroid\n",
    "Z = obstacle(X,Y,W,r) \n",
    "\n",
    "#set the initial guess\n",
    "y0 = np.ones((8,t_steps))*3\n",
    "\n",
    "# Solve the system.\n",
    "sol = solve_bvp(ode, bc, t, y0,max_nodes=30000)\n",
    "\n",
    "#plot the solutions and label everything\n",
    "fig = plt.figure()\n",
    "fig.set_facecolor('#000015')\n",
    "fig.set_size_inches(3,3)\n",
    "ax = fig.add_subplot(111)\n",
    "\n",
    "#set limits\n",
    "ax.set_xlim([-.5,1.5])\n",
    "ax.set_ylim([-.5,1.5])\n",
    "ax.set_facecolor('#000015')\n",
    "\n",
    "#plot stars\n",
    "starx=np.random.uniform(-1,2,size=100)\n",
    "stary=np.random.uniform(-1,2,size= 100)\n",
    "sizes=np.random.choice([.5,1,2,3,3.5], size=100)\n",
    "ax.scatter(starx, stary, s=sizes, color='white')\n",
    "\n",
    "#asteroid dots\n",
    "asteroid1 = mpimg.imread(\"meteoroid.png\")\n",
    "c = [1/2,1/2]\n",
    "r = .2\n",
    "ax.imshow(asteroid1, extent=[c[0]-r, c[0]+r, c[1]-r, c[1]+r])\n",
    "\n",
    "#plot the space stations\n",
    "space_station = mpimg.imread(\"space-station.png\")\n",
    "ax.imshow(space_station, extent=[.9,1.1,.9,1.1])\n",
    "\n",
    "#set the dimensions for the rocket\n",
    "ROCKET_SIZE = .14\n",
    "xmin, xmax = sol.y[0][0]-ROCKET_SIZE, sol.y[0][0]+ROCKET_SIZE\n",
    "ymin, ymax = sol.y[1][0]-ROCKET_SIZE, sol.y[1][0]+ROCKET_SIZE\n",
    "img = mpimg.imread(filepath)\n",
    "\n",
    "# Plot initial position of the rocket\n",
    "ax.imshow(img, extent=[xmin,xmax,ymin,ymax], aspect='auto', zorder=2)\n",
    "\n",
    "ax.plot(sol.y[0], sol.y[1],'darkgray')\n",
    "ax.axis('off')\n",
    "title_obj = plt.title('Moving Asteroid')\n",
    "plt.setp(title_obj, color='w')\n",
    "plt.show()\n"
   ]
  },
  {
   "cell_type": "markdown",
   "metadata": {},
   "source": [
    "This finds the solution to the boundary problem."
   ]
  },
  {
   "cell_type": "code",
   "execution_count": 49,
   "metadata": {},
   "outputs": [],
   "source": [
    "plt.ioff()\n",
    "\n",
    "#get data\n",
    "path_length=len(sol.y[1])\n",
    "ts = range(path_length+50)\n",
    "fig = plt.figure()\n",
    "fig.set_facecolor('#000015')\n",
    "fig.set_size_inches(3,3)\n",
    "ax = fig.add_subplot(111)\n",
    "\n",
    "#set limits\n",
    "ax.set_xlim([-.5,1.5])\n",
    "ax.set_ylim([-.5,1.5])\n",
    "ax.set_facecolor('#000015')\n",
    "\n",
    "path=np.vstack((sol.y[0], sol.y[1])).T\n",
    "rocketpath, = ax.plot([], [],'w', alpha=0.4)\n",
    "\n",
    "#plot rocket\n",
    "rocket, = ax.plot([], [], color=\"#5FC2D9\", label='rocket', marker='^', markersize=15)\n",
    "\n",
    "#plot stars\n",
    "starx=np.random.uniform(-1,2,size=100)\n",
    "stary=np.random.uniform(-1,2,size= 100)\n",
    "sizes=np.random.choice([.5,1,2,3,3.5], size=100)\n",
    "ax.scatter(starx, stary, s=sizes, color='white')\n",
    "\n",
    "#asteroid dots\n",
    "asteroid1 = mpimg.imread(\"meteoroid.png\")\n",
    "asteroid, = ax.plot([], [], color=\"#5FC2D9\", label='asteroid', marker='^', markersize=15)\n",
    "c = [1/2,1/2]\n",
    "r = .2\n",
    "\n",
    "#plot the space stations\n",
    "space_station = mpimg.imread(\"space-station.png\")\n",
    "ax.imshow(space_station, extent=[.9,1.1,.9,1.1])\n",
    "\n",
    "#set the dimensions for the rocket\n",
    "xmin, xmax = sol.y[0][0]-ROCKET_SIZE, sol.y[0][0]+ROCKET_SIZE\n",
    "ymin, ymax = sol.y[1][0]-ROCKET_SIZE, sol.y[1][0]+ROCKET_SIZE\n",
    "img = mpimg.imread(filepath)\n",
    "\n",
    "# plot the trajectory\n",
    "line, = plt.gca().plot([], [], \"--\", linewidth=3,)\n",
    "\n",
    "# Plot initial position of the rocket\n",
    "rocket = plt.imshow(img, extent=[xmin,xmax,ymin,ymax], aspect='auto', zorder=2)\n",
    "asteroid = ax.imshow(asteroid1, extent=[c[0]-r, c[0]+r, c[1]-r, c[1]+r],aspect='auto', zorder=2)\n",
    "W = 10\n",
    "r = (.005,.005)\n",
    "\n",
    "def update(t):\n",
    "    if t<50:\n",
    "        s=0\n",
    "        p=t\n",
    "    elif t>path_length-1:\n",
    "        p=path_length-1\n",
    "        s=t-50\n",
    "    else:\n",
    "        s=t-50\n",
    "        p=t\n",
    "\n",
    "    #update path\n",
    "    rocketpath.set_data(path[s:p,0],path[s:p,1])\n",
    "    \n",
    "    #update rocket\n",
    "    rocket.set_data(rotate_rocket(sol.y[2][t],sol.y[3][t]))\n",
    "    rocket.set_extent([sol.y[0][t] - ROCKET_SIZE, sol.y[0][t] + ROCKET_SIZE, sol.y[1][t] - ROCKET_SIZE, sol.y[1][t] + ROCKET_SIZE])\n",
    "    x,y = sol.y[0][t], sol.y[1][t]\n",
    "    newx,newy = new_obstaclexy(x,y,t,-.01,-.01,W,r)\n",
    "    asteroid.set_extent([newx - ROCKET_SIZE, newx + ROCKET_SIZE, newy - ROCKET_SIZE, newy + ROCKET_SIZE])\n",
    "    \n",
    "#save and show\n",
    "ani = FuncAnimation(fig, update, frames=ts[:200][::2], interval=20)\n",
    "ani.save('rocketmoving.mp4')"
   ]
  },
  {
   "cell_type": "markdown",
   "metadata": {},
   "source": [
    "Here we allow the asteroid to be in motion. We set up the problem in a similar way, but allowed the center of the asteroid to change at each time step. This was slightly more difficult to animate, but our control was still successful in avoiding the obstacle. "
   ]
  },
  {
   "cell_type": "markdown",
   "metadata": {},
   "source": [
    "<video src=\"rocketmoving.mp4\" controls>"
   ]
  },
  {
   "cell_type": "markdown",
   "metadata": {},
   "source": [
    "# 3D Model"
   ]
  },
  {
   "cell_type": "markdown",
   "metadata": {},
   "source": [
    "We were able to increase the dimensionality of our model, to include position, velocity and a control acceleration in a third dimension."
   ]
  },
  {
   "cell_type": "code",
   "execution_count": 12,
   "metadata": {},
   "outputs": [],
   "source": [
    "def obstacle3d(x,y,z, W=1,r=(.2,.2,.2),c=(.5,.5,.5)):\n",
    "    '''\n",
    "    Define an area that will represent an asteroid\n",
    "    \n",
    "    Parameters:\n",
    "        x (float): x position in space\n",
    "        y (float): y position in space\n",
    "        z (float): y position in space\n",
    "        W (float): weight of asteroid\n",
    "        r (tuple): radius in x,y and z direction\n",
    "        c (tuple): center of the ellipsoid\n",
    "    '''\n",
    "    \n",
    "    ellipsoid = ((x - c[0])**2/r[0] + (y - c[1])**2/r[1] + (z - c[2])**2/r[2])**20 + 1\n",
    "    return W / ellipsoid\n",
    "\n",
    "def obstacle_dx_3d(x,y,z, W=1,r=(1/5,1/5,1/5),c=(1/2,1/2,1/2)):\n",
    "    '''\n",
    "    x derivative of the asteroid\n",
    "\n",
    "    Parameters:\n",
    "        x (float): x position in space\n",
    "        y (float): y position in space\n",
    "        z (float): y position in space\n",
    "        W (float): weight of asteroid\n",
    "        r (tuple): radius in x,y and z direction\n",
    "        c (tuple): center of the ellipsoid\n",
    "    '''\n",
    "    sphere = (x - c[0])**2/r[0] + (y - c[1])**2/r[1] + (z - c[2])**2/r[2]\n",
    "    numer = -40*W*(sphere)**19 * (x-c[0])\n",
    "    denom = r[0]*((sphere)**20 + 1)**2\n",
    "    return numer / denom\n",
    "\n",
    "def obstacle_dy_3d(x,y,z,W=1,r=(.2,.2,.2),c=(.5,.5,.5)):\n",
    "    '''\n",
    "    y derivative of the asteroid\n",
    "\n",
    "    Parameters:\n",
    "        x (float): x position in space\n",
    "        y (float): y position in space\n",
    "        z (float): y position in space\n",
    "        W (float): weight of asteroid\n",
    "        r (tuple): radius in x,y and z direction\n",
    "        c (tuple): center of the ellipsoid\n",
    "    '''\n",
    "    sphere = (x - c[0])**2/r[0] + (y - c[1])**2/r[1] + (z - c[2])**2/r[2]\n",
    "    numer = -40*W*(sphere)**19 * (y-c[1])\n",
    "    denom = r[1]*((sphere)**20 + 1)**2\n",
    "    return numer / denom\n",
    "\n",
    "def obstacle_dz_3d(x,y,z,W = 1, r= (1/5,1/5,1/5), c = (1/2,1/2,1/2)):\n",
    "    '''\n",
    "    z derivative of the asteroid\n",
    "\n",
    "    Parameters:\n",
    "        x (float): x position in space\n",
    "        y (float): y position in space\n",
    "        z (float): y position in space\n",
    "        W (float): weight of asteroid\n",
    "        r (tuple): radius in x, y and z direction\n",
    "        c (tuple): center of the ellipsoid\n",
    "    '''\n",
    "    sphere = (x - c[0])**2/r[0] + (y - c[1])**2/r[1] + (z - c[2])**2/r[2]\n",
    "    numer = -40*W*(sphere)**19 * (z-c[2])\n",
    "    denom = r[2]*((sphere)**20 + 1)**2\n",
    "    \n",
    "    return numer/denom"
   ]
  },
  {
   "cell_type": "markdown",
   "metadata": {},
   "source": [
    "The above code defines the obstacle for our new model."
   ]
  },
  {
   "cell_type": "code",
   "execution_count": 13,
   "metadata": {},
   "outputs": [],
   "source": [
    "def rocket_trajectory(t, y_val):\n",
    "    \"\"\"Define the path of the rocket using the evolution equations \n",
    "    for the state x and costate p\"\"\"\n",
    "    \n",
    "    x,y,z,xp,yp,zp,p0,p1,p2,p3,p4,p5 = y_val\n",
    "    \n",
    "    #define the costate equations for p3,p4 and p5\n",
    "    new_p0 = obstacle_dx_3d(x,y,z,W)\n",
    "    new_p1 =  obstacle_dy_3d(x,y,z,W)\n",
    "    new_p2 = obstacle_dx_3d(x,y,z,W)\n",
    "    \n",
    "    #return the updated state at time t\n",
    "    return np.array([xp, yp, zp, p3, p4,p5, new_p0,new_p1,new_p2, -p0, -p1,-p2])"
   ]
  },
  {
   "cell_type": "markdown",
   "metadata": {},
   "source": [
    "The above code is used to find the trajectory of the rocket."
   ]
  },
  {
   "cell_type": "code",
   "execution_count": 14,
   "metadata": {},
   "outputs": [],
   "source": [
    "def bc_3d(ya,yb):\n",
    "    \"\"\"Define the boundary conditions of the rocket with a fixed intial time\"\"\"\n",
    "    return np.array([ya[0],ya[1],ya[2],ya[3],ya[4]-3,ya[5]-3,yb[0]-1,yb[1]-1,yb[2]-1,yb[3],yb[4],yb[5]])"
   ]
  },
  {
   "cell_type": "markdown",
   "metadata": {},
   "source": [
    "The above code defines the boundary conditions."
   ]
  },
  {
   "cell_type": "markdown",
   "metadata": {},
   "source": [
    "We will now solve for the optimal path and show different views of what that path looks like."
   ]
  },
  {
   "cell_type": "code",
   "execution_count": 15,
   "metadata": {},
   "outputs": [],
   "source": [
    "#set initial and final time\n",
    "t0 = 0\n",
    "tf = 1\n",
    "\n",
    "#define the weight of the asteroid\n",
    "W = 150\n",
    "\n",
    "#set the number of time steps\n",
    "t_steps = 100\n",
    "t = np.linspace(t0,tf,t_steps)\n",
    "\n",
    "#create a grid for position in the x,y and z direction\n",
    "x = np.linspace(0,1,t_steps)\n",
    "y = np.linspace(0,1,t_steps)\n",
    "z = np.linspace(0,1,t_steps)\n",
    "X, Y, Z = np.meshgrid(x, y, z, indexing='ij')\n",
    "\n",
    "#find the values of the obstacle\n",
    "values = obstacle3d(X, Y, Z)\n",
    "#create a mask to define the boundary of the obstacle\n",
    "mask = values > 0.9 * np.max(values)"
   ]
  },
  {
   "cell_type": "code",
   "execution_count": 16,
   "metadata": {},
   "outputs": [
    {
     "data": {
      "image/png": "[encoded data removed]",
      "text/plain": [
       "<Figure size 640x480 with 1 Axes>"
      ]
     },
     "metadata": {},
     "output_type": "display_data"
    }
   ],
   "source": [
    "#create a 3d Figure\n",
    "fig = plt.figure()\n",
    "ax = fig.add_subplot(111, projection='3d')\n",
    "\n",
    "#plot the points of the asteroid\n",
    "ax.scatter(X[mask],Y[mask],Z[mask], c = 'burlywood', alpha=0.5, label = 'asteroid')\n",
    "\n",
    "#define your initial guess\n",
    "y0 = np.ones((12,t_steps))*3\n",
    "\n",
    "# Solve the system.\n",
    "sol = solve_bvp(rocket_trajectory,bc_3d, t, y0, max_nodes=30000)\n",
    "\n",
    "#plot the optimal trajectory of the rocket\n",
    "ax.plot(sol.y[0],sol.y[1],sol.y[2], color = 'blue', label = 'optimal trajectory')\n",
    "ax.scatter(0,0,0,color = 'red', label = 'rocket')\n",
    "ax.scatter(1,1,1, color = 'gray', label = 'space station')\n",
    "\n",
    "#look straight down at the asteroid\n",
    "ax.view_init(elev=90, azim=0) \n",
    "ax.set_xlabel('X')\n",
    "ax.set_ylabel('Y')\n",
    "ax.set_zlabel('Z')\n",
    "\n",
    "ax.set_title('Top Down View of Rocket Path')\n",
    "plt.legend()\n",
    "plt.show()"
   ]
  },
  {
   "cell_type": "code",
   "execution_count": 17,
   "metadata": {},
   "outputs": [
    {
     "data": {
      "image/png": "[encoded data removed]",
      "text/plain": [
       "<Figure size 640x480 with 1 Axes>"
      ]
     },
     "metadata": {},
     "output_type": "display_data"
    }
   ],
   "source": [
    "#Create a 3d object\n",
    "fig = plt.figure()\n",
    "ax = fig.add_subplot(111, projection='3d')\n",
    "\n",
    "#set the background to be black with RBG values\n",
    "ax.xaxis.set_pane_color((0.0, 0.0, 0.0, 1.0))  \n",
    "ax.yaxis.set_pane_color((0.0, 0.0, 0.0, 1.0))  \n",
    "ax.zaxis.set_pane_color((0.0, 0.0, 0.0, 1.0)) \n",
    "\n",
    "#plot the points of the asteroid\n",
    "ax.scatter(X[mask],Y[mask],Z[mask], c = 'burlywood', alpha=0.1)\n",
    "\n",
    "\n",
    "#define the initial guess and solve the system\n",
    "y0 = np.ones((12,t_steps))*3\n",
    "sol = solve_bvp(rocket_trajectory, bc_3d, t, y0, max_nodes=30000)\n",
    "\n",
    "#plot the optimal trajectory of the rocket\n",
    "ax.plot(sol.y[0],sol.y[1],sol.y[2], color = 'blue', label = 'optimal trajectory')\n",
    "ax.scatter(0,0,0,color = 'red', label = 'rocket')\n",
    "ax.scatter(1,1,1, color = 'gray', label = 'space station')\n",
    "\n",
    "#create objects simulating stars\n",
    "starx=np.random.uniform(0,1,size=100)\n",
    "stary=np.random.uniform(0,1,size= 100)\n",
    "starz=np.random.uniform(0,1,size=100)\n",
    "sizes=np.random.choice([.5,1,2,3,3.5], size=100)\n",
    "\n",
    "#scatter the stars\n",
    "ax.scatter(starx, stary,starz, s=sizes, color='white')\n",
    "\n",
    "#remove tick marks\n",
    "ax.set_xticks([])\n",
    "ax.set_yticks([]) \n",
    "ax.set_zticks([])\n",
    "\n",
    "ax.set_title('Optimal Trajectory of Rocket')\n",
    "plt.legend()\n",
    "plt.show()"
   ]
  },
  {
   "cell_type": "markdown",
   "metadata": {},
   "source": [
    "Due to time constraints, we were not able to include an animation of our 3d rocket trajectory"
   ]
  },
  {
   "cell_type": "markdown",
   "metadata": {},
   "source": [
    "# Results/Analysis"
   ]
  },
  {
   "cell_type": "markdown",
   "metadata": {},
   "source": [
    "While doing this project we noticed some interesting things that are worth noting. First, when the weights for asteroids are high enough, our model reliable finds the 2-dimensional optimal path to the spaceship in the given amount of time while avoiding asteroids, both moving and stationary. This suggests our model was set up and implemented correctly. We also noticed that the rocket tends to slow down dramatically when it is near an asteroid. This is likely because the cost of being close to the asteroid is incredibly high, leading the model to drop acceleration dramatically to being the overall cost down. Also, in the real world this would increase control when near asteroids. When it moves away from the asteroids, it accelerates quickly and maintains what appears to be a constant velocity to avoid further acceleration and keep the cost down. This model successfully found an optimal path that accomplished avoiding obstacles, arriving at a desired destination, and minimizing the fuel consumption."
   ]
  },
  {
   "cell_type": "markdown",
   "metadata": {},
   "source": [
    "# Ethical Considerations"
   ]
  },
  {
   "cell_type": "markdown",
   "metadata": {},
   "source": [
    "This project doesn't seem to come with an abundance of issues, but there are a few things that should be considered. First, this model is by no means in a state to be applied to the real world at this time. As mentioned previously, there are vast simplifications in this model to better fit our understanding. The choice of weights can determine the success of the path and could put a real spacheship and its passengers into danger if put into practice. In addition, there is no limit set on how quickly the rocket can accelerate. This could cause serious harm to any passngers given the aggressive turns and high acceleration that is possible. It is also possible that the high acceleration is not even possible. It is important to consider and mitigate these risks before implementing this model into the real world."
   ]
  },
  {
   "cell_type": "markdown",
   "metadata": {},
   "source": [
    "# Conclusion"
   ]
  },
  {
   "cell_type": "markdown",
   "metadata": {},
   "source": [
    "Overall, we have learned a great deal about optimal control through this project. We gained a deeper understanding of how to set up such a problem and adjust it to account for new situations. There are a variety of ways to complicate this model and make it more realistic in future work. First, more robust application to the 3-dimensional world would be a good place to start. One could also make adjustments to the cost functional in order to account for a variety of things, such as limiting velocity of the spaceship, accounting for gravity, and accounting for the weight of the rocket and how that changes with fuel consumption."
   ]
  },
  {
   "cell_type": "markdown",
   "metadata": {},
   "source": [
    "# References"
   ]
  },
  {
   "cell_type": "markdown",
   "metadata": {},
   "source": [
    "[1] Johnston, Hunter. ‘The Theory of Functional Connections: A Journey from Theory to Application’. arXiv [Math.OC], 2021, http://arxiv.org/abs/2105.08034. ArXiv.\n",
    "\n",
    "\n",
    "[2] Foundations-of-Applied-Mathematics, et al. “Foundations-of-Applied-Mathematics/Labs: Labs for the Foundations of Applied Mathematics Curriculum.” GitHub, SIAM, github.com/Foundations-of-Applied-Mathematics/Labs. Accessed 8 Apr. 2024. \n",
    "\n",
    "\n",
    "[3] Hansen, Jeff"
   ]
  }
 ],
 "metadata": {
  "kernelspec": {
   "display_name": "Python 3 (ipykernel)",
   "language": "python",
   "name": "python3"
  },
  "language_info": {
   "codemirror_mode": {
    "name": "ipython",
    "version": 3
   },
   "file_extension": ".py",
   "mimetype": "text/x-python",
   "name": "python",
   "nbconvert_exporter": "python",
   "pygments_lexer": "ipython3",
   "version": "3.8.8"
  },
  "vscode": {
   "interpreter": {
    "hash": "f9667e94c5242b6e179d4931e51f0ea8382a201d07ce0883b2e989376c502410"
   }
  }
 },
 "nbformat": 4,
 "nbformat_minor": 2
}
