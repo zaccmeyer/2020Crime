{
 "cells": [
  {
   "cell_type": "markdown",
   "metadata": {},
   "source": [
    "In this notebook we will explore our intiail dataset. The dataset contains data about coral coverage in two different main locations over multiple decades."
   ]
  },
  {
   "cell_type": "code",
   "execution_count": 1,
   "metadata": {},
   "outputs": [],
   "source": [
    "import pandas as pd\n",
    "import numpy as np\n",
    "import matplotlib.pyplot as plt\n",
    "from statsmodels.tsa.statespace.kalman_filter import KalmanFilter"
   ]
  },
  {
   "cell_type": "code",
   "execution_count": 2,
   "metadata": {},
   "outputs": [],
   "source": [
    "df = pd.read_csv(\"coral_dataset.csv\") #read in the dataset"
   ]
  },
  {
   "cell_type": "code",
   "execution_count": 3,
   "metadata": {},
   "outputs": [
    {
     "data": {
      "text/html": [
       "<div>\n",
       "<style scoped>\n",
       "    .dataframe tbody tr th:only-of-type {\n",
       "        vertical-align: middle;\n",
       "    }\n",
       "\n",
       "    .dataframe tbody tr th {\n",
       "        vertical-align: top;\n",
       "    }\n",
       "\n",
       "    .dataframe thead th {\n",
       "        text-align: right;\n",
       "    }\n",
       "</style>\n",
       "<table border=\"1\" class=\"dataframe\">\n",
       "  <thead>\n",
       "    <tr style=\"text-align: right;\">\n",
       "      <th></th>\n",
       "      <th>Date</th>\n",
       "      <th>site</th>\n",
       "      <th>transect</th>\n",
       "      <th>quadrat</th>\n",
       "      <th>percentCover_allCoral</th>\n",
       "      <th>percentCover_macroalgae</th>\n",
       "      <th>percentCover_CTB</th>\n",
       "    </tr>\n",
       "  </thead>\n",
       "  <tbody>\n",
       "    <tr>\n",
       "      <th>0</th>\n",
       "      <td>1987/12/01</td>\n",
       "      <td>Tektite</td>\n",
       "      <td>1</td>\n",
       "      <td>T1Q1</td>\n",
       "      <td>16.5</td>\n",
       "      <td>3.5</td>\n",
       "      <td>6</td>\n",
       "    </tr>\n",
       "    <tr>\n",
       "      <th>1</th>\n",
       "      <td>1987/12/01</td>\n",
       "      <td>Tektite</td>\n",
       "      <td>1</td>\n",
       "      <td>T1Q2</td>\n",
       "      <td>10</td>\n",
       "      <td>6</td>\n",
       "      <td>74</td>\n",
       "    </tr>\n",
       "    <tr>\n",
       "      <th>2</th>\n",
       "      <td>1987/12/01</td>\n",
       "      <td>Tektite</td>\n",
       "      <td>1</td>\n",
       "      <td>T1Q3</td>\n",
       "      <td>13.5</td>\n",
       "      <td>3.5</td>\n",
       "      <td>45</td>\n",
       "    </tr>\n",
       "    <tr>\n",
       "      <th>3</th>\n",
       "      <td>1987/12/01</td>\n",
       "      <td>Tektite</td>\n",
       "      <td>1</td>\n",
       "      <td>T1Q4</td>\n",
       "      <td>15.5</td>\n",
       "      <td>6.5</td>\n",
       "      <td>61.5</td>\n",
       "    </tr>\n",
       "    <tr>\n",
       "      <th>4</th>\n",
       "      <td>1987/12/01</td>\n",
       "      <td>Tektite</td>\n",
       "      <td>1</td>\n",
       "      <td>T1Q5</td>\n",
       "      <td>19</td>\n",
       "      <td>4</td>\n",
       "      <td>48</td>\n",
       "    </tr>\n",
       "    <tr>\n",
       "      <th>...</th>\n",
       "      <td>...</td>\n",
       "      <td>...</td>\n",
       "      <td>...</td>\n",
       "      <td>...</td>\n",
       "      <td>...</td>\n",
       "      <td>...</td>\n",
       "      <td>...</td>\n",
       "    </tr>\n",
       "    <tr>\n",
       "      <th>2278</th>\n",
       "      <td>2021/07/01</td>\n",
       "      <td>Yawzi</td>\n",
       "      <td>nd</td>\n",
       "      <td>6</td>\n",
       "      <td>0.0</td>\n",
       "      <td>30.0</td>\n",
       "      <td>50.0</td>\n",
       "    </tr>\n",
       "    <tr>\n",
       "      <th>2279</th>\n",
       "      <td>2021/07/01</td>\n",
       "      <td>Yawzi</td>\n",
       "      <td>nd</td>\n",
       "      <td>7</td>\n",
       "      <td>0.0</td>\n",
       "      <td>28.5</td>\n",
       "      <td>45.5</td>\n",
       "    </tr>\n",
       "    <tr>\n",
       "      <th>2280</th>\n",
       "      <td>2021/07/01</td>\n",
       "      <td>Yawzi</td>\n",
       "      <td>nd</td>\n",
       "      <td>8</td>\n",
       "      <td>0.5</td>\n",
       "      <td>35.0</td>\n",
       "      <td>35.0</td>\n",
       "    </tr>\n",
       "    <tr>\n",
       "      <th>2281</th>\n",
       "      <td>2021/07/01</td>\n",
       "      <td>Yawzi</td>\n",
       "      <td>nd</td>\n",
       "      <td>9</td>\n",
       "      <td>0.5</td>\n",
       "      <td>42.0</td>\n",
       "      <td>42.5</td>\n",
       "    </tr>\n",
       "    <tr>\n",
       "      <th>2282</th>\n",
       "      <td>2021/07/01</td>\n",
       "      <td>Yawzi</td>\n",
       "      <td>nd</td>\n",
       "      <td>10</td>\n",
       "      <td>3.5</td>\n",
       "      <td>34.0</td>\n",
       "      <td>38.5</td>\n",
       "    </tr>\n",
       "  </tbody>\n",
       "</table>\n",
       "<p>2283 rows × 7 columns</p>\n",
       "</div>"
      ],
      "text/plain": [
       "            Date     site transect quadrat percentCover_allCoral  \\\n",
       "0     1987/12/01  Tektite        1    T1Q1                  16.5   \n",
       "1     1987/12/01  Tektite        1    T1Q2                    10   \n",
       "2     1987/12/01  Tektite        1    T1Q3                  13.5   \n",
       "3     1987/12/01  Tektite        1    T1Q4                  15.5   \n",
       "4     1987/12/01  Tektite        1    T1Q5                    19   \n",
       "...          ...      ...      ...     ...                   ...   \n",
       "2278  2021/07/01    Yawzi       nd       6                   0.0   \n",
       "2279  2021/07/01    Yawzi       nd       7                   0.0   \n",
       "2280  2021/07/01    Yawzi       nd       8                   0.5   \n",
       "2281  2021/07/01    Yawzi       nd       9                   0.5   \n",
       "2282  2021/07/01    Yawzi       nd      10                   3.5   \n",
       "\n",
       "     percentCover_macroalgae percentCover_CTB  \n",
       "0                        3.5                6  \n",
       "1                          6               74  \n",
       "2                        3.5               45  \n",
       "3                        6.5             61.5  \n",
       "4                          4               48  \n",
       "...                      ...              ...  \n",
       "2278                    30.0             50.0  \n",
       "2279                    28.5             45.5  \n",
       "2280                    35.0             35.0  \n",
       "2281                    42.0             42.5  \n",
       "2282                    34.0             38.5  \n",
       "\n",
       "[2283 rows x 7 columns]"
      ]
     },
     "execution_count": 3,
     "metadata": {},
     "output_type": "execute_result"
    }
   ],
   "source": [
    "df #print and look at the data set "
   ]
  },
  {
   "cell_type": "code",
   "execution_count": 6,
   "metadata": {},
   "outputs": [
    {
     "name": "stdout",
     "output_type": "stream",
     "text": [
      "2264\n"
     ]
    }
   ],
   "source": [
    "df = df[df['percentCover_CTB'] != 'nd'] #drop all of the rows with these entries and then print out the amount of rows in our dataset\n",
    "df = df[df['percentCover_macroalgae'] != 'nd']\n",
    "df = df[df['percentCover_allCoral'] != 'nd']\n",
    "print(len(df))"
   ]
  },
  {
   "cell_type": "code",
   "execution_count": 7,
   "metadata": {},
   "outputs": [],
   "source": [
    "columns_to_cast = ['percentCover_CTB', 'percentCover_macroalgae', 'percentCover_allCoral'] #get a list of the columns that we want to cast\n",
    "df[columns_to_cast] = df[columns_to_cast].astype(float) #cast these columns as floats and divide by 100 to make the percents \n",
    "df[columns_to_cast] = df[columns_to_cast]/100\n",
    "df['percentCover_other'] = 1 - (df['percentCover_CTB']+df['percentCover_macroalgae']) #add in another column for other types of coral"
   ]
  },
  {
   "cell_type": "code",
   "execution_count": 9,
   "metadata": {},
   "outputs": [],
   "source": [
    "# convert the date column to date time objects\n",
    "df.index = pd.to_datetime(df.index)"
   ]
  },
  {
   "cell_type": "code",
   "execution_count": 11,
   "metadata": {},
   "outputs": [],
   "source": [
    "import numpy as np\n",
    "import matplotlib.pyplot as plt\n",
    "from scipy.linalg import inv, norm"
   ]
  },
  {
   "cell_type": "code",
   "execution_count": 26,
   "metadata": {},
   "outputs": [],
   "source": [
    "df = pd.read_csv(\"coral_dataset.csv\", index_col = \"Date\") #read in the dataset \n",
    "df = df[df['percentCover_CTB'] != 'nd'] #drop all of the rows with these entries and then print out the amount of rows in our dataset\n",
    "df = df[df['percentCover_macroalgae'] != 'nd']\n",
    "df = df[df['percentCover_allCoral'] != 'nd']\n",
    "columns_to_cast = ['percentCover_CTB', 'percentCover_macroalgae', 'percentCover_allCoral'] #get a list of the columns that we want to cast\n",
    "df[columns_to_cast] = df[columns_to_cast].astype(float) #cast these columns as floats and divide by 100 to make the percents \n",
    "df[columns_to_cast] = df[columns_to_cast]/100\n",
    "df['percentCover_other'] = 1 - (df['percentCover_CTB']+df['percentCover_macroalgae']) #add in another column for other types of coral\n",
    "df.index = pd.to_datetime(df.index)\n",
    "df['year_column'] = df.index.year\n",
    "\n",
    "df_tektite = df[df['site']=='Tektite']\n",
    "avg_percent_cover_allcoral_tektite = df_tektite.groupby('year_column')['percentCover_allCoral'].mean()\n",
    "\n",
    "tek = np.diff(avg_percent_cover_allcoral_tektite)"
   ]
  },
  {
   "cell_type": "code",
   "execution_count": 27,
   "metadata": {},
   "outputs": [],
   "source": [
    "df = pd.read_csv(\"coral_dataset.csv\", index_col = \"Date\") #read in the dataset \n",
    "df = df[df['percentCover_CTB'] != 'nd'] #drop all of the rows with these entries and then print out the amount of rows in our dataset\n",
    "df = df[df['percentCover_macroalgae'] != 'nd']\n",
    "df = df[df['percentCover_allCoral'] != 'nd']\n",
    "columns_to_cast = ['percentCover_CTB', 'percentCover_macroalgae', 'percentCover_allCoral'] #get a list of the columns that we want to cast\n",
    "df[columns_to_cast] = df[columns_to_cast].astype(float) #cast these columns as floats and divide by 100 to make the percents \n",
    "df[columns_to_cast] = df[columns_to_cast]/100\n",
    "df['percentCover_other'] = 1 - (df['percentCover_CTB']+df['percentCover_macroalgae']) #add in another column for other types of coral\n",
    "df.index = pd.to_datetime(df.index)\n",
    "df['year_column'] = df.index.year\n",
    "\n",
    "df_tektite = df[df['site']=='Yawzi']\n",
    "avg_percent_cover_allcoral_yawzi = df_tektite.groupby('year_column')['percentCover_allCoral'].mean()\n",
    "\n",
    "yaw = np.diff(avg_percent_cover_allcoral_tektite)"
   ]
  },
  {
   "cell_type": "code",
   "execution_count": 66,
   "metadata": {},
   "outputs": [],
   "source": [
    "\n",
    "class KalmanFilter(object):\n",
    "    def __init__(self,F,Q,H,R,u):\n",
    "        \"\"\"\n",
    "        Initialize the dynamical system models.\n",
    "        \n",
    "        Parameters\n",
    "        ----------\n",
    "        F : ndarray of shape (n,n)\n",
    "            The state transition model.\n",
    "        Q : ndarray of shape (n,n)\n",
    "            The covariance matrix for the state noise.\n",
    "        H : ndarray of shape (m,n)\n",
    "            The observation model.\n",
    "        R : ndarray of shape (m,m)\n",
    "            The covariance matrix for observation noise.\n",
    "        u : ndarray of shape (n,)\n",
    "            The control vector.\n",
    "        \"\"\"\n",
    "        #save attributes\n",
    "        self.F=F\n",
    "        self.Q=Q\n",
    "        self.H=H\n",
    "        self.R=R\n",
    "        self.u=u\n",
    "    \n",
    "    def evolve(self,x0,N):\n",
    "        \"\"\"\n",
    "        Compute the first N states and observations generated by the Kalman system.\n",
    "\n",
    "        Parameters\n",
    "        ----------\n",
    "        x0 : ndarray of shape (n,)\n",
    "            The initial state.\n",
    "        N : integer\n",
    "            The number of time steps to evolve.\n",
    "\n",
    "        Returns\n",
    "        -------\n",
    "        states : ndarray of shape (n,N)\n",
    "            The i-th column gives the i-th state.\n",
    "        obs : ndarray of shape (m,N)\n",
    "            The i-th column gives the i-th observation.\n",
    "        \"\"\"\n",
    "        #initialize states matrix\n",
    "        n=len(x0)\n",
    "        m=len(self.H@x0)\n",
    "        states=np.zeros((n,N))\n",
    "        states[:,0]=x0\n",
    "        obs=np.zeros((m,N))\n",
    "        obs[:,0]=self.H@(states[:,0])\n",
    "        for i in range(1,N):\n",
    "            #get noise\n",
    "            w=np.random.multivariate_normal(np.zeros_like(states[:,0]), self.Q)\n",
    "            v=np.random.multivariate_normal(np.zeros_like(obs[:,0]), self.R)\n",
    "            #update states\n",
    "            states[:,i]=self.F@states[:,i-1]+self.u+w\n",
    "            #update obs\n",
    "            obs[:,i]=self.H@states[:,i]+v\n",
    "        return states, obs\n",
    "\n",
    "    def estimate(self,x0,P0,z, return_norms = False):\n",
    "        \"\"\"\n",
    "        Compute the state estimates using the kalman filter.\n",
    "\n",
    "        Parameters\n",
    "        ----------\n",
    "        x0 : ndarray of shape (n,)\n",
    "            The initial state estimate.\n",
    "        P0 : ndarray of shape (n,n)\n",
    "            The initial error covariance matrix.\n",
    "        z : ndarray of shape(m,N)\n",
    "            Sequence of N observations (each column is an observation).\n",
    "\n",
    "        Returns\n",
    "        -------\n",
    "        out : ndarray of shape (n,N)\n",
    "            Sequence of state estimates (each column is an estimate).\n",
    "        \"\"\"\n",
    "        #initialize states matrix\n",
    "        n=len(x0)\n",
    "        m,N=z.shape\n",
    "        states=np.zeros((n,N))\n",
    "        P=P0\n",
    "        states[:,0]=x0\n",
    "        #iterate to get states\n",
    "        for i in range(1,N):\n",
    "            #predict phase\n",
    "            xkk1=self.F@states[:,i-1]+self.u\n",
    "            Pkk1=self.F@P@self.F.T+self.Q\n",
    "            #update step\n",
    "            y=z[:,i]-self.H@xkk1\n",
    "            S=self.H@Pkk1@self.H.T+self.R\n",
    "            K=Pkk1@self.H.T@inv(S)\n",
    "            states[:,i]=xkk1+K@y\n",
    "            P=(np.eye(n)-K@self.H)@P\n",
    "        return states\n",
    "            \n",
    "    \n",
    "    def predict(self,x,k):\n",
    "        \"\"\"\n",
    "        Predict the next k states in the absence of observations.\n",
    "\n",
    "        Parameters\n",
    "        ----------\n",
    "        x : ndarray of shape (n,)\n",
    "            The current state estimate.\n",
    "        k : integer\n",
    "            The number of states to predict.\n",
    "\n",
    "        Returns\n",
    "        -------\n",
    "        out : ndarray of shape (n,k)\n",
    "            The next k predicted states.\n",
    "        \"\"\"\n",
    "        #initialize states matrix\n",
    "        n=len(x)\n",
    "        states=np.zeros((n,k))\n",
    "        states[:,0]=self.F@x+self.u\n",
    "        #iterate to get k next steps\n",
    "        for i in range(1,k):\n",
    "            states[:,i]=self.F@states[:,i-1]+self.u\n",
    "        return states\n",
    "    \n",
    "    def rewind(self,x,k):\n",
    "        \"\"\"\n",
    "        Predict the states from time 0 through k-1 in the absence of observations.\n",
    "    \n",
    "        Parameters\n",
    "        ----------\n",
    "        x : ndarray of shape (n,)\n",
    "            The state estimate at time k.\n",
    "        k : integer\n",
    "            The current time step.\n",
    "    \n",
    "        Returns\n",
    "        -------\n",
    "        out : ndarray of shape (n,k)\n",
    "            The predicted states from time 0 up through k-1 (in that order).\n",
    "        \"\"\"\n",
    "        #get F^-1\n",
    "        Finv=inv(self.F)\n",
    "        n=len(x)\n",
    "        states=np.zeros((n,k))\n",
    "        #get most previous step\n",
    "        states[:,-1]=Finv@(x-self.u)\n",
    "        #iterate to get k steps\n",
    "        for i in range(k-2,-1,-1):\n",
    "            states[:,i]=Finv@(states[:,i+1]-self.u)\n",
    "        return states\n"
   ]
  },
  {
   "cell_type": "code",
   "execution_count": null,
   "metadata": {},
   "outputs": [],
   "source": [
    "F=np.linspace(.05,2.5,20)\n",
    "Q=np.linspace(0.001,0.02,4)\n",
    "H=np.linspace(0.001,3,20)\n",
    "R=np.linspace(0.0001,.5,4)\n",
    "best_mse=np.inf\n",
    "for f in F:\n",
    "    for q in Q:\n",
    "        for h in H:\n",
    "            for r in R:\n",
    "                kf=KalmanFilter(np.array([[f]]),np.array([[q]]),np.array([[h]]),np.array([[r]]),u=np.zeros(1))\n",
    "                states, obs= kf.evolve([avg_percent_cover_allcoral_yawzi.iloc[0]], 30)\n",
    "                mse = np.mean((obs - np.array(avg_percent_cover_allcoral_yawzi)[-5])**2)\n",
    "                if mse < best_mse:\n",
    "                    best_mse = mse\n",
    "                    best_params = (f,q,h,r)\n",
    "                    beststates=states\n",
    "                    bestobs=obs"
   ]
  },
  {
   "cell_type": "code",
   "execution_count": 96,
   "metadata": {},
   "outputs": [],
   "source": [
    "f,q,h,r = (0.9526315789473685, 0.001, 0.1588421052631579, 0.0001)\n",
    "kf=KalmanFilter(np.array([[f]]),np.array([[q]]),np.array([[h]]),np.array([[r]]),u=np.zeros(1))\n",
    "states, bestobs = kf.evolve([avg_percent_cover_allcoral_yawzi.iloc[0]], 40)"
   ]
  },
  {
   "cell_type": "code",
   "execution_count": 97,
   "metadata": {},
   "outputs": [
    {
     "name": "stdout",
     "output_type": "stream",
     "text": [
      "0.010863811043616518\n",
      "(0.9526315789473685, 0.001, 1.263736842105263, 0.0001)\n"
     ]
    },
    {
     "data": {
      "image/png": "[encoded data removed]",
      "text/plain": [
       "<Figure size 640x480 with 1 Axes>"
      ]
     },
     "metadata": {},
     "output_type": "display_data"
    }
   ],
   "source": [
    "print(best_mse)\n",
    "print(best_params)\n",
    "x = np.linspace(1987,2021,len(avg_percent_cover_allcoral_yawzi))\n",
    "x1 = np.linspace(1987,2026,len(states[0]))\n",
    "plt.plot(x,avg_percent_cover_allcoral_yawzi, label = 'True Data')\n",
    "plt.plot(x1, states[0], label = 'Prediction')\n",
    "plt.title('Kalman Filter Prediction for Yawzi')\n",
    "plt.ylabel('Percent Coral Coverage')\n",
    "plt.xlabel('Year')\n",
    "plt.legend()\n",
    "plt.show()\n"
   ]
  },
  {
   "cell_type": "code",
   "execution_count": 82,
   "metadata": {},
   "outputs": [],
   "source": [
    "from sklearn.metrics import mean_squared_error,mean_absolute_error,r2_score"
   ]
  },
  {
   "cell_type": "code",
   "execution_count": 98,
   "metadata": {},
   "outputs": [
    {
     "name": "stdout",
     "output_type": "stream",
     "text": [
      "MSE for Yawzi Test 0.004714895231061715\n",
      "RMSE for Yawzi Test 0.06866509470656627\n",
      "MAE for Yawzi Test 0.06436685871918293\n",
      "R2 for Yawzi Test -52.6212451241687\n"
     ]
    }
   ],
   "source": [
    "print(f\"MSE for Yawzi Test {mean_squared_error(avg_percent_cover_allcoral_yawzi[-5:],states[0][30:-5])}\")\n",
    "print(f\"RMSE for Yawzi Test {np.sqrt(mean_squared_error(avg_percent_cover_allcoral_yawzi[-5:],states[0][30:-5]))}\")\n",
    "print(f\"MAE for Yawzi Test {mean_absolute_error(avg_percent_cover_allcoral_yawzi[-5:],states[0][30:-5])}\")\n",
    "print(f\"R2 for Yawzi Test {r2_score(avg_percent_cover_allcoral_yawzi[-5:],states[0][30:-5])}\")\n"
   ]
  },
  {
   "cell_type": "code",
   "execution_count": 120,
   "metadata": {},
   "outputs": [],
   "source": [
    "F=np.linspace(.05,1.5,20)\n",
    "Q=np.linspace(0.001,0.03,4)\n",
    "H=np.linspace(0.001,2,20)\n",
    "R=np.linspace(0.0001,.5,4)\n",
    "best_mse=np.inf\n",
    "for f in F:\n",
    "    for q in Q:\n",
    "        for h in H:\n",
    "            for r in R:\n",
    "                kf=KalmanFilter(np.array([[f]]),np.array([[q]]),np.array([[h]]),np.array([[r]]),u=np.zeros(1))\n",
    "                states, obs= kf.evolve([avg_percent_cover_allcoral_tektite.iloc[0]], 30)\n",
    "                mse = np.mean((obs - np.array(avg_percent_cover_allcoral_tektite)[-5])**2)\n",
    "                if mse < best_mse:\n",
    "                    best_mse = mse\n",
    "                    best_params = (f,q,h,r)\n",
    "                    beststates=states\n",
    "                    bestobs=obs"
   ]
  },
  {
   "cell_type": "code",
   "execution_count": 143,
   "metadata": {},
   "outputs": [],
   "source": [
    "f,q,h,r = best_params\n",
    "kf=KalmanFilter(np.array([[f]]),np.array([[q]]),np.array([[h]]),np.array([[r]]),u=np.zeros(1))\n",
    "states, bestobs = kf.evolve([avg_percent_cover_allcoral_tektite.iloc[0]], 40)"
   ]
  },
  {
   "cell_type": "code",
   "execution_count": 144,
   "metadata": {},
   "outputs": [
    {
     "name": "stdout",
     "output_type": "stream",
     "text": [
      "0.0039343621682250895\n",
      "(0.9657894736842105, 0.001, 0.9478947368421052, 0.0001)\n"
     ]
    },
    {
     "data": {
      "image/png": "[encoded data removed]",
      "text/plain": [
       "<Figure size 640x480 with 1 Axes>"
      ]
     },
     "metadata": {},
     "output_type": "display_data"
    }
   ],
   "source": [
    "print(best_mse)\n",
    "print(best_params)\n",
    "x = np.linspace(1987,2021,len(avg_percent_cover_allcoral_tektite))\n",
    "x1 = np.linspace(1987,2026,len(bestobs[0]))\n",
    "plt.plot(x,avg_percent_cover_allcoral_tektite,label = 'True Data')\n",
    "plt.plot(x1, states[0], label = 'Prediction')\n",
    "plt.title('Kalman Filter Prediction for Tektite')\n",
    "plt.ylabel('Percent Coral Coverage')\n",
    "plt.xlabel('Year')\n",
    "plt.legend()\n",
    "plt.show()"
   ]
  },
  {
   "cell_type": "code",
   "execution_count": 146,
   "metadata": {},
   "outputs": [
    {
     "name": "stdout",
     "output_type": "stream",
     "text": [
      "MSE for Tektite Test 0.015251066164043328\n",
      "RMSE for Tektite Test 0.12349520704887024\n",
      "MAE for Tektite Test 0.1133635766891387\n",
      "R2 for Tektite Test -6.165586205377412\n"
     ]
    }
   ],
   "source": [
    "print(f\"MSE for Tektite Test {mean_squared_error(avg_percent_cover_allcoral_tektite[-5:],states[0][30:-5])}\")\n",
    "print(f\"RMSE for Tektite Test {np.sqrt(mean_squared_error(avg_percent_cover_allcoral_tektite[-5:],states[0][30:-5]))}\")\n",
    "print(f\"MAE for Tektite Test {mean_absolute_error(avg_percent_cover_allcoral_tektite[-5:],states[0][30:-5])}\")\n",
    "print(f\"R2 for Tektite Test {r2_score(avg_percent_cover_allcoral_tektite[-5:],states[0][30:-5])}\")\n"
   ]
  },
  {
   "cell_type": "code",
   "execution_count": null,
   "metadata": {},
   "outputs": [],
   "source": []
  }
 ],
 "metadata": {
  "kernelspec": {
   "display_name": "Python 3",
   "language": "python",
   "name": "python3"
  },
  "language_info": {
   "codemirror_mode": {
    "name": "ipython",
    "version": 3
   },
   "file_extension": ".py",
   "mimetype": "text/x-python",
   "name": "python",
   "nbconvert_exporter": "python",
   "pygments_lexer": "ipython3",
   "version": "3.10.13"
  },
  "orig_nbformat": 4
 },
 "nbformat": 4,
 "nbformat_minor": 2
}
