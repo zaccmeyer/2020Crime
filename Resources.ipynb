{
 "cells": [
  {
   "cell_type": "markdown",
   "metadata": {},
   "source": [
    "[1] McClendon, Lawrence & Meghanathan, Natarajan. (2015). Using Machine Learning Algorithms to Analyze Crime Data. Machine Learning and Applications: An International Journal. 2. 1-12. 10.5121/mlaij.2015.2101. \n",
    "\n",
    "[2] Department, L. A. P. (2023, December 13). Crime data from 2020 to present: Los Angeles - open data portal. Crime Data from 2020 to Present | Los Angeles - Open Data Portal. https://data.lacity.org/Public-Safety/Crime-Data-from-2020-to-Present/2nrs-mtv8 \n",
    "\n",
    "[3] City of Los Angeles. (2016, September 15). Sheriff and police stations. City of Los Angeles Hub. https://geohub.lacity.org/maps/19d2bcfd18054942bda2c95b47bf1927_146/about The database was updated on April 19, 2022\n",
    "\n",
    "[4]Los Angeles County Sheriff’s Department. (2023, November 23). Statistics and reports. Los Angeles County Sheriff’s Department. https://lasd.org/transparency/statistics/ \n",
    "\n",
    "[5] Mansoor, S. (2020, September 9). Why many U.S. crime victims don’t get money meant to help. Time. https://time.com/5886815/crime-survivors-funding/ \n",
    "\n",
    "[6] De La Rue L, Ortega L, Rodriguez GC. System-based victim advocates identify resources and barriers to supporting crime victims. Int Rev Vict. 2023 Jan;29(1):16-26. doi: 10.1177/02697580221088340. Epub 2022 Apr 27. PMID: 36644331; PMCID: PMC9837801.\n",
    "\n",
    "[7] Shah, N., Bhagat, N. & Shah, M. Crime forecasting: a machine learning and computer vision approach to crime prediction and prevention. Vis. Comput. Ind. Biomed. Art 4, 9 (2021). https://doi.org/10.1186/s42492-021-00075-z"
   ]
  }
 ],
 "metadata": {
  "kernelspec": {
   "display_name": "Python 3 (ipykernel)",
   "language": "python",
   "name": "python3"
  },
  "language_info": {
   "codemirror_mode": {
    "name": "ipython",
    "version": 3
   },
   "file_extension": ".py",
   "mimetype": "text/x-python",
   "name": "python",
   "nbconvert_exporter": "python",
   "pygments_lexer": "ipython3",
   "version": "3.8.8"
  }
 },
 "nbformat": 4,
 "nbformat_minor": 2
}
