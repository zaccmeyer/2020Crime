{
 "cells": [
  {
   "cell_type": "code",
   "execution_count": 2,
   "metadata": {},
   "outputs": [],
   "source": [
    "import numpy as np\n",
    "import pandas as pd"
   ]
  },
  {
   "cell_type": "code",
   "execution_count": 3,
   "metadata": {},
   "outputs": [],
   "source": [
    "df = pd.read_csv('Crime_Data_from_2020_to_Present.csv')"
   ]
  },
  {
   "cell_type": "code",
   "execution_count": 9,
   "metadata": {},
   "outputs": [
    {
     "name": "stdout",
     "output_type": "stream",
     "text": [
      "['DR_NO', 'Date Rptd', 'DATE OCC', 'TIME OCC', 'AREA', 'AREA NAME', 'Rpt Dist No', 'Part 1-2', 'Crm Cd', 'Crm Cd Desc', 'Mocodes', 'Vict Age', 'Vict Sex', 'Premis Cd', 'Premis Desc', 'Weapon Used Cd', 'Weapon Desc', 'Crm Cd 1', 'Crm Cd 2', 'Crm Cd 3', 'Crm Cd 4', 'LOCATION', 'Cross Street', 'LAT', 'LON']\n"
     ]
    }
   ],
   "source": [
    "#DATA CLEANING CELL\n",
    "my_data = pd.read_csv('Crime_Data_from_2020_to_Present.csv')\n",
    "# print(len(my_data.columns))\n",
    "my_data = my_data.drop(columns=['Vict Descent','Status','Status Desc'])\n",
    "# print(len(my_data.columns))\n",
    "all_c = list(my_data.columns)\n",
    "print(all_c)\n",
    "final = []\n",
    "for i in all_c:\n",
    "    if 'Crm' not in i:\n",
    "        final.append(i)\n",
    "final.append('Crm Cd')\n",
    "# print(len(final))\n",
    "my_data.dropna(inplace=True,subset=final)\n",
    "# my_data = my_data[my_data['LON'] != 0]\n",
    "# my_data = my_data[my_data['LAT'] != 0]\n",
    "df = my_data.copy()"
   ]
  },
  {
   "cell_type": "code",
   "execution_count": 29,
   "metadata": {},
   "outputs": [
    {
     "name": "stdout",
     "output_type": "stream",
     "text": [
      "32\n"
     ]
    }
   ],
   "source": [
    "# CODE TO DROP CRIMES WITH ONLY A FEW INCIDENTS\n",
    "X = df.drop(columns=['Crm Cd 1', 'Crm Cd 2', 'Crm Cd 3', 'Crm Cd 4', 'Crm Cd'])\n",
    "y = df['Crm Cd']\n",
    "# allowed number of crime incidents to keep in data\n",
    "num_incidents = 100\n",
    "crimes = []\n",
    "for i in set(y):\n",
    "    if len(df[df['Crm Cd']==i])>num_incidents:\n",
    "        crimes.append(i)\n",
    "\n",
    "new_df = len(df[df['Crm Cd'].isin(crimes)])\n"
   ]
  },
  {
   "cell_type": "markdown",
   "metadata": {},
   "source": [
    "\n",
    "When deciding which features to include in our models, we first dropped those that had potential ethical issues, as mentioned above. After that, we removed the columns corresponding to secondary crimes, as we decided that those may too directly relate to the primary crime. Also, we decided it to be an unlikely scenario in which one would be aware of secondary crimes but not the primary. We also decided to drop the status of the case because that is irrelevant to when the crime actually occurred. Finally, we removed any columns with duplicate information (i.e.) linearly dependent columns, such as the crime description and weapon description. With each model, there were additional measures taken to select which features to use. "
   ]
  },
  {
   "cell_type": "markdown",
   "metadata": {},
   "source": [
    "Though none of our models were particularly accurate in predicting types of crime, they weren't entirely unsuccessful. Our random forest classifier works about 50% of the time"
   ]
  },
  {
   "cell_type": "markdown",
   "metadata": {},
   "source": []
  }
 ],
 "metadata": {
  "kernelspec": {
   "display_name": "Python 3",
   "language": "python",
   "name": "python3"
  },
  "language_info": {
   "codemirror_mode": {
    "name": "ipython",
    "version": 3
   },
   "file_extension": ".py",
   "mimetype": "text/x-python",
   "name": "python",
   "nbconvert_exporter": "python",
   "pygments_lexer": "ipython3",
   "version": "3.10.13"
  }
 },
 "nbformat": 4,
 "nbformat_minor": 2
}
